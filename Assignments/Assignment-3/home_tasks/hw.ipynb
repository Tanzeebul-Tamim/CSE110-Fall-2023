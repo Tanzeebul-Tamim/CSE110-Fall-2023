{
 "cells": [
  {
   "cell_type": "markdown",
   "metadata": {},
   "source": [
    "**HW-1)**  \n",
    "Write a Python code for the following:  \n",
    "- Ask the user to enter a Number, **N**.\n",
    "- From **1 to N (inclusive)**, display the summation of all numbers that are multiples of **either 7 or 9 but not a multiple of both**."
   ]
  },
  {
   "cell_type": "code",
   "execution_count": 3,
   "metadata": {},
   "outputs": [
    {
     "name": "stdout",
     "output_type": "stream",
     "text": [
      "583\n"
     ]
    }
   ],
   "source": [
    "N = int(input())\n",
    "total_sum = 0\n",
    "\n",
    "for i in range(1, N+1):\n",
    "    if (i % 7 == 0 or i % 9 == 0) and not (i % 7 == 0 and i % 9 == 0):\n",
    "        total_sum += i\n",
    "\n",
    "print(total_sum)"
   ]
  },
  {
   "cell_type": "markdown",
   "metadata": {},
   "source": [
    "**HW-2)**  \n",
    "Write a Python program that takes a number from the user and prints its digits from left to right. Consider the input number to be an **INTEGER**. You are not allowed to use String indexing for solving this task.\n",
    "\n",
    "_**Hint(1):** The input() function takes the input data as String data type by default. Please convert it to an integer before starting your code for the task._  \n",
    "_**Hint(2):** First, count how many digits are there in the input number. Then, calculate 10 to the power (number of digits - 1)._"
   ]
  },
  {
   "cell_type": "code",
   "execution_count": 7,
   "metadata": {},
   "outputs": [
    {
     "name": "stdout",
     "output_type": "stream",
     "text": [
      "3, 2, 7, 6, 8"
     ]
    }
   ],
   "source": [
    "number = int(input(\"Enter an integer: \"))\n",
    "temp = number\n",
    "num_digits = 0\n",
    "\n",
    "while temp > 0:\n",
    "    num_digits += 1\n",
    "    temp //= 10\n",
    "\n",
    "divisor = 10**(num_digits - 1)\n",
    "\n",
    "while divisor > 0:\n",
    "    digit = number // divisor\n",
    "    print(digit, end=\", \" if divisor > 1 else \"\")\n",
    "    number %= divisor\n",
    "    divisor //= 10"
   ]
  },
  {
   "cell_type": "markdown",
   "metadata": {},
   "source": [
    "**HW-3)**  \n",
    "Write a Python program that asks the user for an integer number and tells if it is a prime number or a perfect number or neither.\n",
    "\n",
    "**Note:** A number cannot be both prime and perfect.  \n",
    "**Prime Number:** If a number has only two divisors, (1 and itself), then it is a prime number. Else, then it is not a prime number.  \n",
    "**Perfect Number:** A number is said to be a perfect number if the sum of its divisors, including 1 but not the number itself is equal to that number.  \n",
    "\n",
    "_**Hint:** You may take help from Class Task 4 for finding the divisors._"
   ]
  },
  {
   "cell_type": "code",
   "execution_count": 10,
   "metadata": {},
   "outputs": [
    {
     "name": "stdout",
     "output_type": "stream",
     "text": [
      "33 is neither a prime number nor a perfect number.\n"
     ]
    }
   ],
   "source": [
    "num = int(input(\"Enter an integer: \"))\n",
    "is_prime = True\n",
    "\n",
    "if num > 1:\n",
    "    for i in range(2, int(num ** 0.5) + 1):\n",
    "        if num % i == 0:\n",
    "            is_prime = False\n",
    "            break\n",
    "else:\n",
    "    is_prime = False\n",
    "\n",
    "if is_prime:\n",
    "    print(f\"{num} is a prime number.\")\n",
    "else:\n",
    "    sum_of_divisors = 0\n",
    "\n",
    "    for i in range(1, num):\n",
    "        if num % i == 0:\n",
    "            sum_of_divisors += i\n",
    "\n",
    "    if sum_of_divisors == num:\n",
    "        print(f\"{num} is a perfect number.\")\n",
    "    else:\n",
    "        print(f\"{num} is neither a prime number nor a perfect number.\")"
   ]
  },
  {
   "cell_type": "markdown",
   "metadata": {},
   "source": [
    "**HW-4)**  \n",
    "Write a Python program that asks the user for a quantity, then takes that many numbers as input and prints the maximum, minimum and average of those numbers.  \n",
    "\n",
    "[Please note that you **CANNOT** use `max`, `min` built-in functions]  \n",
    "[Also, you **DO NOT NEED TO USE** `lists` for this task]"
   ]
  },
  {
   "cell_type": "code",
   "execution_count": 11,
   "metadata": {},
   "outputs": [
    {
     "name": "stdout",
     "output_type": "stream",
     "text": [
      "Maximum: 10\n",
      "Minimum: -100\n",
      "Average: -17.2\n"
     ]
    }
   ],
   "source": [
    "quantity = int(input(\"Enter the quantity of numbers: \"))\n",
    "sum_of_numbers = 0\n",
    "max_number = None\n",
    "min_number = None\n",
    "\n",
    "for _ in range(quantity):\n",
    "    num = int(input(f\"Enter the number no {i+1}: \"))\n",
    "\n",
    "    if max_number is None or num > max_number:\n",
    "        max_number = num\n",
    "\n",
    "    if min_number is None or num < min_number:\n",
    "        min_number = num\n",
    "\n",
    "    sum_of_numbers += num\n",
    "\n",
    "average = sum_of_numbers / quantity\n",
    "\n",
    "print(\"Maximum:\", max_number)\n",
    "print(\"Minimum:\", min_number)\n",
    "print(\"Average:\", average)"
   ]
  },
  {
   "cell_type": "markdown",
   "metadata": {},
   "source": [
    "**HW-5)**  \n",
    "Write a python program that prints a right-angled triangle of height **N** using incrementing numbers where **N** will be given as input.  \n",
    "\n",
    "_**Hint:** You may need to use nested loops. Try to think up to which point the inner loop should run._"
   ]
  },
  {
   "cell_type": "code",
   "execution_count": 17,
   "metadata": {},
   "outputs": [
    {
     "name": "stdout",
     "output_type": "stream",
     "text": [
      "1\n",
      "12\n",
      "123\n",
      "1234\n",
      "12345\n"
     ]
    }
   ],
   "source": [
    "N = int(input(\"Enter the height of the triangle: \"))\n",
    "\n",
    "for i in range(1, N + 1):\n",
    "    for j in range(1, i + 1):\n",
    "        print(j, end=\"\")\n",
    "\n",
    "    print()"
   ]
  },
  {
   "cell_type": "markdown",
   "metadata": {},
   "source": [
    "**HW-6)**  \n",
    "Illustrate the outputs of the following statements. Your answer will not be accepted without the workings.\n",
    "\n",
    "```python\n",
    "x = 0\n",
    "y = 0\n",
    "q = 0\n",
    "sum = 0\n",
    "\n",
    "while x < 10:\n",
    "    p = 0.0\n",
    "    p = x + y - sum + int(5 / 3) / 3.0 % 2**3\n",
    "    y = x // 5\n",
    "\n",
    "    while y < x:\n",
    "        q = (x + 10.0) / 2\n",
    "        sum = (sum % 2) + y + int(p)\n",
    "        print(sum)\n",
    "        y = y + 4\n",
    "\n",
    "    if x > 5:\n",
    "        x += 3\n",
    "    else:\n",
    "        x += 2\n",
    "        print(int(p) + q)\n",
    "\n",
    "print(sum - q)\n",
    "```\n",
    "\n",
    "| Output |\n",
    "| ------ |\n",
    "| 0      |\n",
    "| 2      |\n",
    "| 8.0    |\n",
    "| 6      |\n",
    "| 13.0   |\n",
    "| 5      |\n",
    "| 10     |\n",
    "| 9      |\n",
    "| 14     |\n",
    "| 4.5    |"
   ]
  },
  {
   "cell_type": "code",
   "execution_count": 24,
   "metadata": {},
   "outputs": [
    {
     "name": "stdout",
     "output_type": "stream",
     "text": [
      "0\n",
      "2\n",
      "8.0\n",
      "6\n",
      "13.0\n",
      "5\n",
      "10\n",
      "9\n",
      "14\n",
      "4.5\n"
     ]
    }
   ],
   "source": [
    "x = 0\n",
    "y = 0\n",
    "q = 0\n",
    "sum = 0\n",
    "\n",
    "while x < 10:\n",
    "    p = 0.0\n",
    "    p = x + y - sum + int(5 / 3) / 3.0 % 2**3\n",
    "    y = x // 5\n",
    "\n",
    "    while y < x:\n",
    "        q = (x + 10.0) / 2\n",
    "        sum = (sum % 2) + y + int(p)\n",
    "        print(sum)\n",
    "        y = y + 4\n",
    "\n",
    "    if x > 5:\n",
    "        x += 3\n",
    "    else:\n",
    "        x += 2\n",
    "        print(int(p) + q)\n",
    "        \n",
    "print(sum - q)"
   ]
  },
  {
   "cell_type": "markdown",
   "metadata": {},
   "source": [
    "**HW-7)**  \n",
    "Illustrate the outputs of the following statements. Your answer will not be accepted without the workings.\n",
    "\n",
    "```python\n",
    "test = 1\n",
    "j = 0\n",
    "k = 100\n",
    "\n",
    "while k > 0:\n",
    "    while j < k:\n",
    "        test += k + j - 21\n",
    "        print(1 + int(test / 2))\n",
    "        j += 10\n",
    "        \n",
    "    k -= 10\n",
    "    test = 1\n",
    "```\n",
    "\n",
    "| Output |\n",
    "| ------ |\n",
    "| 41     |\n",
    "| 85     |\n",
    "| 135    |\n",
    "| 189    |\n",
    "| 249    |\n",
    "| 313    |\n",
    "| 383    |\n",
    "| 457    |\n",
    "| 537    |\n",
    "| 621    |"
   ]
  },
  {
   "cell_type": "code",
   "execution_count": 19,
   "metadata": {},
   "outputs": [
    {
     "name": "stdout",
     "output_type": "stream",
     "text": [
      "41\n",
      "85\n",
      "135\n",
      "189\n",
      "249\n",
      "313\n",
      "383\n",
      "457\n",
      "537\n",
      "621\n"
     ]
    }
   ],
   "source": [
    "test = 1\n",
    "j = 0\n",
    "k = 100\n",
    "\n",
    "while k > 0:\n",
    "    while j < k:\n",
    "        test += k + j - 21\n",
    "        print(1 + int(test / 2))\n",
    "        j += 10\n",
    "        \n",
    "    k -= 10\n",
    "    test = 1"
   ]
  },
  {
   "cell_type": "markdown",
   "metadata": {},
   "source": [
    "**HW-8)**  \n",
    "Illustrate the outputs of the following statements. Your answer will not be accepted without the workings.\n",
    "\n",
    "```python\n",
    "p = 0\n",
    "r = 0\n",
    "while p < 7:\n",
    "    q = 1\n",
    "\n",
    "    while q <= p:\n",
    "        q = q + 1\n",
    "\n",
    "        if q == 4 or q == 5:\n",
    "            continue\n",
    "            print(p - q * 2)\n",
    "        elif p == 6:\n",
    "            break\n",
    "            print(p % q)\n",
    "        else:\n",
    "            r = p * q - int(21 / q)\n",
    "            print(r)\n",
    "\n",
    "    p = p + 1\n",
    "```\n",
    "\n",
    "| Output |\n",
    "| ------ |\n",
    "| -8     |\n",
    "| -6     |\n",
    "| -1     |\n",
    "| -4     |\n",
    "| 2      |\n",
    "| -2     |\n",
    "| 5      |\n",
    "| 0      |\n",
    "| 8      |\n",
    "| 27     |"
   ]
  },
  {
   "cell_type": "code",
   "execution_count": 20,
   "metadata": {},
   "outputs": [
    {
     "name": "stdout",
     "output_type": "stream",
     "text": [
      "-8\n",
      "-6\n",
      "-1\n",
      "-4\n",
      "2\n",
      "-2\n",
      "5\n",
      "0\n",
      "8\n",
      "27\n"
     ]
    }
   ],
   "source": [
    "p = 0\n",
    "r = 0\n",
    "while p < 7:\n",
    "    q = 1\n",
    "\n",
    "    while q <= p:\n",
    "        q = q + 1\n",
    "\n",
    "        if q == 4 or q == 5:\n",
    "            continue\n",
    "            print(p - q * 2)\n",
    "        elif p == 6:\n",
    "            break\n",
    "            print(p % q)\n",
    "        else:\n",
    "            r = p * q - int(21 / q)\n",
    "            print(r)\n",
    "            \n",
    "    p = p + 1"
   ]
  }
 ],
 "metadata": {
  "kernelspec": {
   "display_name": "Python 3",
   "language": "python",
   "name": "python3"
  },
  "language_info": {
   "codemirror_mode": {
    "name": "ipython",
    "version": 3
   },
   "file_extension": ".py",
   "mimetype": "text/x-python",
   "name": "python",
   "nbconvert_exporter": "python",
   "pygments_lexer": "ipython3",
   "version": "3.8.2"
  }
 },
 "nbformat": 4,
 "nbformat_minor": 2
}
