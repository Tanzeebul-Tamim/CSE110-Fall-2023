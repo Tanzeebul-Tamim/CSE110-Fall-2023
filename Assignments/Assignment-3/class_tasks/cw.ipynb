{
 "cells": [
  {
   "cell_type": "markdown",
   "metadata": {},
   "source": [
    "**CW-1)**  \n",
    "Write the python program, which prints the following sequences of values in loops:\n",
    "- 24, 18, 12, 6, 0, -6\n",
    "- 18, 27, 36, 45, 54, 63  \n",
    "\n",
    "_**Hint(1):** You may use a while loop for solving these problems._  \n",
    "_**Hint(2):** We are already familiar with the print() function. But, when we use it to print any value, it automatically adds an additional newline after each print statement. To solve this problem, in Python3, we can add an extra argument (end = \" \") in the print function which tells the program to skip printing the additional newline._"
   ]
  },
  {
   "cell_type": "code",
   "execution_count": 2,
   "metadata": {},
   "outputs": [
    {
     "name": "stdout",
     "output_type": "stream",
     "text": [
      "24, 18, 12, 6, 0, -6\n",
      "18, 27, 36, 45, 54, 63"
     ]
    }
   ],
   "source": [
    "x = 24\n",
    "while x >= -6:\n",
    "    if x == -6:\n",
    "        print(x, end = \"\") \n",
    "    else:\n",
    "        print(x, end = \", \")\n",
    "    x -= 6\n",
    "\n",
    "print()\n",
    "\n",
    "y = 18\n",
    "while y <= 63:\n",
    "    if y == 63:\n",
    "        print(y, end = \"\") \n",
    "    else:\n",
    "        print(y, end = \", \")\n",
    "    y += 9"
   ]
  },
  {
   "cell_type": "markdown",
   "metadata": {},
   "source": [
    "**CW-2)**  \n",
    "Write a Python code that will calculate the **value of y** if the expression of y is as follows:  \n",
    " \n",
    "**(n is the input):**  \n",
    "$ y = 1^2 - 2^2 + 3^2 - 4^2 + 5^2 \\ldots + n^2 $"
   ]
  },
  {
   "cell_type": "code",
   "execution_count": 5,
   "metadata": {},
   "outputs": [
    {
     "name": "stdout",
     "output_type": "stream",
     "text": [
      "-55\n"
     ]
    }
   ],
   "source": [
    "n = int(input())\n",
    "y = 0\n",
    "for i in range(1, n + 1):\n",
    "    if i % 2 != 0:\n",
    "        y += i**2\n",
    "    else:\n",
    "        y -= i**2\n",
    "print(y)\n"
   ]
  },
  {
   "cell_type": "markdown",
   "metadata": {},
   "source": [
    "**CW-3)**  \n",
    "Write a Python program which takes a number and prints the digits from the unit place, then the tenth, then hundredth, etc. **(Right to Left)**  \n",
    "Consider the input number to be an **INTEGER**. **You are not allowed to use String indexing** for solving this task\n",
    "\n",
    "_**Hint(1):** The `input()` function, converts the input data to `String` data type by default. Therefore, type cast it to an integer before proceeding further._  \n",
    "_**Hint(2):** First to get the digit from the right side, we can take the **remainder** of the number using **modulus** `%` operator, i.e. mod 10 to get the rightmost digit and print it. For dropping the last digit, we can perform **floor division** by 10 on the number and then continue the same to print the other digits as shown below._"
   ]
  },
  {
   "cell_type": "code",
   "execution_count": 7,
   "metadata": {},
   "outputs": [
    {
     "name": "stdout",
     "output_type": "stream",
     "text": [
      "8, 6, 7, 2, 3"
     ]
    }
   ],
   "source": [
    "num = int(input(\"Please enter an integer number: \"))\n",
    "\n",
    "first = True\n",
    "while num > 0:\n",
    "    if first:\n",
    "        print(num % 10, end=\"\")\n",
    "        first = False\n",
    "    else:\n",
    "        print(\", \", num % 10, end=\"\", sep=\"\")\n",
    "    num //= 10\n"
   ]
  },
  {
   "cell_type": "markdown",
   "metadata": {},
   "source": [
    "**CW-4)**  \n",
    "Write a Python program that takes a number as input from the user and prints the divisors of that number as well as how many divisors the number has."
   ]
  },
  {
   "cell_type": "code",
   "execution_count": 9,
   "metadata": {},
   "outputs": [
    {
     "name": "stdout",
     "output_type": "stream",
     "text": [
      "1\n",
      "11\n",
      "121\n",
      "Total 3 divisors.\n"
     ]
    }
   ],
   "source": [
    "num = int(input(\"Please enter an integer number: \"))\n",
    "divisors = []\n",
    "\n",
    "for i in range(1, num + 1):\n",
    "    if num % i == 0:\n",
    "        divisors.append(i)\n",
    "\n",
    "for divisor in divisors:\n",
    "    print(divisor)\n",
    "print(\"Total\", len(divisors), \"divisors.\")"
   ]
  },
  {
   "cell_type": "markdown",
   "metadata": {},
   "source": [
    "**CW-5)**  \n",
    "Write a python program that prints a rectangle of size **M (height/line numbers)** and **N (length/column numbers)** using incrementing numbers where M and N will be given as input.\n",
    "\n",
    "_**Hint:** You may need to use nested loops and print the loop counter variable in one of the loops._"
   ]
  },
  {
   "cell_type": "code",
   "execution_count": null,
   "metadata": {},
   "outputs": [],
   "source": [
    "M = int(input(\"Enter the height of the rectangle: \"))\n",
    "N = int(input(\"Enter the length of the rectangle: \"))\n",
    "\n",
    "for i in range(M):\n",
    "    for j in range(1, N + 1):\n",
    "        print(j, end=\"\")\n",
    "    print()"
   ]
  },
  {
   "cell_type": "markdown",
   "metadata": {},
   "source": [
    "**CW-6)**  \n",
    "Illustrate the outputs of the following statements. Your answer will not be accepted without the\n",
    "workings\n",
    "\n",
    "```python\n",
    "x = 0\n",
    "y = 0\n",
    "sum = 0\n",
    "p = 0.0\n",
    "\n",
    "while x < 10:\n",
    "    y = x // 2\n",
    "    while y < x:\n",
    "        p = (x + 10.0) / 2\n",
    "        sum = (sum % 2) + x - y * 2 + int(p)\n",
    "        print(sum)\n",
    "        y = y + 2\n",
    "\n",
    "    if x > 5:\n",
    "        x += 1\n",
    "    else:\n",
    "        x += 2\n",
    "```\n",
    "\n",
    "| Output |\n",
    "| ------ |\n",
    "| 6      |\n",
    "| 7      |\n",
    "| 9      |\n",
    "| 5      |\n",
    "| 10     |\n",
    "| 5      |\n",
    "| 10     |\n",
    "| 5      |\n",
    "| 11     |\n",
    "| 7      |\n",
    "| 3      |\n"
   ]
  },
  {
   "cell_type": "code",
   "execution_count": 15,
   "metadata": {},
   "outputs": [
    {
     "name": "stdout",
     "output_type": "stream",
     "text": [
      "6\n",
      "7\n",
      "9\n",
      "5\n",
      "10\n",
      "5\n",
      "10\n",
      "5\n",
      "11\n",
      "7\n",
      "3\n"
     ]
    }
   ],
   "source": [
    "x = 0\n",
    "y = 0\n",
    "sum = 0\n",
    "p = 0.0\n",
    "\n",
    "while x < 10:\n",
    "    y = x // 2\n",
    "    while y < x:\n",
    "        p = (x + 10.0) / 2\n",
    "        sum = (sum % 2) + x - y * 2 + int(p)\n",
    "        print(sum)\n",
    "        y = y + 2\n",
    "\n",
    "    if x > 5:\n",
    "        x += 1\n",
    "    else:\n",
    "        x += 2"
   ]
  }
 ],
 "metadata": {
  "kernelspec": {
   "display_name": "Python 3",
   "language": "python",
   "name": "python3"
  },
  "language_info": {
   "codemirror_mode": {
    "name": "ipython",
    "version": 3
   },
   "file_extension": ".py",
   "mimetype": "text/x-python",
   "name": "python",
   "nbconvert_exporter": "python",
   "pygments_lexer": "ipython3",
   "version": "3.8.2"
  }
 },
 "nbformat": 4,
 "nbformat_minor": 2
}
