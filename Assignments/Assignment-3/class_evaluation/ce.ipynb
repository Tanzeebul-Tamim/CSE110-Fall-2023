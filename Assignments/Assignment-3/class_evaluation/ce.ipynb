{
 "cells": [
  {
   "cell_type": "markdown",
   "metadata": {},
   "source": [
    "**CE-1)**  \n",
    "Write the Python programs, that print the following sequences of values in loops:  \n",
    "**18, -27, 36, -45, 54, -63**\n",
    "\n",
    "_**Hint(1):** `print(5 * (-1))` gives output -5_  \n",
    "_**Hint(2):** `print(\"-\" + str(5))` gives output -5_"
   ]
  },
  {
   "cell_type": "code",
   "execution_count": 4,
   "metadata": {},
   "outputs": [
    {
     "name": "stdout",
     "output_type": "stream",
     "text": [
      "18, -27, 36, -45, 54, -63"
     ]
    }
   ],
   "source": [
    "count = 0\n",
    "\n",
    "for i in range(18, 64, 9):\n",
    "    print(i if count % 2 == 0 else -i, end=\"\" if i == 63 else \", \")\n",
    "    count += 1"
   ]
  },
  {
   "cell_type": "markdown",
   "metadata": {},
   "source": [
    "**CE-2)**  \n",
    "Write a Python code that will read 5 numbers from the user. Your program should print the first number, the product of the first 2 numbers, the product of the first 3 numbers, and so on up to the product of 5 numbers."
   ]
  },
  {
   "cell_type": "code",
   "execution_count": 8,
   "metadata": {},
   "outputs": [
    {
     "name": "stdout",
     "output_type": "stream",
     "text": [
      "-10\n",
      "20\n",
      "60\n",
      "120\n",
      "-120\n"
     ]
    }
   ],
   "source": [
    "product = 1\n",
    "for i in range(1, 6):\n",
    "    num = int(input(f\"Please enter the element no {i + 1}\"))\n",
    "    product *= num\n",
    "    print(product)"
   ]
  }
 ],
 "metadata": {
  "kernelspec": {
   "display_name": "Python 3",
   "language": "python",
   "name": "python3"
  },
  "language_info": {
   "codemirror_mode": {
    "name": "ipython",
    "version": 3
   },
   "file_extension": ".py",
   "mimetype": "text/x-python",
   "name": "python",
   "nbconvert_exporter": "python",
   "pygments_lexer": "ipython3",
   "version": "3.8.2"
  }
 },
 "nbformat": 4,
 "nbformat_minor": 2
}
