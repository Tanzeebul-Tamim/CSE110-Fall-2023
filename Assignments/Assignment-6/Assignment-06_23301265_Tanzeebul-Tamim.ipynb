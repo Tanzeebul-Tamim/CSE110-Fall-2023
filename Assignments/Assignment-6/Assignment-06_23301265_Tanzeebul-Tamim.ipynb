{
 "cells": [
  {
   "cell_type": "markdown",
   "metadata": {},
   "source": [
    "**Task-1)**  \n",
    "Write a Python program that reads 5 numbers from the user and enters it into a **list**. Upon entering each number, show the list as output.  \n",
    "Complete the above task with and without the `append()` function.\n"
   ]
  },
  {
   "cell_type": "code",
   "execution_count": 1,
   "metadata": {},
   "outputs": [
    {
     "name": "stdout",
     "output_type": "stream",
     "text": [
      "[5]\n",
      "[5, 3]\n",
      "[5, 3, 6]\n",
      "[5, 3, 6, 3]\n",
      "[5, 3, 6, 3, 6]\n"
     ]
    }
   ],
   "source": [
    "# With append function\n",
    "\n",
    "final_list = []\n",
    "\n",
    "for i in range(5):\n",
    "    user_input = int(input(\"Please enter a number: \"))\n",
    "    final_list.append(user_input)\n",
    "    print(final_list)"
   ]
  },
  {
   "cell_type": "code",
   "execution_count": 36,
   "metadata": {},
   "outputs": [
    {
     "name": "stdout",
     "output_type": "stream",
     "text": [
      "[5]\n",
      "[5, 30]\n",
      "[5, 30, 2]\n",
      "[5, 30, 2, 4]\n",
      "[5, 30, 2, 4, -6]\n"
     ]
    }
   ],
   "source": [
    "# Without append function\n",
    "\n",
    "final_list = []\n",
    "\n",
    "for i in range(5):\n",
    "    user_input = int(input(\"Please enter a number: \"))\n",
    "    final_list += [user_input]\n",
    "    print(final_list)"
   ]
  },
  {
   "cell_type": "markdown",
   "metadata": {},
   "source": [
    "**Task-2)**  \n",
    "Take a list of 5 elements as user input and print the list in reverse order. `Slicing` can be used for handling the given list as input. But to reverse the list **YOU MUST NOT USE** `slicing` and `split()`.\n",
    "\n",
    "**Hint:** You may use a loop to show the reversed list as a new list."
   ]
  },
  {
   "cell_type": "code",
   "execution_count": 2,
   "metadata": {},
   "outputs": [
    {
     "name": "stdout",
     "output_type": "stream",
     "text": [
      "[0, 1, 100, -5, 5]\n"
     ]
    }
   ],
   "source": [
    "user_input = input(\"Please enter a list of 5 elements: \")\n",
    "input_list = []\n",
    "temp = \"\"\n",
    "final_list = []\n",
    "\n",
    "for i in range(1, len(user_input) - 1):\n",
    "    if user_input[i] != \",\" and user_input[i] != \" \":\n",
    "        temp += user_input[i]\n",
    "        \n",
    "    elif user_input[i] == \",\":\n",
    "        input_list.append(int(temp))\n",
    "        temp = \"\"\n",
    "        \n",
    "input_list.append(int(temp))\n",
    "\n",
    "for j in range(-1, -len(input_list) - 1, -1):\n",
    "    final_list.append(input_list[j])\n",
    "\n",
    "print(final_list)"
   ]
  },
  {
   "cell_type": "markdown",
   "metadata": {},
   "source": [
    "**Task-3)**  \n",
    "Write a Python program that takes an input from the user, then prints a new list excluding the first and last two elements of the given list. In case of not enough elements in the list, print **\"Not possible\"**.  \n",
    "\n",
    "**Hint:** You may use list slicing **BUT NOT** `split()`.\n"
   ]
  },
  {
   "cell_type": "code",
   "execution_count": 5,
   "metadata": {},
   "outputs": [
    {
     "name": "stdout",
     "output_type": "stream",
     "text": [
      "[]\n"
     ]
    }
   ],
   "source": [
    "user_input = input(\"Please enter your list items: \")\n",
    "input_list = []\n",
    "temp = \"\"\n",
    "\n",
    "for i in range(len(user_input)):\n",
    "    if user_input[i] != \",\" and user_input[i] != \" \":\n",
    "        temp += user_input[i]\n",
    "\n",
    "    elif user_input[i] == \",\":\n",
    "        input_list.append(int(temp))\n",
    "        temp = \"\"\n",
    "\n",
    "input_list.append(int(temp))\n",
    "\n",
    "if len(input_list) >= 4:\n",
    "    final_list = input_list[2 : len(input_list) - 2 :]\n",
    "    print(final_list)\n",
    "    \n",
    "else:\n",
    "    print(\"Not possible\")"
   ]
  },
  {
   "cell_type": "markdown",
   "metadata": {},
   "source": [
    "**Task-4)**  \n",
    "Let’s assume, you have two given lists: ***List_one*** and ***List_two***. Write a Python program that prints **\"True\"**, if the given two lists have at least one common member. Otherwise, prints **\"False\"**.  \n",
    "\n",
    "**Hint:** Please use concepts of **flag** and **break** to solve this task."
   ]
  },
  {
   "cell_type": "code",
   "execution_count": 6,
   "metadata": {},
   "outputs": [
    {
     "name": "stdout",
     "output_type": "stream",
     "text": [
      "False\n"
     ]
    }
   ],
   "source": [
    "def check_common_element(list1, list2):\n",
    "    if type(list1) == list and type(list2) == list:\n",
    "        found_match = False\n",
    "\n",
    "        for i in range(len(list1)):\n",
    "            for j in range(len(list2)):\n",
    "                if list1[i] == list2[j]:\n",
    "                    found_match = True\n",
    "                    break\n",
    "\n",
    "            if found_match:\n",
    "                break\n",
    "\n",
    "        return found_match\n",
    "    \n",
    "    else:\n",
    "        return \"This function requires two lists as arguments\"\n",
    "\n",
    "\n",
    "list_one = [1, 4, 3, 2, 5]\n",
    "list_two = [8, 7, 6, 9]\n",
    "\n",
    "result = check_common_element(list_one, list_two)\n",
    "print(result)"
   ]
  },
  {
   "cell_type": "markdown",
   "metadata": {},
   "source": [
    "**Task 5)**  \n",
    "Suppose you have been given two lists. Write a Python program that replaces the last element of the first list with the second list.  \n",
    "\n",
    "**Note:** Don’t use `remove()` function."
   ]
  },
  {
   "cell_type": "code",
   "execution_count": 7,
   "metadata": {},
   "outputs": [
    {
     "name": "stdout",
     "output_type": "stream",
     "text": [
      "[1, 3, 5, 7, 9, 2, 4, 6, 8]\n"
     ]
    }
   ],
   "source": [
    "def replace_last_element(list1, list2):\n",
    "    if type(list1) == list and type(list2) == list:\n",
    "        final_list = []\n",
    "        for i in range(len(list1) - 1):\n",
    "            final_list.append(list1[i])\n",
    "        for j in range(len(list2)):\n",
    "            final_list.append(list2[j])    \n",
    "        return final_list        \n",
    "    else:\n",
    "        return \"This function requires two lists as arguments\"\n",
    "\n",
    "list_one = [1, 3, 5, 7, 9, 10]\n",
    "list_two = [2, 4, 6, 8]\n",
    "\n",
    "result = replace_last_element(list_one, list_two)\n",
    "print(result)    "
   ]
  },
  {
   "cell_type": "markdown",
   "metadata": {},
   "source": [
    "**Task 6)**  \n",
    "Suppose you have two given lists. Write a Python program that creates a new list with all the **even** elements of both of the given lists and prints the new list. Your program should work for any two given lists."
   ]
  },
  {
   "cell_type": "code",
   "execution_count": 8,
   "metadata": {},
   "outputs": [
    {
     "name": "stdout",
     "output_type": "stream",
     "text": [
      "[2, 4, 6, 8, 10, 12, -14, -16]\n"
     ]
    }
   ],
   "source": [
    "def filter_even_elements(list1, list2):\n",
    "    if type(list1) == list and type(list2):\n",
    "        final_list = []\n",
    "        for i in range(len(list1)):\n",
    "            if type(list1[i]) == int and list1[i] % 2 == 0:\n",
    "                final_list.append(list1[i])\n",
    "\n",
    "        for j in range(len(list2)):\n",
    "            if type(list2[j]) == int and list2[j] % 2 == 0:\n",
    "                final_list.append(list2[j])\n",
    "\n",
    "        return final_list                \n",
    "\n",
    "    else:\n",
    "        return \"This function requires two lists as arguments\"\n",
    "    \n",
    "list1 = [1, 2, 3, 4, 5, 6, 7, 8, 9]\n",
    "list2 = [10, 11, 12, -13, -14, -15,-16]\n",
    "\n",
    "result = filter_even_elements(list1, list2)\n",
    "print(result) "
   ]
  },
  {
   "cell_type": "markdown",
   "metadata": {},
   "source": [
    "**Task-7)**  \n",
    "Design a recursive function called `nested_to_linear()` that takes a **nested list** from the user, and **returns the nested list as a linear one**.  \n",
    "\n",
    "**Note:** Recursion must be used in the `nested_to_linear()` function instead of loop."
   ]
  },
  {
   "cell_type": "code",
   "execution_count": 9,
   "metadata": {},
   "outputs": [
    {
     "name": "stdout",
     "output_type": "stream",
     "text": [
      "['start', 10, 4, 2, 11, 9, 'mid', 3, 1, 0, 6, 8, 'Done']\n"
     ]
    }
   ],
   "source": [
    "def nested_to_linear(nested_list):\n",
    "    if type(nested_list) == list:\n",
    "        linear_list = []\n",
    "\n",
    "        for i in range(len(nested_list)):\n",
    "            if type(nested_list[i]) == list:\n",
    "                linear_list += nested_to_linear(nested_list[i])\n",
    "\n",
    "            else:\n",
    "                linear_list.append(nested_list[i])\n",
    "\n",
    "        return linear_list\n",
    "    \n",
    "    else:\n",
    "        return \"This function requires a list as argument\"\n",
    "\n",
    "nested_list = [\"start\", 10, [4, 2, [11, [9, \"mid\", 3, [1, 0], 6]], 8], \"Done\"]     \n",
    "result = nested_to_linear(nested_list)       \n",
    "print(result)"
   ]
  },
  {
   "cell_type": "markdown",
   "metadata": {},
   "source": [
    "**Task-8)**  \n",
    "Assume you have a class of five students. And as a faculty you need to enter their name and CSE110 GPA in a list called **grade_list**. This particular **grade_list** consists of individual lists of the student's name and GPA. Hence, it makes the **grade_list** a nested list / list of lists.\n",
    "Particular student information will be given as input by the faculty."
   ]
  },
  {
   "cell_type": "code",
   "execution_count": 10,
   "metadata": {},
   "outputs": [
    {
     "name": "stdout",
     "output_type": "stream",
     "text": [
      "[['arif', 3.7]]\n",
      "[['arif', 3.7], ['syed', 4.0]]\n",
      "[['arif', 3.7], ['syed', 4.0], ['rafin', 3.3]]\n",
      "[['arif', 3.7], ['syed', 4.0], ['rafin', 3.3], ['nuha', 3.7]]\n",
      "[['arif', 3.7], ['syed', 4.0], ['rafin', 3.3], ['nuha', 3.7], ['safi', 3.0]]\n"
     ]
    }
   ],
   "source": [
    "grade_list = []\n",
    "\n",
    "for i in range(5):\n",
    "    student_info = input(f\"Please enter the name and GPA of student {i + 1}: \")\n",
    "    temp = \"\"\n",
    "    individual_list = []\n",
    "\n",
    "    for j in range(1, len(student_info) - 1):\n",
    "        if student_info[j] == \",\":\n",
    "            individual_list.append(temp)\n",
    "            temp = \"\"\n",
    "\n",
    "        else:\n",
    "            temp += student_info[j]\n",
    "            \n",
    "    individual_list.append(float(temp))\n",
    "    grade_list.append(individual_list)\n",
    "    print(grade_list)"
   ]
  },
  {
   "cell_type": "markdown",
   "metadata": {},
   "source": [
    "**Tracing-1)**  \n",
    "Trace the following code to generate outputs:\n",
    "\n",
    "```python\n",
    "myList = [0, 0, 0, 0, 0, 0, 0, 0, 0, 0]\n",
    "index1 = 0\n",
    "index2 = 0\n",
    "index1 = 1\n",
    "\n",
    "while index1 < 10:\n",
    "    myList[index1] = index1 + 4\n",
    "    index2 = 1\n",
    "\n",
    "    while index2 < index1:\n",
    "        myList[index1] = myList[index1] + myList[index2] - index1\n",
    "        index2 = index2 + 1\n",
    "\n",
    "    print(myList[index1])\n",
    "    index1 = index1 + 1\n",
    "```\n",
    "\n",
    "| Output |\n",
    "| ------ |\n",
    "| 5      |\n",
    "| 9      |\n",
    "| 15     |\n",
    "| 25     |\n",
    "| 43     |\n",
    "| 77     |\n",
    "| 143    |\n",
    "| 273    |\n",
    "| 531    |\n"
   ]
  },
  {
   "cell_type": "code",
   "execution_count": 2,
   "metadata": {},
   "outputs": [
    {
     "name": "stdout",
     "output_type": "stream",
     "text": [
      "5\n",
      "9\n",
      "15\n",
      "25\n",
      "43\n",
      "77\n",
      "143\n",
      "273\n",
      "531\n"
     ]
    }
   ],
   "source": [
    "myList = [0, 0, 0, 0, 0, 0, 0, 0, 0, 0]\n",
    "index1 = 0\n",
    "index2 = 0\n",
    "index1 = 1\n",
    "\n",
    "while index1 < 10:\n",
    "    myList[index1] = index1 + 4\n",
    "    index2 = 1\n",
    "\n",
    "    while index2 < index1:\n",
    "        myList[index1] = myList[index1] + myList[index2] - index1\n",
    "        index2 = index2 + 1\n",
    "        \n",
    "    print(myList[index1])\n",
    "    index1 = index1 + 1"
   ]
  },
  {
   "cell_type": "markdown",
   "metadata": {},
   "source": [
    "**Tracing-2)**  \n",
    "Trace the following code to generate outputs:\n",
    "\n",
    "```python\n",
    "myList = [0, 0, 0, 0, 0, 0, 0, 0, 0, 0]\n",
    "index1 = 0\n",
    "index2 = 0\n",
    "index1 = 1\n",
    "\n",
    "while index1 < 10:\n",
    "    myList[index1] = index1 + 4\n",
    "    index2 = 1\n",
    "\n",
    "    while index2 < index1:\n",
    "        myList[index1] = myList[index1 - 1] - myList[index2 - 1] - index1\n",
    "        index2 = index2 + 1\n",
    "        \n",
    "    print(myList[index1])\n",
    "    index1 = index1 + 1\n",
    "```\n",
    "\n",
    "| Output |\n",
    "| ------ |\n",
    "| 5      |\n",
    "| 3      |\n",
    "| -5     |\n",
    "| -12    |\n",
    "| -12    |\n",
    "| -6     |\n",
    "| -1     |\n",
    "| -3     |\n",
    "| -11    |\n"
   ]
  },
  {
   "cell_type": "code",
   "execution_count": 3,
   "metadata": {},
   "outputs": [
    {
     "name": "stdout",
     "output_type": "stream",
     "text": [
      "5\n",
      "3\n",
      "-5\n",
      "-12\n",
      "-12\n",
      "-6\n",
      "-1\n",
      "-3\n",
      "-11\n"
     ]
    }
   ],
   "source": [
    "myList = [0, 0, 0, 0, 0, 0, 0, 0, 0, 0]\n",
    "index1 = 0\n",
    "index2 = 0\n",
    "index1 = 1\n",
    "\n",
    "while index1 < 10:\n",
    "    myList[index1] = index1 + 4\n",
    "    index2 = 1\n",
    "\n",
    "    while index2 < index1:\n",
    "        myList[index1] = myList[index1 - 1] - myList[index2 - 1] - index1\n",
    "        index2 = index2 + 1\n",
    "        \n",
    "    print(myList[index1])\n",
    "    index1 = index1 + 1"
   ]
  },
  {
   "cell_type": "markdown",
   "metadata": {},
   "source": [
    "**Tracing-3)**  \n",
    "Trace the following code to generate outputs:\n",
    "\n",
    "```python\n",
    "myList = [10, 1, 4, 3, 8, 2, 4, 3, 5, 8, \"done\"]\n",
    "index1, index2 = 0, 0\n",
    "index1 = 1\n",
    "\n",
    "while index1 < 10:\n",
    "    while index2 < index1:\n",
    "        myList[index1] = myList[index1] + myList[index2] - index1\n",
    "        index2 = index2 + 1\n",
    "\n",
    "    print(myList[index1])\n",
    "    index1 = index1 + 1\n",
    "\n",
    "print(myList[-1:])\n",
    "```\n",
    "\n",
    "| Output   |\n",
    "| -------- |\n",
    "| 10       |\n",
    "| 12       |\n",
    "| 12       |\n",
    "| 16       |\n",
    "| 13       |\n",
    "| 11       |\n",
    "| 7        |\n",
    "| 4        |\n",
    "| 3        |\n",
    "| ['done'] |\n"
   ]
  },
  {
   "cell_type": "code",
   "execution_count": 4,
   "metadata": {},
   "outputs": [
    {
     "name": "stdout",
     "output_type": "stream",
     "text": [
      "10\n",
      "12\n",
      "12\n",
      "16\n",
      "13\n",
      "11\n",
      "7\n",
      "4\n",
      "3\n",
      "['done']\n"
     ]
    }
   ],
   "source": [
    "myList = [10, 1, 4, 3, 8, 2, 4, 3, 5, 8, \"done\"]\n",
    "index1, index2 = 0, 0\n",
    "index1 = 1\n",
    "\n",
    "while index1 < 10:\n",
    "    while index2 < index1:\n",
    "        myList[index1] = myList[index1] + myList[index2] - index1\n",
    "        index2 = index2 + 1\n",
    "\n",
    "    print(myList[index1])\n",
    "    index1 = index1 + 1\n",
    "    \n",
    "print(myList[-1:])"
   ]
  }
 ],
 "metadata": {
  "kernelspec": {
   "display_name": "Python 3",
   "language": "python",
   "name": "python3"
  },
  "language_info": {
   "codemirror_mode": {
    "name": "ipython",
    "version": 3
   },
   "file_extension": ".py",
   "mimetype": "text/x-python",
   "name": "python",
   "nbconvert_exporter": "python",
   "pygments_lexer": "ipython3",
   "version": "3.8.2"
  }
 },
 "nbformat": 4,
 "nbformat_minor": 2
}
