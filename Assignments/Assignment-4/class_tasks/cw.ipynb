{
 "cells": [
  {
   "cell_type": "markdown",
   "metadata": {},
   "source": [
    "**CW-1.1.1)**  \n",
    "Write a Python program that takes a String as an input from the user and prints that String in reverse order, **WITHOUT USING** built-in `reverse()` function or **slicing**."
   ]
  },
  {
   "cell_type": "code",
   "execution_count": 1,
   "metadata": {},
   "outputs": [
    {
     "name": "stdout",
     "output_type": "stream",
     "text": [
      "011ESC\n"
     ]
    }
   ],
   "source": [
    "String = input(\"Enter a String: \")\n",
    "reversed_String = \"\"\n",
    "\n",
    "for char in String:\n",
    "    reversed_String = char + reversed_String\n",
    "\n",
    "print(reversed_String)"
   ]
  },
  {
   "cell_type": "markdown",
   "metadata": {},
   "source": [
    "**CW-1.1.2)**  \n",
    "Write a Python program that takes a String as an input from the user and prints that String in reverse order, **USING slicing**."
   ]
  },
  {
   "cell_type": "code",
   "execution_count": 3,
   "metadata": {},
   "outputs": [
    {
     "name": "stdout",
     "output_type": "stream",
     "text": [
      "nohtyP\n"
     ]
    }
   ],
   "source": [
    "String = input(\"Enter a String: \")\n",
    "reversed_String = String[::-1]\n",
    "print(reversed_String)"
   ]
  },
  {
   "cell_type": "markdown",
   "metadata": {},
   "source": [
    "**CW-1.2)**  \n",
    "Write a python program that takes 2 inputs from the user, where the first input is a String with length greater than 1. The second input is the index of the first given String from where you have to start reversing. After reversing the first input String from that index, print the new String back to the user."
   ]
  },
  {
   "cell_type": "code",
   "execution_count": 14,
   "metadata": {},
   "outputs": [
    {
     "name": "stdout",
     "output_type": "stream",
     "text": [
      "Updated string: 32145\n"
     ]
    }
   ],
   "source": [
    "String = input(\"Enter a String (length greater than 1): \")\n",
    "index = int(input(\"Enter the index from where you want to start reversing: \"))\n",
    "\n",
    "if len(String) <= index < 0:\n",
    "    print(\"Invalid index\")\n",
    "else:\n",
    "    new_String = String[index::-1] + String[index + 1 :]\n",
    "    print(\"Updated String:\", new_String)"
   ]
  },
  {
   "cell_type": "markdown",
   "metadata": {},
   "source": [
    "**CW-2.1)**  \n",
    "Write a Python program that will ask the user to input a String (containing exactly one word). Then print the **ASCII** code for each character in the String using the `ord( )` function."
   ]
  },
  {
   "cell_type": "code",
   "execution_count": 17,
   "metadata": {},
   "outputs": [
    {
     "name": "stdout",
     "output_type": "stream",
     "text": [
      "q: 113\n",
      "u: 117\n",
      "i: 105\n",
      "n: 110\n",
      "c: 99\n",
      "u: 117\n",
      "n: 110\n",
      "c: 99\n",
      "i: 105\n",
      "a: 97\n",
      "l: 108\n"
     ]
    }
   ],
   "source": [
    "String = input(\"Enter a String (one word): \")\n",
    "\n",
    "for char in String:\n",
    "    print(f\"{char}: {ord(char)}\")"
   ]
  },
  {
   "cell_type": "markdown",
   "metadata": {},
   "source": [
    "**CW-2.2)**  \n",
    "Write a Python program that takes a String as input from the user, removes the characters at even index and prints the resulting String in uppercase.\n",
    "\n",
    "_**Note:**_ **YOU CANNOT USE** the built-int `upper()` function for this task."
   ]
  },
  {
   "cell_type": "code",
   "execution_count": 19,
   "metadata": {},
   "outputs": [
    {
     "name": "stdout",
     "output_type": "stream",
     "text": [
      "BD\n"
     ]
    }
   ],
   "source": [
    "string = input(\"Enter a string: \")\n",
    "result = \"\"\n",
    "\n",
    "for i in range(len(string)):\n",
    "    if i % 2 != 0:\n",
    "        if 'a' <= string[i] <= 'z':\n",
    "            result += chr(ord(string[i]) - 32)\n",
    "        else:\n",
    "            result += string[i]\n",
    "            \n",
    "print(result)"
   ]
  },
  {
   "cell_type": "markdown",
   "metadata": {},
   "source": [
    "**CW-3)**  \n",
    "Write a python program that **splits** a given string on a given **split character**. The first input is a String and the second input is the character that will be used to split the first String.\n",
    "\n",
    "_**Note:**_ **YOU CANNOT USE** the built-int `split()` function for this task."
   ]
  },
  {
   "cell_type": "code",
   "execution_count": 22,
   "metadata": {},
   "outputs": [
    {
     "name": "stdout",
     "output_type": "stream",
     "text": [
      "This\n",
      "is\n",
      "CSE110\n"
     ]
    }
   ],
   "source": [
    "string = input(\"Enter a string: \")\n",
    "split_char = input(\"Enter the character to split on: \")\n",
    "temp = \"\"\n",
    "\n",
    "for char in string:\n",
    "    if char == split_char:\n",
    "        print(temp)\n",
    "        temp = \"\"\n",
    "    else:\n",
    "        temp += char\n",
    "\n",
    "print(temp)\n"
   ]
  },
  {
   "cell_type": "markdown",
   "metadata": {},
   "source": [
    "**CW-4)**  \n",
    "Illustrate the outputs of the following statements. Your answer will not be accepted without the workings.\n",
    "\n",
    "```python\n",
    "test = \"\"\n",
    "i = 1\n",
    "j = 0\n",
    "k = 7\n",
    "\n",
    "while i < 5:\n",
    "    k -= 1\n",
    "    j = k\n",
    "\n",
    "    while j > 4:\n",
    "        if j % 2 == 0:\n",
    "            test = \"<--\"\n",
    "            test = test + str(i) + \"3\" + \"-->\" + str(j // 3)\n",
    "\n",
    "        else:\n",
    "            test = \"-->\"\n",
    "            test = \"-->\" + str((i // 3)) + test + str(j)\n",
    "\n",
    "        print(test)\n",
    "        j -= 1\n",
    "\n",
    "    i += 2\n",
    "```\n",
    "\n",
    "| Output    |\n",
    "| --------- |\n",
    "| <--13-->2 |\n",
    "| -->0-->5  |\n",
    "| -->1-->5  |\n"
   ]
  },
  {
   "cell_type": "code",
   "execution_count": 24,
   "metadata": {},
   "outputs": [
    {
     "name": "stdout",
     "output_type": "stream",
     "text": [
      "<--13-->2\n",
      "-->0-->5\n",
      "-->1-->5\n"
     ]
    }
   ],
   "source": [
    "test = \"\"\n",
    "i = 1\n",
    "j = 0\n",
    "k = 7\n",
    "\n",
    "while i < 5:\n",
    "    k -= 1\n",
    "    j = k\n",
    "\n",
    "    while j > 4:\n",
    "        if j % 2 == 0:\n",
    "            test = \"<--\"\n",
    "            test = test + str(i) + \"3\" + \"-->\" + str(j // 3)\n",
    "\n",
    "        else:\n",
    "            test = \"-->\"\n",
    "            test = \"-->\" + str((i // 3)) + test + str(j)\n",
    "\n",
    "        print(test)\n",
    "        j -= 1\n",
    "\n",
    "    i += 2"
   ]
  }
 ],
 "metadata": {
  "kernelspec": {
   "display_name": "Python 3",
   "language": "python",
   "name": "python3"
  },
  "language_info": {
   "codemirror_mode": {
    "name": "ipython",
    "version": 3
   },
   "file_extension": ".py",
   "mimetype": "text/x-python",
   "name": "python",
   "nbconvert_exporter": "python",
   "pygments_lexer": "ipython3",
   "version": "3.8.2"
  }
 },
 "nbformat": 4,
 "nbformat_minor": 2
}
