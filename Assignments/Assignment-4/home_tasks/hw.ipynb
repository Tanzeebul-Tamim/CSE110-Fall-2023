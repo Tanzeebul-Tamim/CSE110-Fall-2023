{
  "cells": [
    {
      "cell_type": "markdown",
      "metadata": {
        "id": "cGOEMKPo11JQ"
      },
      "source": [
        "**HW-1)**  \n",
        "Given a string, create a new string with **all the consecutive duplicates removed**.\n",
        "\n",
        "**Note:** Only consecutive letters are removed, not all duplicate occurrences of a letter.\n",
        "\n",
        "_**Hint:** You may make a new string to store the result. You can check whether the current character and the next character are the same, then add that character to the new string._"
      ]
    },
    {
      "cell_type": "code",
      "execution_count": 1,
      "metadata": {
        "id": "Hml8-Ccq2YL_"
      },
      "outputs": [
        {
          "name": "stdout",
          "output_type": "stream",
          "text": [
            "ABCDBECE\n"
          ]
        }
      ],
      "source": [
        "input_string = input(\"Please enter a string: \")\n",
        "ascii_value = 0\n",
        "new_string = \"\"\n",
        "\n",
        "for index in range (len(input_string)) :\n",
        "  character = input_string[index]\n",
        "  if ord(character) != ascii_value :\n",
        "      ascii_value = ord(character)\n",
        "      new_string += character\n",
        "\n",
        "print(new_string)"
      ]
    },
    {
      "cell_type": "markdown",
      "metadata": {
        "id": "iRecXDpu9F--"
      },
      "source": [
        "**HW-2)**  \n",
        "Write a Python program that will take one input from the user **made up of two strings separated by a comma and a space**. Then create a mixed string with alternative characters from each string. Any leftover chars will be appended at the end of the resulting string.  \n",
        "\n",
        "**Note:** Do not use lists for this task.  \n",
        "\n",
        "_**Hint:** For adding the leftover characters you may use string slicing._"
      ]
    },
    {
      "cell_type": "code",
      "execution_count": 2,
      "metadata": {
        "id": "pRYDt5PJ9LnC"
      },
      "outputs": [
        {
          "name": "stdout",
          "output_type": "stream",
          "text": [
            "AeBfCgDh\n"
          ]
        }
      ],
      "source": [
        "input_string = input(\"Please enter two strings separated by a comma and a space: \")\n",
        "\n",
        "if \", \" in input_string :\n",
        "  comma_index = 0\n",
        "\n",
        "  for index in range (len(input_string)) :\n",
        "    if input_string[index] == \",\" :\n",
        "      comma_index = index\n",
        "\n",
        "  string1 = input_string[:comma_index:]\n",
        "  string2 = input_string[comma_index+2:len(input_string):]\n",
        "  result_string = \"\"\n",
        "\n",
        "  if len(string1) > len(string2) :\n",
        "    string1_part1 = string1[:len(string2):]\n",
        "    string1_part2 = string1[len(string2):len(string1):]\n",
        "\n",
        "    for i in range (len(string2)) :\n",
        "      char1 = string1_part1[i]\n",
        "      char2 = string2[i]\n",
        "      result_string += char1 + char2\n",
        "\n",
        "    result_string += string1_part2\n",
        "\n",
        "  else :\n",
        "    string2_part1 = string2[:len(string1):]\n",
        "    string2_part2 = string2[len(string1):len(string2):]\n",
        "\n",
        "    for i in range (len(string1)) :\n",
        "      char1 = string1[i]\n",
        "      char2 = string2_part1[i]\n",
        "      result_string += char1 + char2\n",
        "\n",
        "    result_string += string2_part2\n",
        "\n",
        "  print(result_string)\n",
        "\n",
        "else :\n",
        "  print(\"Error: You must input two strings separated by a comma and a space\")"
      ]
    },
    {
      "cell_type": "markdown",
      "metadata": {
        "id": "aSf6auAX-BhU"
      },
      "source": [
        "**HW-3)**  \n",
        "Write a Python program that takes a string as an input from the user **containing all small letters** and then prints the next alphabet in sequence for each alphabet in the input.\n",
        "\n",
        "_**Hint:** You may use the functions `ord()` and `chr()`. The `ASCII` value of **‘a’** is **97** and **‘z’** is **122**._"
      ]
    },
    {
      "cell_type": "code",
      "execution_count": 5,
      "metadata": {
        "id": "WgDvnIse-Dtp"
      },
      "outputs": [
        {
          "name": "stdout",
          "output_type": "stream",
          "text": [
            "uif!dpx\n"
          ]
        }
      ],
      "source": [
        "input_string = input(\"Please enter a string containing all small letters: \")\n",
        "result_string = \"\"\n",
        "\n",
        "for index in range (len(input_string)) :\n",
        "  ascii_value = ord(input_string[index])\n",
        "  if 97 <= ascii_value <= 122 or ascii_value == 32 :\n",
        "    if ascii_value == 122 :\n",
        "      char = chr(97)\n",
        "      result_string += char\n",
        "    else :\n",
        "      char = chr(ascii_value + 1)\n",
        "      result_string += char\n",
        "  else :\n",
        "    print(\"Error: Your input must contain small letters only!\")\n",
        "    result_string = \"\"\n",
        "    break\n",
        "print(result_string)"
      ]
    },
    {
      "cell_type": "markdown",
      "metadata": {
        "id": "DaqEzkUKHKBX"
      },
      "source": [
        "**HW-4)**\n",
        "\n",
        "Write a python program that takes a string as an input from the user and then modifies the string in such a way that **the string always starts with an uppercase letter** and the case of each subsequent letter is the opposite of the previous letter (uppercase character followed by a lowercase character followed by an uppercase character and so on). Finally, the modified string is printed to show the user.\n",
        "\n",
        "_**Hint:** **Flags/counters** can be used to manage uppercase-lowercase._"
      ]
    },
    {
      "cell_type": "code",
      "execution_count": 7,
      "metadata": {
        "id": "vLfNl_N0H3ik"
      },
      "outputs": [
        {
          "name": "stdout",
          "output_type": "stream",
          "text": [
            "PyThOn PrOgRaMmInG iS vErY eAsY\n"
          ]
        }
      ],
      "source": [
        "input_string = input(\"Please enter a string: \")\n",
        "is_upper = True\n",
        "result_string = \"\"\n",
        "\n",
        "for index in range (len(input_string)) :\n",
        "  ascii_value = ord(input_string[index])\n",
        "  if 65 <= ascii_value <= 90 or 97 <= ascii_value <= 122 :\n",
        "    if is_upper :\n",
        "      if 97 <= ascii_value <= 122 :\n",
        "        char = chr(ascii_value - 32)\n",
        "        result_string += char\n",
        "        is_upper = False\n",
        "      else :\n",
        "        result_string += input_string[index]\n",
        "        is_upper = False\n",
        "    else :\n",
        "      if 65 <= ascii_value <= 90 :\n",
        "        char = chr(ascii_value + 32)\n",
        "        result_string += char\n",
        "        is_upper = True\n",
        "      else :\n",
        "        result_string += input_string[index]\n",
        "        is_upper = True\n",
        "  else :\n",
        "    result_string += input_string[index]\n",
        "\n",
        "print(result_string)"
      ]
    },
    {
      "cell_type": "markdown",
      "metadata": {},
      "source": [
        "**HW-5)**  \n",
        "Illustrate the outputs of the following statements. Your answer will not be accepted without the workings.\n",
        "\n",
        "```python\n",
        "i = 10\n",
        "\n",
        "while(i >= -20):\n",
        "   if(i < 0):\n",
        "      test = \" != \"\n",
        "      test = str(i//2) + test + str(int(i/2))\n",
        "   else:\n",
        "      test = \" == \"\n",
        "      test = str(i//2) + test + str(int(i/2))\n",
        "\n",
        "   print(test)\n",
        "   i -= 5\n",
        "```\n",
        "\n",
        "| Output     |\n",
        "| ---------- |\n",
        "| 5 == 5     |\n",
        "| 2 == 2     |\n",
        "| 0 == 0     |\n",
        "| -3 != -2   |\n",
        "| -5 != -5   |\n",
        "| -8 != -7   |\n",
        "| -10 != -10 |\n"
      ]
    },
    {
      "cell_type": "code",
      "execution_count": 8,
      "metadata": {},
      "outputs": [
        {
          "name": "stdout",
          "output_type": "stream",
          "text": [
            "5 == 5\n",
            "2 == 2\n",
            "0 == 0\n",
            "-3 != -2\n",
            "-5 != -5\n",
            "-8 != -7\n",
            "-10 != -10\n"
          ]
        }
      ],
      "source": [
        "i = 10\n",
        "\n",
        "while(i >= -20):\n",
        "   if(i < 0):\n",
        "      test = \" != \"\n",
        "      test = str(i//2) + test + str(int(i/2))\n",
        "   else:\n",
        "      test = \" == \"\n",
        "      test = str(i//2) + test + str(int(i/2))\n",
        "      \n",
        "   print(test)\n",
        "   i -= 5"
      ]
    },
    {
      "cell_type": "markdown",
      "metadata": {},
      "source": [
        "**HW-6)**  \n",
        "Illustrate the outputs of the following statements. Your answer will not be accepted without the workings.\n",
        "\n",
        "```python\n",
        "test = \"\"\n",
        "i = 5\n",
        "j = 0\n",
        "k = 15\n",
        "\n",
        "while i < 10:\n",
        "    k -= 1\n",
        "    j = k\n",
        "\n",
        "    while 5 < j - 5:\n",
        "        if (j % 2) == 0:\n",
        "            test = \"<--\"\n",
        "            test = str(test) + str(i) + str(2) + \"-->\" + str(int(j / 2))\n",
        "\n",
        "        else:\n",
        "            test = \"-->\"\n",
        "            test = \"-->\" + str(int(i / 2)) + str(test) + str(j)\n",
        "\n",
        "        print(test)\n",
        "        j = j - 1\n",
        "\n",
        "    i += 1\n",
        "```\n",
        "\n",
        "| Output    |\n",
        "| --------- |\n",
        "| <--52-->7 |\n",
        "| -->2-->13 |\n",
        "| <--52-->6 |\n",
        "| -->2-->11 |\n",
        "| -->3-->13 |\n",
        "| <--62-->6 |\n",
        "| -->3-->11 |\n",
        "| <--72-->6 |\n",
        "| -->3-->11 |\n",
        "| -->4-->11 |"
      ]
    },
    {
      "cell_type": "code",
      "execution_count": 9,
      "metadata": {},
      "outputs": [
        {
          "name": "stdout",
          "output_type": "stream",
          "text": [
            "<--52-->7\n",
            "-->2-->13\n",
            "<--52-->6\n",
            "-->2-->11\n",
            "-->3-->13\n",
            "<--62-->6\n",
            "-->3-->11\n",
            "<--72-->6\n",
            "-->3-->11\n",
            "-->4-->11\n"
          ]
        }
      ],
      "source": [
        "test = \"\"\n",
        "i = 5\n",
        "j = 0\n",
        "k = 15\n",
        "\n",
        "while i < 10:\n",
        "    k -= 1\n",
        "    j = k\n",
        "\n",
        "    while 5 < j - 5:\n",
        "        if (j % 2) == 0:\n",
        "            test = \"<--\"\n",
        "            test = str(test) + str(i) + str(2) + \"-->\" + str(int(j / 2))\n",
        "            \n",
        "        else:\n",
        "            test = \"-->\"\n",
        "            test = \"-->\" + str(int(i / 2)) + str(test) + str(j)\n",
        "\n",
        "        print(test)\n",
        "        j = j - 1\n",
        "\n",
        "    i += 1"
      ]
    },
    {
      "cell_type": "markdown",
      "metadata": {},
      "source": [
        "**HW-7)**  \n",
        "Illustrate the outputs of the following statements. Your answer will not be accepted without the workings.\n",
        "\n",
        "```python\n",
        "i = 0\n",
        "j = 0\n",
        "k = 15\n",
        "test = \"<--cat\"\n",
        "\n",
        "while i < 5:\n",
        "    k -= 1\n",
        "    j = k\n",
        "\n",
        "    while j > 10:\n",
        "        if j % 2 == 0:\n",
        "            test += \"-->\"\n",
        "            test = test + str(i) + str(j // 2)\n",
        "\n",
        "        else:\n",
        "            test += \"<--\"\n",
        "            test = test + str(i // 2) + str(j)\n",
        "\n",
        "        print(test)\n",
        "        j -= 1\n",
        "\n",
        "    i += 1\n",
        "```\n",
        "\n",
        "| Output                                                         |\n",
        "| -------------------------------------------------------------- |\n",
        "| <--cat-->07                                                    |\n",
        "| <--cat-->07<--013                                              |\n",
        "| <--cat-->07<--013-->06                                         |\n",
        "| <--cat-->07<--013-->06<--011                                   |\n",
        "| <--cat-->07<--013-->06<--011<--013                             |\n",
        "| <--cat-->07<--013-->06<--011<--013-->16                        |\n",
        "| <--cat-->07<--013-->06<--011<--013-->16<--011                  |\n",
        "| <--cat-->07<--013-->06<--011<--013-->16<--011-->26             |\n",
        "| <--cat-->07<--013-->06<--011<--013-->16<--011-->26<--111       |\n",
        "| <--cat-->07<--013-->06<--011<--013-->16<--011-->26<--111<--111 |\n"
      ]
    },
    {
      "cell_type": "code",
      "execution_count": 10,
      "metadata": {},
      "outputs": [
        {
          "name": "stdout",
          "output_type": "stream",
          "text": [
            "<--cat-->07\n",
            "<--cat-->07<--013\n",
            "<--cat-->07<--013-->06\n",
            "<--cat-->07<--013-->06<--011\n",
            "<--cat-->07<--013-->06<--011<--013\n",
            "<--cat-->07<--013-->06<--011<--013-->16\n",
            "<--cat-->07<--013-->06<--011<--013-->16<--011\n",
            "<--cat-->07<--013-->06<--011<--013-->16<--011-->26\n",
            "<--cat-->07<--013-->06<--011<--013-->16<--011-->26<--111\n",
            "<--cat-->07<--013-->06<--011<--013-->16<--011-->26<--111<--111\n"
          ]
        }
      ],
      "source": [
        "i = 0\n",
        "j = 0\n",
        "k = 15\n",
        "test = \"<--cat\"\n",
        "\n",
        "while i < 5:\n",
        "    k -= 1\n",
        "    j = k\n",
        "\n",
        "    while j > 10:\n",
        "        if j % 2 == 0:\n",
        "            test += \"-->\"\n",
        "            test = test + str(i) + str(j // 2)\n",
        "\n",
        "        else:\n",
        "            test += \"<--\"\n",
        "            test = test + str(i // 2) + str(j)\n",
        "\n",
        "        print(test)\n",
        "        j -= 1\n",
        "\n",
        "    i += 1"
      ]
    }
  ],
  "metadata": {
    "colab": {
      "provenance": []
    },
    "kernelspec": {
      "display_name": "Python 3",
      "language": "python",
      "name": "python3"
    },
    "language_info": {
      "codemirror_mode": {
        "name": "ipython",
        "version": 3
      },
      "file_extension": ".py",
      "mimetype": "text/x-python",
      "name": "python",
      "nbconvert_exporter": "python",
      "pygments_lexer": "ipython3",
      "version": "3.8.2"
    },
    "vscode": {
      "interpreter": {
        "hash": "570feb405e2e27c949193ac68f46852414290d515b0ba6e5d90d076ed2284471"
      }
    }
  },
  "nbformat": 4,
  "nbformat_minor": 0
}
