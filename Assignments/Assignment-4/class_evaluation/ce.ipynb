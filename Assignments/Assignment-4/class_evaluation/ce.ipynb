{
 "cells": [
  {
   "cell_type": "markdown",
   "metadata": {},
   "source": [
    "**CE-1)**  \n",
    "Write a program that takes a string as input and prints **“Binary Number”** if the string contains only **0s or 1s**. Otherwise, print **“Not a Binary Number”**."
   ]
  },
  {
   "cell_type": "code",
   "execution_count": 4,
   "metadata": {},
   "outputs": [
    {
     "name": "stdout",
     "output_type": "stream",
     "text": [
      "Binary Number\n"
     ]
    }
   ],
   "source": [
    "string = input(\"Enter a string: \")\n",
    "is_binary = True\n",
    "\n",
    "for char in string:\n",
    "    if char != '0' and char != '1':\n",
    "        is_binary = False\n",
    "        break\n",
    "\n",
    "if is_binary:\n",
    "    print(\"Binary Number\")\n",
    "else:\n",
    "    print(\"Not a Binary Number\")"
   ]
  },
  {
   "cell_type": "markdown",
   "metadata": {},
   "source": [
    "**CE-2)**  \n",
    "Captain Jack and his crew have discovered a treasure chest full of gold coins. However, the chest comes with a mysterious lock. To open it, they need to input a phrase that should contain a combination of characters where **vowel count is divisible by 3** and **consonant count is\n",
    "divisible by 5**.  \n",
    "\n",
    "Write a Python program to help Captain Jack determine if the input phrase has the correct number of vowels and consonants to unlock the treasure chest.\n",
    "\n",
    "_**Note:**_ **Vowels and Consonants** count has to be **greater than 0** for the treasure to open"
   ]
  },
  {
   "cell_type": "code",
   "execution_count": 7,
   "metadata": {},
   "outputs": [
    {
     "name": "stdout",
     "output_type": "stream",
     "text": [
      "Blimey! No Plunder!!\n"
     ]
    }
   ],
   "source": [
    "phrase = input(\"Enter the phrase: \")\n",
    "\n",
    "vowels = \"aeiouAEIOU\"\n",
    "vowel_count = 0\n",
    "consonant_count = 0\n",
    "\n",
    "for char in phrase:\n",
    "    if ('a' <= char <= 'z') or ('A' <= char <= 'Z'):\n",
    "        is_vowel = False\n",
    "\n",
    "        for v in vowels:\n",
    "            if char == v:\n",
    "                is_vowel = True\n",
    "                break\n",
    "\n",
    "        if is_vowel:\n",
    "            vowel_count += 1\n",
    "        else:\n",
    "            consonant_count += 1\n",
    "\n",
    "if vowel_count > 0 and consonant_count > 0 and vowel_count % 3 == 0 and consonant_count % 5 == 0:\n",
    "    print(\"Aaarr! Me Plunder!!\")\n",
    "else:\n",
    "    print(\"Blimey! No Plunder!!\")"
   ]
  }
 ],
 "metadata": {
  "kernelspec": {
   "display_name": "Python 3",
   "language": "python",
   "name": "python3"
  },
  "language_info": {
   "codemirror_mode": {
    "name": "ipython",
    "version": 3
   },
   "file_extension": ".py",
   "mimetype": "text/x-python",
   "name": "python",
   "nbconvert_exporter": "python",
   "pygments_lexer": "ipython3",
   "version": "3.8.2"
  }
 },
 "nbformat": 4,
 "nbformat_minor": 2
}
