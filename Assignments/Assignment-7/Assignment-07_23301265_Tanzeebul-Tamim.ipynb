{
 "cells": [
  {
   "cell_type": "markdown",
   "metadata": {},
   "source": [
    "Task 1:\n",
    "\n",
    "Take an integer N as an input from the user and create an 1D array with size N by taking each integer element as user input. Then, print the array. Next, take another integer input from the user. Resize the array and add the new integer value in the new array. Lastly, print the new array.\n",
    "\n",
    "Hint: As you know, the size of an array is fixed and can not be changed. So, to resize an array, copy the elements of the old array to a new array of length N+1 using a loop and then add the new value to the new array.\n"
   ]
  },
  {
   "cell_type": "code",
   "execution_count": 21,
   "metadata": {},
   "outputs": [
    {
     "name": "stdout",
     "output_type": "stream",
     "text": [
      "Original Array: [7 1 3 9]\n",
      "Resized Array: [7 1 3 9 5]\n"
     ]
    }
   ],
   "source": [
    "import numpy as np\n",
    "\n",
    "N = int(input(\"Please array size: \"))\n",
    "original_arr = np.zeros(N, dtype=int)\n",
    "\n",
    "for i in range(N):\n",
    "    original_arr[i] = int(input(f\"Please enter the integer element no {i + 1}: \"))\n",
    "\n",
    "print(f\"Original Array: {original_arr}\")\n",
    "\n",
    "new_integer = int(input(\"Please enter another integer\"))\n",
    "\n",
    "resized_arr = np.zeros(N + 1, dtype=int)\n",
    "\n",
    "for j in range(len(original_arr)):\n",
    "    resized_arr[j] = original_arr[j]\n",
    "\n",
    "resized_arr[N] = new_integer\n",
    "\n",
    "print(f\"Resized Array: {resized_arr}\")"
   ]
  },
  {
   "cell_type": "markdown",
   "metadata": {},
   "source": [
    "Task 2:\n",
    "\n",
    "Take an integer N input from the user and create a 1D integer array of N numbers. Then, print the array. Next, modify the array by changing the positive numbers by 1 and the negative numbers by 0. If the element is zero, then it will be unchanged. Lastly, print the modified array.\n"
   ]
  },
  {
   "cell_type": "code",
   "execution_count": 20,
   "metadata": {},
   "outputs": [
    {
     "name": "stdout",
     "output_type": "stream",
     "text": [
      "Original Array: [-4  0  2]\n",
      "After modifying: [0 0 1]\n"
     ]
    }
   ],
   "source": [
    "import numpy as np\n",
    "\n",
    "N = int(input(\"Please enter array size: \"))\n",
    "arr = np.zeros(N, dtype=int)\n",
    "\n",
    "for i in range(N):\n",
    "    arr[i] = int(input(f\"Please enter the integer element no {i + 1}: \"))\n",
    "\n",
    "print(f\"Original Array: {arr}\")\n",
    "\n",
    "for j in range(len(arr)):\n",
    "    if arr[j] > 0:\n",
    "        arr[j] = 1\n",
    "    else:\n",
    "        arr[j] = 0\n",
    "\n",
    "print(f\"After modifying: {arr}\")"
   ]
  },
  {
   "cell_type": "markdown",
   "metadata": {},
   "source": [
    "Task 3:\n",
    "\n",
    "Write a Python function named reverseArray that takes a NumPy Array as parameter and using loop modifies & returns the reversed array within the given array. That means inside the function you can not create a new array.\n"
   ]
  },
  {
   "cell_type": "code",
   "execution_count": 19,
   "metadata": {},
   "outputs": [
    {
     "name": "stdout",
     "output_type": "stream",
     "text": [
      "[ 7  5 20 12 10]\n"
     ]
    }
   ],
   "source": [
    "import numpy as np\n",
    "\n",
    "\n",
    "def reverseArray(arr):\n",
    "    if type(arr) != np.ndarray:\n",
    "        return \"This function only accepts NumPy Arrays as an argument\"\n",
    "\n",
    "    for i in range(arr.size // 2):\n",
    "        temp = arr[i]\n",
    "        arr[i] = arr[arr.size - (i + 1)]\n",
    "        arr[arr.size - (i + 1)] = temp\n",
    "\n",
    "    return arr\n",
    "\n",
    "\n",
    "arr1 = np.array([10, 12, 20, 5, 7])\n",
    "arr1 = reverseArray(arr1)\n",
    "print(arr1)"
   ]
  },
  {
   "cell_type": "markdown",
   "metadata": {},
   "source": [
    "Task 4:\n",
    "\n",
    "Write a Python function named printPairs that takes an array of numbers and a single integer value as parameters and prints the pairs of two array elements inside the function whose sum is equal to that integer value. If no such pair is found, then print \"No Pair Found\".\n"
   ]
  },
  {
   "cell_type": "code",
   "execution_count": 18,
   "metadata": {},
   "outputs": [
    {
     "name": "stdout",
     "output_type": "stream",
     "text": [
      "No Pair Found\n"
     ]
    }
   ],
   "source": [
    "import numpy as np\n",
    "\n",
    "\n",
    "def printPairs(arr, int_value):\n",
    "    if type(arr) != np.ndarray or type(int_value) != int:\n",
    "        print(\"This function accepts an array of numbers and an integer value\")\n",
    "        return\n",
    "\n",
    "    pair_available = False\n",
    "\n",
    "    for i in range(len(arr)):\n",
    "        for j in range(i + 1, len(arr)):\n",
    "            if arr[i] + arr[j] == int_value:\n",
    "                pair_available = True\n",
    "                print(f\"{arr[i]}, {arr[j]}\")\n",
    "\n",
    "    if not pair_available:\n",
    "        print(\"No Pair Found\")\n",
    "\n",
    "\n",
    "arr3 = np.array([5, 9, 7, 6, 10])\n",
    "printPairs(arr3, 18)"
   ]
  },
  {
   "cell_type": "markdown",
   "metadata": {},
   "source": [
    "Task 5:\n",
    "\n",
    "Suppose, you are given two 1D NumPy arrays (vectors). Now, using a loop, find the dot product of these two arrays and print the result. If the result is even, then swap the elements in the even index of the arrays. If the result is odd, then swap the elements in the odd index of the arrays. [You may assume that the size of both the arrays will be the same. Your code should work for 1D arrays of any size. You can not use in-built dot(), sum() or @ to solve this problem.]\n",
    "\n",
    "The dot product of two vectors is defined by the summation of element wise multiplication of those two vectors.\n"
   ]
  },
  {
   "cell_type": "code",
   "execution_count": 17,
   "metadata": {},
   "outputs": [
    {
     "name": "stdout",
     "output_type": "stream",
     "text": [
      "Dot Product: 32\n",
      "After Swapping:\n",
      "[4 2 6]\n",
      "[1 5 3]\n"
     ]
    }
   ],
   "source": [
    "import numpy as np\n",
    "\n",
    "\n",
    "def dot_n_swap(arr1, arr2):\n",
    "    if type(arr1) != np.ndarray or type(arr2) != np.ndarray:\n",
    "        print(\"This function accepts two NumPy Arrays\")\n",
    "        return\n",
    "    elif arr1.size != arr2.size:\n",
    "        print(\"Both the arrays must be of equal length\")\n",
    "        return\n",
    "\n",
    "    dot_product = 0\n",
    "\n",
    "    for i in range(len(arr1)):\n",
    "        dot_product += arr1[i] * arr2[i]\n",
    "\n",
    "    print(f\"Dot Product: {dot_product}\")\n",
    "\n",
    "    for j in range(len(arr1)):\n",
    "        if dot_product % 2 == 0:\n",
    "            if j % 2 == 0:\n",
    "                temp = arr1[j]\n",
    "                arr1[j] = arr2[j]\n",
    "                arr2[j] = temp\n",
    "        else:\n",
    "            if j % 2 != 0:\n",
    "                temp = arr1[j]\n",
    "                arr1[j] = arr2[j]\n",
    "                arr2[j] = temp\n",
    "\n",
    "    print(\"After Swapping:\")\n",
    "    print(arr1)\n",
    "    print(arr2)\n",
    "\n",
    "vec1 = np.array([1, 2, 3])\n",
    "vec2 = np.array([4, 5, 6])\n",
    "dot_n_swap(vec1, vec2)"
   ]
  },
  {
   "cell_type": "markdown",
   "metadata": {},
   "source": [
    "Task 6:\n",
    "\n",
    "Take an integer N input from the user and create an 1D array of N numbers taking the elements as user input too. Then, print the array. Next, sort the array in the ascending order using Selection Sort technique. Lastly, print the sorted array.\n"
   ]
  },
  {
   "cell_type": "code",
   "execution_count": 14,
   "metadata": {},
   "outputs": [
    {
     "name": "stdout",
     "output_type": "stream",
     "text": [
      "Original Array: [ 1  5  7  4  9  5 78]\n",
      "Sorted Array: [ 1  4  5  5  7  9 78]\n"
     ]
    }
   ],
   "source": [
    "import numpy as np\n",
    "\n",
    "N = int(input(\"Please enter array size: \"))\n",
    "arr = np.zeros(N, dtype=int)\n",
    "\n",
    "for i in range(N):\n",
    "    arr[i] = int(input(f\"Please enter the integer element no {i + 1}: \"))\n",
    "\n",
    "print(f\"Original Array: {arr}\")\n",
    "\n",
    "for i in range(N):\n",
    "    for j in range(i + 1, N):\n",
    "        if arr[j] < arr[i]:\n",
    "            temp = arr[i]\n",
    "            arr[i] = arr[j]\n",
    "            arr[j] = temp\n",
    "\n",
    "print(f\"Sorted Array: {arr}\")"
   ]
  },
  {
   "cell_type": "markdown",
   "metadata": {},
   "source": [
    "Task 7:\n",
    "\n",
    "Write a Python function called flatten that takes a 2D array as parameter and returns an 1D array by flattening the 2D array.\n"
   ]
  },
  {
   "cell_type": "code",
   "execution_count": 12,
   "metadata": {},
   "outputs": [
    {
     "name": "stdout",
     "output_type": "stream",
     "text": [
      "[1 4 5 6 8 9]\n"
     ]
    }
   ],
   "source": [
    "import numpy as np\n",
    "\n",
    "\n",
    "def flatten(two_d_arr):\n",
    "    if type(two_d_arr) == np.ndarray and len(two_d_arr.shape) == 2:\n",
    "        one_d_array = np.zeros(two_d_arr.size, dtype=int)\n",
    "        index = 0\n",
    "        for i in range(two_d_arr.shape[0]):\n",
    "            for j in range(two_d_arr.shape[1]):\n",
    "                one_d_array[index] = two_d_arr[i][j]\n",
    "                index += 1\n",
    "        return one_d_array\n",
    "    else:\n",
    "        return \"This function accepts an 2D array only\"\n",
    "\n",
    "\n",
    "arr3 = np.array([[1, 4], [5, 6], [8, 9]])\n",
    "arr4 = flatten(arr3)\n",
    "print(arr4)"
   ]
  },
  {
   "cell_type": "markdown",
   "metadata": {},
   "source": [
    "Task 8:\n",
    "\n",
    "You are given a square matrix A of size N×N. Check whether the given matrix is an Identity matrix or not. If it is, then print \"Identity matrix\" or otherwise print \"Not an Identity matrix\". Your program should work for any given 2D Arrays of size N×N.\n"
   ]
  },
  {
   "cell_type": "code",
   "execution_count": 11,
   "metadata": {},
   "outputs": [
    {
     "name": "stdout",
     "output_type": "stream",
     "text": [
      "Identity Matrix\n"
     ]
    }
   ],
   "source": [
    "import numpy as np\n",
    "\n",
    "\n",
    "def check_identity_matrix(arr):\n",
    "    if type(arr) == np.ndarray and len(arr.shape) == 2:\n",
    "        if arr.shape[0] == arr.shape[1]:\n",
    "            count_diagonal_ones = 0\n",
    "            is_identity = True\n",
    "            for i in range(arr.shape[0]):\n",
    "                for j in range(arr.shape[1]):\n",
    "                    if i == j and arr[i][j] == 1:\n",
    "                        count_diagonal_ones += 1\n",
    "                    elif i != j and arr[i][j] != 0:\n",
    "                        is_identity = False\n",
    "            if count_diagonal_ones == len(arr) and is_identity:\n",
    "                return \"Identity Matrix\"\n",
    "            else:\n",
    "                return \"Not an identity matrix\"\n",
    "        else:\n",
    "            return \"This function only works for 2D Arrays of size NxN\"\n",
    "    else:\n",
    "        return \"This function accepts an 2D array only\"\n",
    "\n",
    "\n",
    "A = np.array([[1, 0, 0], [0, 1, 0], [0, 0, 1]])\n",
    "print(check_identity_matrix(A))"
   ]
  },
  {
   "cell_type": "markdown",
   "metadata": {},
   "source": [
    "Task 9:\n",
    "\n",
    "You are given a 2D array A of size N×N. Print the absolute difference between the summation of its two diagonals (primary and secondary diagonal). Your program should work for any given 2D Arrays of size N×N.\n",
    "You can use abs() function to calculate the absolute difference.\n"
   ]
  },
  {
   "cell_type": "code",
   "execution_count": 10,
   "metadata": {},
   "outputs": [
    {
     "name": "stdout",
     "output_type": "stream",
     "text": [
      "22\n"
     ]
    }
   ],
   "source": [
    "import numpy as np\n",
    "\n",
    "\n",
    "def abs_diff(arr):\n",
    "    if type(arr) == np.ndarray and len(arr.shape) == 2:\n",
    "        if arr.shape[0] == arr.shape[1]:\n",
    "            pri_dia_sum = 0\n",
    "            sec_dia_sum = 0\n",
    "            for i in range(arr.shape[0]):\n",
    "                for j in range(arr.shape[1]):\n",
    "                    if i == j:\n",
    "                        pri_dia_sum += arr[i][j]\n",
    "                    if j == (arr.shape[1] - 1) - i:\n",
    "                        sec_dia_sum += arr[i][j]\n",
    "            return abs(pri_dia_sum - sec_dia_sum)\n",
    "        else:\n",
    "            return \"This function only works for 2D Arrays of size NxN\"\n",
    "    else:\n",
    "        return \"This function accepts an 2D array only\"\n",
    "\n",
    "\n",
    "A = np.array([[1, 5, 12, 1], [2, -4, 6, 7], [3, 8, 5, 9], [3, 5, 23, -6]])\n",
    "print(abs_diff(A))"
   ]
  },
  {
   "cell_type": "markdown",
   "metadata": {},
   "source": [
    "Subtask 10.1:\n",
    "\n",
    "Suppose, you are given a matrix of dimension M×N called A. You have to transpose the matrix in a new 2D array. Finally, print the new array. Your program should work for any given 2D Arrays of size M×N.\n"
   ]
  },
  {
   "cell_type": "code",
   "execution_count": 9,
   "metadata": {},
   "outputs": [
    {
     "name": "stdout",
     "output_type": "stream",
     "text": [
      "[[ 1  1]\n",
      " [ 2  4]\n",
      " [ 3  9]\n",
      " [ 4 16]]\n"
     ]
    }
   ],
   "source": [
    "import numpy as np\n",
    "\n",
    "\n",
    "def transpose(arr):\n",
    "    if type(arr) == np.ndarray and len(arr.shape) == 2:\n",
    "        transpose = np.zeros((arr.shape[1], arr.shape[0]), dtype=int)\n",
    "        for i in range(transpose.shape[0]):\n",
    "            for j in range(transpose.shape[1]):\n",
    "                transpose[i][j] = arr[j][i]\n",
    "        return transpose\n",
    "    else:\n",
    "        return \"This function accepts an 2D array only\"\n",
    "\n",
    "\n",
    "A = np.array([[1, 2, 3, 4], [1, 4, 9, 16]])\n",
    "print(transpose(A))"
   ]
  },
  {
   "cell_type": "markdown",
   "metadata": {},
   "source": [
    "Subtask 10.2:\n",
    "\n",
    "Using the result from Subtask 10.1, calculate the gram matrix for A. You have to use loops to solve this task.\n"
   ]
  },
  {
   "cell_type": "code",
   "execution_count": 8,
   "metadata": {},
   "outputs": [
    {
     "name": "stdout",
     "output_type": "stream",
     "text": [
      "[[  2   6  12  20]\n",
      " [  6  20  42  72]\n",
      " [ 12  42  90 156]\n",
      " [ 20  72 156 272]]\n"
     ]
    }
   ],
   "source": [
    "import numpy as np\n",
    "\n",
    "\n",
    "def gram(arr):\n",
    "    if type(arr) == np.ndarray and len(arr.shape) == 2:\n",
    "        trans = transpose(arr)\n",
    "        gram = np.zeros((trans.shape[0], arr.shape[1]), dtype=int)\n",
    "        for i in range(gram.shape[0]):\n",
    "            for j in range(gram.shape[1]):\n",
    "                sum = 0\n",
    "                for k in range(trans.shape[1]):\n",
    "                    sum += trans[i][k] * arr[k][j]\n",
    "                gram[i][j] = sum\n",
    "        return gram\n",
    "    else:\n",
    "        return \"This function accepts an 2D array only\"\n",
    "\n",
    "\n",
    "A = np.array([[1, 2, 3, 4], [1, 4, 9, 16]])\n",
    "print(gram(A))"
   ]
  },
  {
   "cell_type": "markdown",
   "metadata": {},
   "source": [
    "Task 11:\n",
    "\n",
    "Suppose, you are given an M×N array called A. Your task is to subtract the row and column numbers and find the absolute difference. Next, find the remainder (rounded to 2 decimal places) by dividing the absolute value by M. Now,\n",
    "If remainder = 0, then find the average of the 1st row.\n",
    "If remainder = 1, then find the average of the 2nd row.\n",
    "If remainder = 2, then find the average of the 3rd row.\n",
    "Similarly, if remainder = m-1, then find the average of the mth row.\n",
    "Now multiply each element of the original array with the average to find out the final array. Finally, display the new array.\n"
   ]
  },
  {
   "cell_type": "code",
   "execution_count": 3,
   "metadata": {},
   "outputs": [
    {
     "name": "stdout",
     "output_type": "stream",
     "text": [
      "[[27.  13.5]\n",
      " [ 4.5 22.5]]\n"
     ]
    }
   ],
   "source": [
    "def process_array_and_multiply(array):\n",
    "    if type(array) == np.ndarray and len(array.shape) == 2:\n",
    "        M = array.shape[0]\n",
    "        N = array.shape[1]\n",
    "        diff = M - N\n",
    "\n",
    "        if diff < 0:\n",
    "            diff *= -1\n",
    "        remainder = diff % M\n",
    "\n",
    "        sum = 0\n",
    "        for i in range(array.shape[1]):\n",
    "            sum += array[remainder][i]\n",
    "        average = round(sum / array.shape[1], 2)\n",
    "\n",
    "        result_arr = np.zeros((array.shape[0], array.shape[1]), dtype=\"float\")\n",
    "\n",
    "        for j in range(result_arr.shape[0]):\n",
    "            for k in range(result_arr.shape[1]):\n",
    "                result_arr[j][k] = array[j][k] * average\n",
    "\n",
    "        return result_arr\n",
    "    else:\n",
    "        return \"This function accepts an 2D array only\"\n",
    "\n",
    "\n",
    "A = np.array([[6, 3], [1, 5]])\n",
    "print(process_array_and_multiply(A))"
   ]
  }
 ],
 "metadata": {
  "kernelspec": {
   "display_name": "Python 3",
   "language": "python",
   "name": "python3"
  },
  "language_info": {
   "codemirror_mode": {
    "name": "ipython",
    "version": 3
   },
   "file_extension": ".py",
   "mimetype": "text/x-python",
   "name": "python",
   "nbconvert_exporter": "python",
   "pygments_lexer": "ipython3",
   "version": "3.8.2"
  }
 },
 "nbformat": 4,
 "nbformat_minor": 2
}
