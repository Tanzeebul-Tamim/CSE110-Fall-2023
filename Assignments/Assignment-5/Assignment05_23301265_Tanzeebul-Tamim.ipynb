{
 "cells": [
  {
   "cell_type": "markdown",
   "metadata": {},
   "source": [
    "CW-1.1) Write a function called even_checker that takes a number as its argument and prints whether the number is even or odd inside the function.\n"
   ]
  },
  {
   "cell_type": "code",
   "execution_count": 9,
   "metadata": {},
   "outputs": [
    {
     "name": "stdout",
     "output_type": "stream",
     "text": [
      "Even!!\n",
      "Odd!!\n"
     ]
    }
   ],
   "source": [
    "def even_checker(num):\n",
    "    if num % 2 == 0:\n",
    "        print(\"Even!!\")\n",
    "    else:\n",
    "        print(\"Odd!!\")\n",
    "\n",
    "\n",
    "even_checker(10)\n",
    "even_checker(17)"
   ]
  },
  {
   "cell_type": "markdown",
   "metadata": {},
   "source": [
    "CW-1.2) Write a function called is_even() that takes a number as an argument and returns True if the number is even otherwise returns False.\n"
   ]
  },
  {
   "cell_type": "code",
   "execution_count": 11,
   "metadata": {},
   "outputs": [
    {
     "name": "stdout",
     "output_type": "stream",
     "text": [
      "False\n"
     ]
    }
   ],
   "source": [
    "def is_even(num):\n",
    "    if num % 2 == 0:\n",
    "        return True\n",
    "    else:\n",
    "        return False\n",
    "\n",
    "\n",
    "result = is_even(17)\n",
    "print(result)"
   ]
  },
  {
   "cell_type": "markdown",
   "metadata": {},
   "source": [
    "CW-1.3) Write a function called is_pos() that takes a number as an argument and returns True if the number is positive otherwise returns False.\n"
   ]
  },
  {
   "cell_type": "code",
   "execution_count": 2,
   "metadata": {},
   "outputs": [
    {
     "name": "stdout",
     "output_type": "stream",
     "text": [
      "True\n"
     ]
    }
   ],
   "source": [
    "def is_pos(num):\n",
    "    if num > 0:\n",
    "        return True\n",
    "    else:\n",
    "        return False\n",
    "\n",
    "\n",
    "result = is_pos(12)\n",
    "print(result)"
   ]
  },
  {
   "cell_type": "markdown",
   "metadata": {},
   "source": [
    "CW-1.4) Write a function called sequence() that takes an integer in its parameter called n. Now, if n is positive then it prints all the even numbers from 0 to n, otherwise if n is negative it prints all the odd numbers from n to -1.\n",
    "Note: You must call the functions from CW-1.2 and CW-1.3, otherwise this task would be considered invalid.\n"
   ]
  },
  {
   "cell_type": "code",
   "execution_count": 17,
   "metadata": {},
   "outputs": [
    {
     "name": "stdout",
     "output_type": "stream",
     "text": [
      "-7 -5 -3 -1 "
     ]
    }
   ],
   "source": [
    "def sequence(n):\n",
    "    if type(n) != int:\n",
    "        print(\"Your input must be an integer\")\n",
    "        return\n",
    "\n",
    "    isPos = is_pos(n)\n",
    "\n",
    "    if isPos:\n",
    "        for i in range(n + 1):\n",
    "            isEven = is_even(i)\n",
    "\n",
    "            if isEven:\n",
    "                print(i, end=\" \")\n",
    "\n",
    "    else:\n",
    "        for i in range(n, 0):\n",
    "            isEven = is_even(i)\n",
    "\n",
    "            if not isEven:\n",
    "                print(i, end=\" \")\n",
    "\n",
    "\n",
    "sequence(-8)"
   ]
  },
  {
   "cell_type": "markdown",
   "metadata": {},
   "source": [
    "CW-2.1) Write a function called is_valid_triangle that takes 3 integer numbers as arguments. The function will return True if the 3 sides can form a valid triangle otherwise it’ll return False.\n",
    "Note: In a valid triangle, the sum of any two sides will be greater than the third side.\n"
   ]
  },
  {
   "cell_type": "code",
   "execution_count": 19,
   "metadata": {},
   "outputs": [
    {
     "name": "stdout",
     "output_type": "stream",
     "text": [
      "False\n"
     ]
    }
   ],
   "source": [
    "def is_valid_triangle(side1, side2, side3):\n",
    "    if side1 + side2 > side3 and side2 + side3 > side1 and side1 + side3 > side2:\n",
    "        return True\n",
    "    else:\n",
    "        return False\n",
    "\n",
    "\n",
    "result = is_valid_triangle(3, 2, 1)\n",
    "print(result)"
   ]
  },
  {
   "cell_type": "markdown",
   "metadata": {},
   "source": [
    "CW-2.2) Write a function called tri_area that takes 3 sides of a triangle as 3 arguments. The function should calculate and print the area of the triangle only if it's a valid triangle otherwise print that it's not a valid triangle.\n",
    "Area of triangle = √[s(s−a)(s−b)(s−c)], where 's' is the semi perimeter of the triangle. So, semi-perimeter = perimeter/2 = (a + b + c)/2.\n",
    "Note: You must call the function written in task CW-2.1, otherwise this task would be considered invalid.\n"
   ]
  },
  {
   "cell_type": "code",
   "execution_count": 21,
   "metadata": {},
   "outputs": [
    {
     "name": "stdout",
     "output_type": "stream",
     "text": [
      "16.248\n"
     ]
    }
   ],
   "source": [
    "def tri_area(side1, side2, side3):\n",
    "    is_valid = is_valid_triangle(side1, side2, side3)\n",
    "    if is_valid:\n",
    "        s = (side1 + side2 + side3) / 2\n",
    "        area = (s * (s - side1) * (s - side2) * (s - side3)) ** 0.5\n",
    "        print(f\"{area:.3f}\")\n",
    "    else:\n",
    "        print(\"Can't form triangle\")\n",
    "\n",
    "\n",
    "tri_area(7, 5, 10)"
   ]
  },
  {
   "cell_type": "markdown",
   "metadata": {},
   "source": [
    "CW-3.1) Write a function called circle that takes a radius in its parameter and returns the area of the circle.\n"
   ]
  },
  {
   "cell_type": "code",
   "execution_count": 24,
   "metadata": {},
   "outputs": [
    {
     "name": "stdout",
     "output_type": "stream",
     "text": [
      "78.5398\n"
     ]
    }
   ],
   "source": [
    "import math\n",
    "\n",
    "\n",
    "def circle(radius):\n",
    "    area = math.pi * radius**2\n",
    "\n",
    "    return area\n",
    "\n",
    "\n",
    "print(f\"{circle(5):.4f}\")"
   ]
  },
  {
   "cell_type": "markdown",
   "metadata": {},
   "source": [
    "CW-3.2) Write a function called sphere that takes a radius in its parameter and returns the volume of the sphere.\n"
   ]
  },
  {
   "cell_type": "code",
   "execution_count": 26,
   "metadata": {},
   "outputs": [
    {
     "name": "stdout",
     "output_type": "stream",
     "text": [
      "523.5988\n"
     ]
    }
   ],
   "source": [
    "import math\n",
    "\n",
    "\n",
    "def sphere(radius):\n",
    "    volume = (4 / 3) * math.pi * radius**3\n",
    "\n",
    "    return volume\n",
    "\n",
    "\n",
    "print(f\"{sphere(5):.4f}\")"
   ]
  },
  {
   "cell_type": "markdown",
   "metadata": {},
   "source": [
    "CW-3.3) Write a function called fitting that takes three integer values as arguments. First two arguments are the two diameters and the third argument is the dimension. If it is 3 dimensional then you must calculate the volume of the spheres otherwise calculate the area of the circles. Finally, find out and print which circle/sphere can fit inside which one? Also, print how much space would be left if the smaller circle/sphere is put inside the larger one?\n",
    "Note: You must call the function written in task CW-3.1 & CW-3.2, otherwise this task would be considered invalid. Also, you can assume only 2 or 3 dimensions can be passed.\n"
   ]
  },
  {
   "cell_type": "code",
   "execution_count": 29,
   "metadata": {},
   "outputs": [
    {
     "name": "stdout",
     "output_type": "stream",
     "text": [
      "Impossible to fit.\n"
     ]
    }
   ],
   "source": [
    "def fitting(dia1, dia2, dimension):\n",
    "    if dimension not in [2, 3]:\n",
    "        raise ValueError(\"Dimension must be 2 or 3\")\n",
    "    elif type(dia1) != int or type(dia2) != int:\n",
    "        raise ValueError(\"Your input must be an integer\")\n",
    "    if dimension == 2:\n",
    "        area1 = circle(dia1 / 2)\n",
    "        area2 = circle(dia2 / 2)\n",
    "        if area1 > area2:\n",
    "            print(\n",
    "                f\"Circle-2 can fit inside Circle-1 and {round(area1 - area2, 3)} square units would be left.\"\n",
    "            )\n",
    "        elif area1 < area2:\n",
    "            print(\n",
    "                f\"Circle-1 can fit inside Circle-2 and {round(area2 - area1, 3)} square units would be left.\"\n",
    "            )\n",
    "        else:\n",
    "            print(\"Impossible to fit.\")\n",
    "    elif dimension == 3:\n",
    "        volume1 = sphere(dia1 / 2)\n",
    "        volume2 = sphere(dia2 / 2)\n",
    "        if volume1 > volume2:\n",
    "            print(\n",
    "                f\"Sphere-2 can fit inside Sphere-1 and {round(volume1 - volume2, 3)} cubic units would be left.\"\n",
    "            )\n",
    "        elif volume1 < volume2:\n",
    "            print(\n",
    "                f\"Sphere-1 can fit inside Sphere-2 and {round(volume2 - volume1, 3)} cubic units would be left.\"\n",
    "            )\n",
    "        else:\n",
    "            print(\"Impossible to fit.\")\n",
    "\n",
    "\n",
    "fitting(5, 5, 3)"
   ]
  },
  {
   "cell_type": "markdown",
   "metadata": {},
   "source": [
    "CW-5.1) Write a function called one_to_N that prints 1 till N recursively.\n",
    "Hint: N is a number taken as input from the user and you need to print the numbers starting from 1 to N recursively.\n"
   ]
  },
  {
   "cell_type": "code",
   "execution_count": 31,
   "metadata": {},
   "outputs": [
    {
     "name": "stdout",
     "output_type": "stream",
     "text": [
      "1 2 3 4 5 6 7 8 9 10 11 "
     ]
    }
   ],
   "source": [
    "def one_to_N(N):\n",
    "    if N == 1:\n",
    "        print(1, end=\" \")\n",
    "    else:\n",
    "        one_to_N(N - 1)\n",
    "        print(N, end=\" \")\n",
    "\n",
    "\n",
    "one_to_N(int(input(\"Please enter an integer value: \")))"
   ]
  },
  {
   "cell_type": "markdown",
   "metadata": {},
   "source": [
    "CW-5.2) Write a function reverse_printing from N to 1 recursively\n",
    "Hint: N is a number taken as input from the user and you need to print the numbers starting from N to 1.\n"
   ]
  },
  {
   "cell_type": "code",
   "execution_count": 2,
   "metadata": {},
   "outputs": [
    {
     "name": "stdout",
     "output_type": "stream",
     "text": [
      "3 2 1\n"
     ]
    }
   ],
   "source": [
    "def reverse_printing(N):\n",
    "    if N == 1:\n",
    "        print(1)\n",
    "    else:\n",
    "        print(N, end=\" \")\n",
    "        reverse_printing(N - 1)\n",
    "\n",
    "\n",
    "reverse_printing(int(input(\"Please enter an integer value: \")))"
   ]
  },
  {
   "cell_type": "markdown",
   "metadata": {},
   "source": [
    "CW-5.3) Write a function summation to sum till N recursively\n",
    "Hint: N is a number taken as input from the user and you need to add the numbers starting from 1 to N recursively and print the sum.\n"
   ]
  },
  {
   "cell_type": "code",
   "execution_count": 4,
   "metadata": {},
   "outputs": [
    {
     "name": "stdout",
     "output_type": "stream",
     "text": [
      "78\n"
     ]
    }
   ],
   "source": [
    "def summation(N):\n",
    "    if N == 1:\n",
    "        return 1\n",
    "    else:\n",
    "        return N + summation(N - 1)\n",
    "\n",
    "\n",
    "user_input = int(input(\"Please enter a numeric value: \"))\n",
    "result = summation(user_input)\n",
    "print(result)"
   ]
  },
  {
   "cell_type": "markdown",
   "metadata": {},
   "source": [
    "HW-1.1) Write a function called is_prime which takes an integer in its parameter to check whether a number is prime or not. If the number is prime then the function returns True otherwise it returns False.\n"
   ]
  },
  {
   "cell_type": "code",
   "execution_count": 6,
   "metadata": {},
   "outputs": [
    {
     "name": "stdout",
     "output_type": "stream",
     "text": [
      "False\n"
     ]
    }
   ],
   "source": [
    "def is_prime(num):\n",
    "    if type(num) != int or num <= 1:\n",
    "        return False\n",
    "    else:\n",
    "        for i in range(2, int(num**0.5) + 1):\n",
    "            if num % i == 0:\n",
    "                return False\n",
    "        return True\n",
    "\n",
    "\n",
    "prime_check = is_prime(15)\n",
    "print(prime_check)"
   ]
  },
  {
   "cell_type": "markdown",
   "metadata": {},
   "source": [
    "HW-1.2) Write a function called is_perfect which takes an integer in its parameter to check whether a number is perfect or not. If the number is perfect then the function returns True otherwise it returns False.\n"
   ]
  },
  {
   "cell_type": "code",
   "execution_count": 8,
   "metadata": {},
   "outputs": [
    {
     "name": "stdout",
     "output_type": "stream",
     "text": [
      "False\n"
     ]
    }
   ],
   "source": [
    "def is_perfect(num):\n",
    "    if type(num) != int or num < 1:\n",
    "        return False\n",
    "\n",
    "    total = 0\n",
    "    for i in range(1, num + 1):\n",
    "        if num % i == 0:\n",
    "            total += i\n",
    "\n",
    "    if total - num == num:\n",
    "        return True\n",
    "    else:\n",
    "        return False\n",
    "\n",
    "\n",
    "perfect_check = is_perfect(33)\n",
    "print(perfect_check)"
   ]
  },
  {
   "cell_type": "markdown",
   "metadata": {},
   "source": [
    "HW-1.3) Write a function called special_sum that calculates the sum of all numbers that are either prime numbers or perfect up till the integer value given in its parameter. This integer value must be taken as user input and passed into the function.\n",
    "Note: You must call the functions written in task HW-1.1 & HW-1.2, otherwise this task would be considered invalid.\n"
   ]
  },
  {
   "cell_type": "code",
   "execution_count": 10,
   "metadata": {},
   "outputs": [
    {
     "name": "stdout",
     "output_type": "stream",
     "text": [
      "163\n"
     ]
    }
   ],
   "source": [
    "def special_sum(num):\n",
    "    total = 0\n",
    "    for i in range(1, num + 1):\n",
    "        check_prime = is_prime(i)\n",
    "        check_perfect = is_perfect(i)\n",
    "        if check_perfect or check_prime:\n",
    "            total += i\n",
    "    return total\n",
    "\n",
    "\n",
    "result = special_sum(int(input(\"Please enter an integer value: \")))\n",
    "print(result)"
   ]
  },
  {
   "cell_type": "markdown",
   "metadata": {},
   "source": [
    "HW-2.1) Write a simple function called show_dots that takes a number as an argument and then prints that amount of dots inside the function.\n",
    "Note: You can use print(,end=””) to avoid the next output being printed on the next line.\n"
   ]
  },
  {
   "cell_type": "code",
   "execution_count": 11,
   "metadata": {},
   "outputs": [
    {
     "name": "stdout",
     "output_type": "stream",
     "text": [
      "....."
     ]
    }
   ],
   "source": [
    "def show_dots(num):\n",
    "    if type(num) != int:\n",
    "        print(\"Your input value must be an integer!\")\n",
    "        return\n",
    "    print(num * \".\", end=\"\")\n",
    "\n",
    "\n",
    "show_dots(5)"
   ]
  },
  {
   "cell_type": "markdown",
   "metadata": {},
   "source": [
    "HW-2.2) Write a function called show_palindrome that takes a number as an argument and then prints a palindrome inside the function.\n",
    "Note: You can use print(,end=””) to avoid the next output being printed on the next line\n"
   ]
  },
  {
   "cell_type": "code",
   "execution_count": 13,
   "metadata": {},
   "outputs": [
    {
     "name": "stdout",
     "output_type": "stream",
     "text": [
      "123454321"
     ]
    }
   ],
   "source": [
    "def show_palindrome(num):\n",
    "    if type(num) != int:\n",
    "        print(\"Your input value must be an integer!\")\n",
    "        return\n",
    "\n",
    "\n",
    "    for i in range(1, num + 1):\n",
    "        print(i, end=\"\")\n",
    "\n",
    "\n",
    "    for j in range(num - 1, 0, -1):\n",
    "        print(j, end=\"\")\n",
    "\n",
    "\n",
    "\n",
    "show_palindrome(5)"
   ]
  },
  {
   "cell_type": "markdown",
   "metadata": {},
   "source": [
    "HW-2.3) Write a function called show_triangle that takes a number as an argument and then prints a palindromic triangle. Moreover, the empty spaces surrounding the triangle are filled with dots(.) .\n",
    "Note: You must call the functions written in task HW-2.1 & HW-2.2, otherwise this task would be considered invalid.\n"
   ]
  },
  {
   "cell_type": "code",
   "execution_count": 15,
   "metadata": {},
   "outputs": [
    {
     "name": "stdout",
     "output_type": "stream",
     "text": [
      "....1....\n",
      "...121...\n",
      "..12321..\n",
      ".1234321.\n",
      "123454321\n"
     ]
    }
   ],
   "source": [
    "def show_triangle(num):\n",
    "    if type(num) != int:\n",
    "        print(\"Please enter an integer value\")\n",
    "        return\n",
    "    line_len = (num * 2) - 1\n",
    "    for i in range(1, num + 1):\n",
    "        number_of_numeric = (i * 2) - 1\n",
    "        number_of_dot = int((line_len - number_of_numeric) / 2)\n",
    "        show_dots(number_of_dot)\n",
    "        show_palindrome(i)\n",
    "        show_dots(number_of_dot)\n",
    "        print()\n",
    "\n",
    "\n",
    "show_triangle(5)"
   ]
  },
  {
   "cell_type": "markdown",
   "metadata": {},
   "source": [
    "HW-3.1) Write a function called calc_tax that takes 2 arguments which are your age then your salary. The function must calculate and return the tax as the following conditions:\n",
    "No tax if you are less than 18 years old.\n",
    "No tax if you get paid less than 10,000\n",
    "7% tax if you get paid between 10K and 20K\n",
    "14% tax if you get paid more than 20K\n"
   ]
  },
  {
   "cell_type": "code",
   "execution_count": 21,
   "metadata": {},
   "outputs": [
    {
     "name": "stdout",
     "output_type": "stream",
     "text": [
      "1260\n"
     ]
    }
   ],
   "source": [
    "def calc_tax(age, salary):\n",
    "    tax = 0\n",
    "    if age < 18 or salary < 10000:\n",
    "        tax = 0\n",
    "    elif 10000 <= salary <= 20000:\n",
    "        tax = (salary * 7) / 100\n",
    "    elif salary > 20000:\n",
    "        tax = (salary * 14) / 100\n",
    "    return tax\n",
    "\n",
    "\n",
    "t = calc_tax(20, 18000)\n",
    "print(int(t))"
   ]
  },
  {
   "cell_type": "markdown",
   "metadata": {},
   "source": [
    "HW-3.2) Write a function called calc_yearly_tax that takes no arguments. Inside the function it should take first input as your age and then 12 others inputs as income of each month of the year. The function must calculate and print Tax for each month and finally print the total Tax of the whole year based on the HW-3.1 conditions.   \n",
    "Note: You must call the function written in task HW-3.1, otherwise this task would be considered invalid.\n"
   ]
  },
  {
   "cell_type": "code",
   "execution_count": 22,
   "metadata": {},
   "outputs": [
    {
     "name": "stdout",
     "output_type": "stream",
     "text": [
      "Month1 Tax: 0\n",
      "Month2 Tax: 1050.0\n",
      "Month3 Tax: 3080.0\n",
      "Month4 Tax: 0\n",
      "Month5 Tax: 1071.0\n",
      "Month6 Tax: 2940.0\n",
      "Month7 Tax: 4760.0\n",
      "Month8 Tax: 0\n",
      "Month9 Tax: 3780.0\n",
      "Month10 Tax: 12320.0\n",
      "Month11 Tax: 4480.0\n",
      "Month12 Tax: 0\n",
      "Total Yearly Tax: 33481.0\n"
     ]
    }
   ],
   "source": [
    "def calc_yearly_tax():\n",
    "    age = int(input(\"Please enter your age: \"))\n",
    "    yearly_tax = 0\n",
    "    for i in range(1, 13):\n",
    "        salary = int(input(f\"Please enter your month {i} salary: \"))\n",
    "        monthly_tax = calc_tax(age, salary)\n",
    "        yearly_tax += monthly_tax\n",
    "        print(f\"Month{i} Tax: {monthly_tax}\")\n",
    "    print(f\"Total Yearly Tax: {yearly_tax}\")\n",
    "\n",
    "\n",
    "calc_yearly_tax()"
   ]
  },
  {
   "cell_type": "markdown",
   "metadata": {},
   "source": [
    "HW-4.1) Write a recursive function called reverse_digits that takes an integer n as an argument and prints the digits of n in reverse order.\n"
   ]
  },
  {
   "cell_type": "code",
   "execution_count": 25,
   "metadata": {},
   "outputs": [
    {
     "name": "stdout",
     "output_type": "stream",
     "text": [
      "0\n",
      "0\n",
      "0\n",
      "1\n"
     ]
    }
   ],
   "source": [
    "def reverse_digits(n):\n",
    "    if type(n) != int:\n",
    "        print(\"Please enter an integer value\")\n",
    "        return\n",
    "    string = str(n)\n",
    "    digit_count = len(string)\n",
    "    if digit_count == 1:\n",
    "        print(string[digit_count - 1])\n",
    "    else:\n",
    "        print(string[digit_count - 1])\n",
    "        string = string[: digit_count - 1 :]\n",
    "        reverse_digits(int(string))\n",
    "\n",
    "\n",
    "reverse_digits(1000)"
   ]
  },
  {
   "cell_type": "markdown",
   "metadata": {},
   "source": [
    "HW-4.2) Write a recursive function called power that takes two arguments a and n. The function calculates and returns the value of a^n.\n"
   ]
  },
  {
   "cell_type": "code",
   "execution_count": 2,
   "metadata": {},
   "outputs": [
    {
     "name": "stdout",
     "output_type": "stream",
     "text": [
      "6561\n"
     ]
    }
   ],
   "source": [
    "def power(a, n):\n",
    "    if type(n) != int:\n",
    "        return \"The power must be an integer\"\n",
    "    if n == 0:\n",
    "        return 1\n",
    "    else:\n",
    "        return a * power(a, n - 1)\n",
    "\n",
    "\n",
    "print(power(9, 4))"
   ]
  },
  {
   "cell_type": "markdown",
   "metadata": {},
   "source": [
    "HW-5.0) Write a function called sequence_iterative that uses loop to calculate the value of y if the expression of y is as follows (Here, N is the input)\n",
    "y = 1 - 2 + 3 - 4 + 5 - …… + N\n"
   ]
  },
  {
   "cell_type": "code",
   "execution_count": 30,
   "metadata": {},
   "outputs": [
    {
     "name": "stdout",
     "output_type": "stream",
     "text": [
      "-5\n"
     ]
    }
   ],
   "source": [
    "def sequence_iterative(N):\n",
    "    if N < 0 or type(N) != int:\n",
    "        return \"Input value must be a positive integer\"\n",
    "    pos_total = 0\n",
    "    neg_total = 0\n",
    "    for i in range(1, N + 1):\n",
    "        if i % 2 == 0:\n",
    "            neg_total += -i\n",
    "        else:\n",
    "            pos_total += i\n",
    "    return pos_total + neg_total\n",
    "\n",
    "\n",
    "print(sequence_iterative(10))"
   ]
  },
  {
   "cell_type": "markdown",
   "metadata": {},
   "source": [
    "HW-5.1) Write a recursive function called sequence_recursive that calculates the value of y if the expression of y is as follows (Here, N is the input)\n",
    "y = 1 - 2 + 3 - 4 + 5 - …… + N\n"
   ]
  },
  {
   "cell_type": "code",
   "execution_count": 1,
   "metadata": {},
   "outputs": [
    {
     "name": "stdout",
     "output_type": "stream",
     "text": [
      "-3\n"
     ]
    }
   ],
   "source": [
    "def sequence_recursive(N):\n",
    "    if N < 0 or type(N) != int:\n",
    "        return \"Input value must be a positive integer\"\n",
    "    if N == 1:\n",
    "        return 1\n",
    "    else:\n",
    "        if N % 2 == 0:\n",
    "            return sequence_recursive(N - 1) - N\n",
    "        else:\n",
    "            return sequence_recursive(N - 1) + N\n",
    "\n",
    "\n",
    "print(sequence_recursive(6))"
   ]
  }
 ],
 "metadata": {
  "kernelspec": {
   "display_name": "Python 3",
   "language": "python",
   "name": "python3"
  },
  "language_info": {
   "codemirror_mode": {
    "name": "ipython",
    "version": 3
   },
   "file_extension": ".py",
   "mimetype": "text/x-python",
   "name": "python",
   "nbconvert_exporter": "python",
   "pygments_lexer": "ipython3",
   "version": "3.8.2"
  }
 },
 "nbformat": 4,
 "nbformat_minor": 2
}
