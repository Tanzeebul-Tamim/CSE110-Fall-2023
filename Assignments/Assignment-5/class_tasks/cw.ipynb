{
 "cells": [
  {
   "cell_type": "markdown",
   "metadata": {},
   "source": [
    "**CW-1.1)**  \n",
    "Write a function called `even_checker()` that takes a number as its argument and **prints** whether the number is even or odd inside the function."
   ]
  },
  {
   "cell_type": "code",
   "execution_count": 7,
   "metadata": {},
   "outputs": [
    {
     "name": "stdout",
     "output_type": "stream",
     "text": [
      "Even!!\n",
      "Odd!!\n"
     ]
    }
   ],
   "source": [
    "def even_checker(number):\n",
    "    if number % 2 == 0:\n",
    "        print(\"Even!!\")\n",
    "    else:\n",
    "        print(\"Odd!!\")\n",
    "\n",
    "even_checker(10)\n",
    "even_checker(17)"
   ]
  },
  {
   "cell_type": "markdown",
   "metadata": {},
   "source": [
    "**CW-1.2)**  \n",
    "Write a function called `is_even()` that takes a number as an argument and **returns True** if the number is even otherwise **returns False**."
   ]
  },
  {
   "cell_type": "code",
   "execution_count": 8,
   "metadata": {},
   "outputs": [
    {
     "name": "stdout",
     "output_type": "stream",
     "text": [
      "True\n",
      "False\n"
     ]
    }
   ],
   "source": [
    "def is_even(number):\n",
    "    if number % 2 == 0:\n",
    "        return True\n",
    "    else:\n",
    "        return False\n",
    "\n",
    "result = is_even(10)\n",
    "print( result )\n",
    "\n",
    "result = is_even(17)\n",
    "print( result )"
   ]
  },
  {
   "cell_type": "markdown",
   "metadata": {},
   "source": [
    "**CW-1.3)**  \n",
    "Write a function called `is_pos()` that takes a number as an argument and **returns True** if the number is positive otherwise **returns False**."
   ]
  },
  {
   "cell_type": "code",
   "execution_count": 9,
   "metadata": {},
   "outputs": [
    {
     "name": "stdout",
     "output_type": "stream",
     "text": [
      "False\n",
      "True\n"
     ]
    }
   ],
   "source": [
    "def is_pos(number):\n",
    "    if number > 0:\n",
    "        return True\n",
    "    else:\n",
    "        return False\n",
    "\n",
    "result = is_pos(-5)\n",
    "print( result )\n",
    "\n",
    "result = is_pos(12)\n",
    "print( result )"
   ]
  },
  {
   "cell_type": "markdown",
   "metadata": {},
   "source": [
    "**CW-1.4)**  \n",
    "Write a function called `sequence()` that takes an integer in its parameter called **n**. Now, if **n** is positive then it **prints** all the even numbers from 0 to n, otherwise if **n** is negative it **prints** all the odd numbers from n to -1.\n",
    "\n",
    "_**Note:**_ **YOU MUST CALL** the functions `is_even()` and `is_pos()`, otherwise this task would be considered invalid."
   ]
  },
  {
   "cell_type": "code",
   "execution_count": 10,
   "metadata": {},
   "outputs": [
    {
     "name": "stdout",
     "output_type": "stream",
     "text": [
      "0 2 4 6 8 10 \n",
      "-7 -5 -3 -1 \n",
      "0 2 4 6 \n",
      "-7 -5 -3 -1 \n"
     ]
    }
   ],
   "source": [
    "def sequence(n):\n",
    "    if type(n) != int:\n",
    "        print(\"Your input must be an integer\")\n",
    "        return\n",
    "\n",
    "    if is_pos(n):\n",
    "        for i in range(n + 1):\n",
    "            if is_even(i):\n",
    "                print(i, end=\" \")\n",
    "    else:\n",
    "        for i in range(n, 0):\n",
    "            if not is_even(i):\n",
    "                print(i, end=\" \")\n",
    "    print()\n",
    "\n",
    "sequence(10)\n",
    "sequence(-7)\n",
    "sequence(7)\n",
    "sequence(-8)"
   ]
  },
  {
   "cell_type": "markdown",
   "metadata": {},
   "source": [
    "**CW-2.1)**  \n",
    "Write a function called `is_valid_triangle()` that takes 3 integer numbers as arguments. The function will **return True** if the 3 sides can form a valid triangle otherwise it’ll **return False**.\n",
    "\n",
    "**Note:** In a valid triangle, the sum of any two sides will be greater than the third side."
   ]
  },
  {
   "cell_type": "code",
   "execution_count": 11,
   "metadata": {},
   "outputs": [
    {
     "name": "stdout",
     "output_type": "stream",
     "text": [
      "True\n",
      "False\n"
     ]
    }
   ],
   "source": [
    "def is_valid_triangle(a, b, c):\n",
    "    if a + b > c and a + c > b and b + c > a:\n",
    "        return True\n",
    "    else:\n",
    "        return False\n",
    "\n",
    "result = is_valid_triangle(7, 5, 10)\n",
    "print(result)\n",
    "\n",
    "result = is_valid_triangle(3, 2, 1)\n",
    "print(result)"
   ]
  },
  {
   "cell_type": "markdown",
   "metadata": {},
   "source": [
    "**CW-2.2)**\n",
    "Write a function called `tri_area()` that takes 3 sides of a triangle as 3 arguments. The function should calculate and **print** the area of the triangle only if it's a valid triangle; otherwise, print **\"Can’t form triangle\"**.  \n",
    "\n",
    "The area of a triangle is given by:  \n",
    "$$\n",
    "\\text{Area} = \\sqrt{s(s-a)(s-b)(s-c)}\n",
    "$$  \n",
    "\n",
    "Where **\\( s \\)** is the semi-perimeter of the triangle. The semi-perimeter of the triangle is given by:  \n",
    "$$\n",
    "s = \\frac{\\text{perimeter}}{2} = \\frac{a + b + c}{2}\n",
    "$$\n",
    "\n",
    "\n",
    "\n",
    "_**Note:**_ **YOU MUST CALL** the function `is_valid_triangle()` from **CW-2.1**."
   ]
  },
  {
   "cell_type": "code",
   "execution_count": 12,
   "metadata": {},
   "outputs": [
    {
     "name": "stdout",
     "output_type": "stream",
     "text": [
      "Can’t form triangle\n",
      "16.248\n"
     ]
    }
   ],
   "source": [
    "def tri_area(a, b, c):\n",
    "    if is_valid_triangle(a, b, c):\n",
    "        s = (a + b + c) / 2\n",
    "        area = (s * (s - a) * (s - b) * (s - c)) ** 0.5\n",
    "        print(f\"{area:.3f}\")\n",
    "    else:\n",
    "        print(\"Can’t form triangle\")\n",
    "\n",
    "\n",
    "tri_area(3, 2, 1)\n",
    "tri_area(7, 5, 10)"
   ]
  },
  {
   "cell_type": "markdown",
   "metadata": {},
   "source": [
    "**CW-3.1)**  \n",
    "Write a function called `circle()` that takes a radius in its parameter and **returns** the **area** of the circle.\n",
    "\n",
    "**Note:** Area of a circle is:  \n",
    "$$\n",
    "\\text{Area of a Circle} = \\pi r^2\n",
    "$$"
   ]
  },
  {
   "cell_type": "code",
   "execution_count": 13,
   "metadata": {},
   "outputs": [
    {
     "name": "stdout",
     "output_type": "stream",
     "text": [
      "78.5398\n"
     ]
    }
   ],
   "source": [
    "import math\n",
    "\n",
    "def circle(radius):\n",
    "    return math.pi * radius ** 2\n",
    "\n",
    "print(f\"{circle(5):.4f}\")"
   ]
  },
  {
   "cell_type": "markdown",
   "metadata": {},
   "source": [
    "**CW-3.2)**  \n",
    "Write a function called `sphere()` that takes a radius in its parameter and **returns** the **volume** of the sphere.\n",
    "\n",
    "**Note:** Volume of a circle is:  \n",
    "$$\n",
    "\\text{Volume of a Sphere} = \\frac{4}{3} \\pi r^3\n",
    "$$  "
   ]
  },
  {
   "cell_type": "code",
   "execution_count": 14,
   "metadata": {},
   "outputs": [
    {
     "name": "stdout",
     "output_type": "stream",
     "text": [
      "523.5988\n"
     ]
    }
   ],
   "source": [
    "import math\n",
    "\n",
    "def sphere(radius):\n",
    "    volume = (4 / 3) * math.pi * (radius ** 3)\n",
    "    return volume\n",
    "\n",
    "print(f\"{sphere(5):.4f}\")"
   ]
  },
  {
   "cell_type": "markdown",
   "metadata": {},
   "source": [
    "**CW-3.3)**  \n",
    "Write a function called `fitting()` that takes three integer values as arguments. First two arguments are the two **diameters** and the third argument is the **dimension**. If it is 3 dimensional then you must calculate the volume of the **spheres** otherwise calculate the area of the **circles**. Finally, find out and print which circle/sphere can fit inside which one? Also, print how much space would be left if the smaller circle/sphere is put inside the larger one?  \n",
    "\n",
    "_**Note:**_ **YOU MUST CALL** the function `circle()` & `sphere()`, otherwise this task would be considered invalid. Also, you can assume only 2 or 3 dimensions can be passed."
   ]
  },
  {
   "cell_type": "code",
   "execution_count": 15,
   "metadata": {},
   "outputs": [
    {
     "name": "stdout",
     "output_type": "stream",
     "text": [
      "Circle-1 can fit inside Circle-2 and 28.274 square units would be left.\n",
      "Sphere-2 can fit inside Sphere-1 and 12700.412 cubic units would be left.\n",
      "Impossible to fit.\n"
     ]
    }
   ],
   "source": [
    "def fitting(d1, d2, dimension):\n",
    "    if dimension not in [2, 3]:\n",
    "        raise ValueError(\"Dimension must be 2 or 3\")\n",
    "    elif type(d1) != int or type(d2) != int:\n",
    "        raise ValueError(\"Your input must be an integer\")\n",
    "\n",
    "    r1 = d1 / 2\n",
    "    r2 = d2 / 2\n",
    "\n",
    "    if d1 == d2:\n",
    "        print(\"Impossible to fit.\")\n",
    "\n",
    "    elif dimension == 2:\n",
    "        area1 = circle(r1)\n",
    "        area2 = circle(r2)\n",
    "\n",
    "        if area1 > area2:\n",
    "            print(f\"Circle-2 can fit inside Circle-1 and {area1 - area2:.3f} square units would be left.\")\n",
    "        else:\n",
    "            print(f\"Circle-1 can fit inside Circle-2 and {area2 - area1:.3f} square units would be left.\")\n",
    "\n",
    "    elif dimension == 3:\n",
    "        volume1 = sphere(r1)\n",
    "        volume2 = sphere(r2)\n",
    "\n",
    "        if volume1 > volume2:\n",
    "            print(f\"Sphere-2 can fit inside Sphere-1 and {volume1 - volume2:.3f} cubic units would be left.\")\n",
    "        else:\n",
    "            print(f\"Sphere-1 can fit inside Sphere-2 and {volume2 - volume1:.3f} cubic units would be left.\")\n",
    "            \n",
    "    else:\n",
    "        print(\"Invalid dimension. Please input 2 or 3.\")\n",
    "\n",
    "fitting(8, 10, 2)\n",
    "fitting(30, 14, 3)\n",
    "fitting(5, 5, 3)"
   ]
  },
  {
   "cell_type": "markdown",
   "metadata": {},
   "source": [
    "**CW-4.1)**  \n",
    "Trace the following code to generate outputs:\n",
    "\n",
    "```python\n",
    "print(\"Starting.....3\")\n",
    "c=99\n",
    "\n",
    "def F3(a):\n",
    "    print(\"F3 begun\")\n",
    "    print(a+c)\n",
    "    print(\"F3 ending\")\n",
    "    return a*5\n",
    "\n",
    "print(\"Starting...2\")\n",
    "\n",
    "def F1():\n",
    "    print(\"F1 begun\")\n",
    "    F2(5)\n",
    "    print(\"F1 ended\")\n",
    "\n",
    "print(\"Starting..1\")\n",
    "\n",
    "def F2(c):\n",
    "    print(\"F2 begun\")\n",
    "    print( F3(c)+30 )\n",
    "    print(\"F2 ended\")\n",
    "\n",
    "print(F1())\n",
    "print(\"All Done\")\n",
    "```\n",
    "\n",
    "| Output         |\n",
    "| -------------- |\n",
    "| Starting.....3 |\n",
    "| Starting...2   |\n",
    "| Starting..1    |\n",
    "| F1 begun       |\n",
    "| F2 begun       |\n",
    "| F3 begun       |\n",
    "| 104            |\n",
    "| F3 ending      |\n",
    "| 55             |\n",
    "| F2 ended       |\n",
    "| F1 ended       |\n",
    "| None           |\n",
    "| All Done       |\n"
   ]
  },
  {
   "cell_type": "code",
   "execution_count": 16,
   "metadata": {},
   "outputs": [
    {
     "name": "stdout",
     "output_type": "stream",
     "text": [
      "Starting.....3\n",
      "Starting...2\n",
      "Starting..1\n",
      "F1 begun\n",
      "F2 begun\n",
      "F3 begun\n",
      "104\n",
      "F3 ending\n",
      "55\n",
      "F2 ended\n",
      "F1 ended\n",
      "None\n",
      "All Done\n"
     ]
    }
   ],
   "source": [
    "print(\"Starting.....3\")\n",
    "c=99\n",
    "\n",
    "def F3(a):\n",
    "    print(\"F3 begun\")\n",
    "    print(a+c)\n",
    "    print(\"F3 ending\")\n",
    "    return a*5\n",
    "\n",
    "print(\"Starting...2\")\n",
    "\n",
    "def F1():\n",
    "    print(\"F1 begun\")\n",
    "    F2(5)\n",
    "    print(\"F1 ended\")\n",
    "\n",
    "print(\"Starting..1\")\n",
    "\n",
    "def F2(c):\n",
    "    print(\"F2 begun\")\n",
    "    print( F3(c)+30 )\n",
    "    print(\"F2 ended\")\n",
    "    \n",
    "print(F1())\n",
    "print(\"All Done\")"
   ]
  },
  {
   "cell_type": "markdown",
   "metadata": {},
   "source": [
    "**CW-4.2)**  \n",
    "Trace the following code to generate outputs:\n",
    "\n",
    "```python\n",
    "def factorial(n):\n",
    "    if n == 0 or n == 1:\n",
    "        return 1\n",
    "    else:\n",
    "        return n * factorial(n - 1)\n",
    "\n",
    "print(factorial(5))\n",
    "```\n",
    "\n",
    "| Output |\n",
    "| ------ |\n",
    "| 120    |\n"
   ]
  },
  {
   "cell_type": "code",
   "execution_count": 17,
   "metadata": {},
   "outputs": [
    {
     "name": "stdout",
     "output_type": "stream",
     "text": [
      "120\n"
     ]
    }
   ],
   "source": [
    "def factorial(n):\n",
    "    if n == 0 or n == 1:\n",
    "        return 1\n",
    "    else:\n",
    "        return n * factorial(n - 1)\n",
    "\n",
    "print(factorial(5))"
   ]
  },
  {
   "cell_type": "markdown",
   "metadata": {},
   "source": [
    "**CW-5.1)**  \n",
    "Write a function called `one_to_N()` that prints **from 1 till N** recursively. \n",
    "\n",
    "_**Hint: N** is a number taken as input from the user and you need to print the numbers starting from **1 to N** recursively._"
   ]
  },
  {
   "cell_type": "code",
   "execution_count": 19,
   "metadata": {},
   "outputs": [
    {
     "name": "stdout",
     "output_type": "stream",
     "text": [
      "1 2 3 4 5 6 7 8 9 10 11 "
     ]
    }
   ],
   "source": [
    "def one_to_N(N):\n",
    "    if N == 1:\n",
    "        print(1, end=\" \")\n",
    "    else:\n",
    "        one_to_N(N - 1)\n",
    "        print(N, end=\" \")\n",
    "\n",
    "\n",
    "one_to_N(int(input(\"Please enter an integer value: \")))"
   ]
  },
  {
   "cell_type": "markdown",
   "metadata": {},
   "source": [
    "**CW-5.2)**  \n",
    "Write a function called `reverse_printing()` that prints **from N till 1** recursively.\n",
    "\n",
    "_**Hint: N** is a number taken as input from the user and you need to print the numbers starting from N to 1 recursively._"
   ]
  },
  {
   "cell_type": "code",
   "execution_count": 20,
   "metadata": {},
   "outputs": [
    {
     "name": "stdout",
     "output_type": "stream",
     "text": [
      "6 5 4 3 2 1\n"
     ]
    }
   ],
   "source": [
    "def reverse_printing(N):\n",
    "    if N == 1:\n",
    "        print(1)\n",
    "    else:\n",
    "        print(N, end=\" \")\n",
    "        reverse_printing(N - 1)\n",
    "\n",
    "\n",
    "reverse_printing(int(input(\"Please enter an integer value: \")))"
   ]
  },
  {
   "cell_type": "markdown",
   "metadata": {},
   "source": [
    "**CW-5.3)**  \n",
    "Write a function `summation()` to sum till **N** recursively.\n",
    "\n",
    "_**Hint: N** is a number taken as input from the user and you need to add the numbers starting from 1 to N recursively and print the sum._"
   ]
  },
  {
   "cell_type": "code",
   "execution_count": 21,
   "metadata": {},
   "outputs": [
    {
     "name": "stdout",
     "output_type": "stream",
     "text": [
      "78\n"
     ]
    }
   ],
   "source": [
    "def summation(N):\n",
    "    if N == 1:\n",
    "        return 1\n",
    "    else:\n",
    "        return N + summation(N - 1)\n",
    "\n",
    "\n",
    "user_input = int(input(\"Please enter a numeric value: \"))\n",
    "result = summation(user_input)\n",
    "print(result)"
   ]
  }
 ],
 "metadata": {
  "kernelspec": {
   "display_name": "Python 3",
   "language": "python",
   "name": "python3"
  },
  "language_info": {
   "codemirror_mode": {
    "name": "ipython",
    "version": 3
   },
   "file_extension": ".py",
   "mimetype": "text/x-python",
   "name": "python",
   "nbconvert_exporter": "python",
   "pygments_lexer": "ipython3",
   "version": "3.8.2"
  }
 },
 "nbformat": 4,
 "nbformat_minor": 2
}
