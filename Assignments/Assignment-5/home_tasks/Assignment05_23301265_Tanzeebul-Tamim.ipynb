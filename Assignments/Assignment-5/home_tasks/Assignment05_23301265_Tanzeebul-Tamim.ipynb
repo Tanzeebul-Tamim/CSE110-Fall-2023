{
 "cells": [
  {
   "cell_type": "markdown",
   "metadata": {},
   "source": [
    "**HW-1.1)**  \n",
    "Write a function called `is_prime()` which takes an integer in its parameter to check whether a number is prime or not. If the number is prime then the function **returns True** otherwise it **returns False**.\n"
   ]
  },
  {
   "cell_type": "code",
   "execution_count": 6,
   "metadata": {},
   "outputs": [
    {
     "name": "stdout",
     "output_type": "stream",
     "text": [
      "False\n"
     ]
    }
   ],
   "source": [
    "def is_prime(num):\n",
    "    if type(num) != int or num <= 1:\n",
    "        return False\n",
    "    else:\n",
    "        for i in range(2, int(num**0.5) + 1):\n",
    "            if num % i == 0:\n",
    "                return False\n",
    "        return True\n",
    "\n",
    "prime_check = is_prime(15)\n",
    "print(prime_check)"
   ]
  },
  {
   "cell_type": "markdown",
   "metadata": {},
   "source": [
    "**HW-1.2)**  \n",
    "Write a function called `is_perfect()` which takes an integer in its parameter to check whether a number is perfect or not. If the number is perfect then the function **returns True** otherwise it **returns False**.\n"
   ]
  },
  {
   "cell_type": "code",
   "execution_count": 8,
   "metadata": {},
   "outputs": [
    {
     "name": "stdout",
     "output_type": "stream",
     "text": [
      "False\n"
     ]
    }
   ],
   "source": [
    "def is_perfect(num):\n",
    "    if type(num) != int or num < 1:\n",
    "        return False\n",
    "\n",
    "    total = 0\n",
    "    for i in range(1, num + 1):\n",
    "        if num % i == 0:\n",
    "            total += i\n",
    "\n",
    "    if total - num == num:\n",
    "        return True\n",
    "    else:\n",
    "        return False\n",
    "\n",
    "perfect_check = is_perfect(33)\n",
    "print(perfect_check)"
   ]
  },
  {
   "cell_type": "markdown",
   "metadata": {},
   "source": [
    "**HW-1.3)**  \n",
    "Write a function `called special_sum()` that calculates the sum of all numbers that are either prime numbers or perfect up till the integer value given in its parameter. This integer value must be taken as user input and passed into the function.\n",
    "\n",
    "_**Note:**_ **YOUT MUST CALL** the functions `is_prime()` & `is_perfect()`, otherwise this task would be considered invalid.\n"
   ]
  },
  {
   "cell_type": "code",
   "execution_count": 10,
   "metadata": {},
   "outputs": [
    {
     "name": "stdout",
     "output_type": "stream",
     "text": [
      "163\n"
     ]
    }
   ],
   "source": [
    "def special_sum(num):\n",
    "    total = 0\n",
    "\n",
    "    for i in range(1, num + 1):\n",
    "        check_prime = is_prime(i)\n",
    "        check_perfect = is_perfect(i)\n",
    "\n",
    "        if check_perfect or check_prime:\n",
    "            total += i\n",
    "\n",
    "    return total\n",
    "\n",
    "result = special_sum(int(input(\"Please enter an integer value: \")))\n",
    "print(result)"
   ]
  },
  {
   "cell_type": "markdown",
   "metadata": {},
   "source": [
    "**HW-2.1)**  \n",
    "Write a simple function called `show_dots()` that takes a number as an argument and then **prints** that amount of dots inside the function.\n",
    "\n",
    "**Note:** You can use `print(,end=””)` to avoid the next output being printed on the next line."
   ]
  },
  {
   "cell_type": "code",
   "execution_count": 11,
   "metadata": {},
   "outputs": [
    {
     "name": "stdout",
     "output_type": "stream",
     "text": [
      "....."
     ]
    }
   ],
   "source": [
    "def show_dots(num):\n",
    "    if type(num) != int:\n",
    "        print(\"Your input value must be an integer!\")\n",
    "        return\n",
    "    \n",
    "    print(num * \".\", end=\"\")\n",
    "\n",
    "show_dots(5)"
   ]
  },
  {
   "cell_type": "markdown",
   "metadata": {},
   "source": [
    "**HW-2.2)**  \n",
    "Write a function called `show_palindrome()` that takes a number as an argument and then **prints** a palindrome inside the function.\n",
    "\n",
    "**Note:** You can use `print(,end=””)` to avoid the next output being printed on the next line."
   ]
  },
  {
   "cell_type": "code",
   "execution_count": 13,
   "metadata": {},
   "outputs": [
    {
     "name": "stdout",
     "output_type": "stream",
     "text": [
      "123454321"
     ]
    }
   ],
   "source": [
    "def show_palindrome(num):\n",
    "    if type(num) != int:\n",
    "        print(\"Your input value must be an integer!\")\n",
    "        return\n",
    "\n",
    "    for i in range(1, num + 1):\n",
    "        print(i, end=\"\")\n",
    "\n",
    "    for j in range(num - 1, 0, -1):\n",
    "        print(j, end=\"\")\n",
    "\n",
    "show_palindrome(5)"
   ]
  },
  {
   "cell_type": "markdown",
   "metadata": {},
   "source": [
    "**HW-2.3)**  \n",
    "Write a function called `show_triangle()` that takes a number as an argument and then **prints** a palindromic triangle. Moreover, the empty spaces surrounding the triangle are filled with dots **(.)**.\n",
    "\n",
    "_**Note:**_ **YOU MUST CALL** the functions `show_dots()` & `show_palindrome()`, otherwise this task would be considered invalid."
   ]
  },
  {
   "cell_type": "code",
   "execution_count": 15,
   "metadata": {},
   "outputs": [
    {
     "name": "stdout",
     "output_type": "stream",
     "text": [
      "....1....\n",
      "...121...\n",
      "..12321..\n",
      ".1234321.\n",
      "123454321\n"
     ]
    }
   ],
   "source": [
    "def show_triangle(num):\n",
    "    if type(num) != int:\n",
    "        print(\"Please enter an integer value\")\n",
    "        return\n",
    "    \n",
    "    line_len = (num * 2) - 1\n",
    "\n",
    "    for i in range(1, num + 1):\n",
    "        number_of_numeric = (i * 2) - 1\n",
    "        number_of_dot = int((line_len - number_of_numeric) / 2)\n",
    "\n",
    "        show_dots(number_of_dot)\n",
    "        show_palindrome(i)\n",
    "        show_dots(number_of_dot)\n",
    "\n",
    "        print()\n",
    "\n",
    "show_triangle(5)"
   ]
  },
  {
   "cell_type": "markdown",
   "metadata": {},
   "source": [
    "**HW-3.1)**  \n",
    "Write a function called `calc_tax()` that takes 2 arguments which are your age then your salary. The function must calculate and **return** the tax as the following conditions:\n",
    "\n",
    "- No tax if you are less than 18 years old.\n",
    "- No tax if you get paid less than 10,000\n",
    "- 7% tax if you get paid between 10K and 20K\n",
    "- 14% tax if you get paid more than 20K"
   ]
  },
  {
   "cell_type": "code",
   "execution_count": 21,
   "metadata": {},
   "outputs": [
    {
     "name": "stdout",
     "output_type": "stream",
     "text": [
      "1260\n"
     ]
    }
   ],
   "source": [
    "def calc_tax(age, salary):\n",
    "    tax = 0\n",
    "\n",
    "    if age < 18 or salary < 10000:\n",
    "        tax = 0\n",
    "\n",
    "    elif 10000 <= salary <= 20000:\n",
    "        tax = (salary * 7) / 100\n",
    "\n",
    "    elif salary > 20000:\n",
    "        tax = (salary * 14) / 100\n",
    "\n",
    "    return tax\n",
    "\n",
    "t = calc_tax(20, 18000)\n",
    "print(int(t))"
   ]
  },
  {
   "cell_type": "markdown",
   "metadata": {},
   "source": [
    "**HW-3.2)**  \n",
    "Write a function called `calc_yearly_tax()` that takes no arguments. Inside the function it should take first input as your age and then 12 others inputs as income of each month of the year. The function must calculate and **print** Tax for each month and finally **print** the total Tax of the whole year based on the conditions from **HW-3.1**.   \n",
    "\n",
    "_**Note:**_ **YOU MUST CALL** the function `calc_tax()`, otherwise this task would be considered invalid.\n"
   ]
  },
  {
   "cell_type": "code",
   "execution_count": 22,
   "metadata": {},
   "outputs": [
    {
     "name": "stdout",
     "output_type": "stream",
     "text": [
      "Month1 Tax: 0\n",
      "Month2 Tax: 1050.0\n",
      "Month3 Tax: 3080.0\n",
      "Month4 Tax: 0\n",
      "Month5 Tax: 1071.0\n",
      "Month6 Tax: 2940.0\n",
      "Month7 Tax: 4760.0\n",
      "Month8 Tax: 0\n",
      "Month9 Tax: 3780.0\n",
      "Month10 Tax: 12320.0\n",
      "Month11 Tax: 4480.0\n",
      "Month12 Tax: 0\n",
      "Total Yearly Tax: 33481.0\n"
     ]
    }
   ],
   "source": [
    "def calc_yearly_tax():\n",
    "    age = int(input(\"Please enter your age: \"))\n",
    "    yearly_tax = 0\n",
    "\n",
    "    for i in range(1, 13):\n",
    "        salary = int(input(f\"Please enter your month {i} salary: \"))\n",
    "        monthly_tax = calc_tax(age, salary)\n",
    "        yearly_tax += monthly_tax\n",
    "\n",
    "        print(f\"Month{i} Tax: {monthly_tax}\")\n",
    "\n",
    "    print(f\"Total Yearly Tax: {yearly_tax}\")\n",
    "\n",
    "calc_yearly_tax()"
   ]
  },
  {
   "cell_type": "markdown",
   "metadata": {},
   "source": [
    "**HW-4.1)**  \n",
    "Write a recursive function called `reverse_digits()` that takes an integer n as an argument and **prints** the digits of n in reverse order.  \n",
    "\n",
    "_**Hint:** Think about how you solved it using loop._"
   ]
  },
  {
   "cell_type": "code",
   "execution_count": 25,
   "metadata": {},
   "outputs": [
    {
     "name": "stdout",
     "output_type": "stream",
     "text": [
      "0\n",
      "0\n",
      "0\n",
      "1\n"
     ]
    }
   ],
   "source": [
    "def reverse_digits(n):\n",
    "    if type(n) != int:\n",
    "        print(\"Please enter an integer value\")\n",
    "        return\n",
    "    \n",
    "    string = str(n)\n",
    "    digit_count = len(string)\n",
    "\n",
    "    if digit_count == 1:\n",
    "        print(string[digit_count - 1])\n",
    "        \n",
    "    else:\n",
    "        print(string[digit_count - 1])\n",
    "        string = string[: digit_count - 1 :]\n",
    "        reverse_digits(int(string))\n",
    "\n",
    "reverse_digits(1000)"
   ]
  },
  {
   "cell_type": "markdown",
   "metadata": {},
   "source": [
    "**HW-4.2)**  \n",
    "Write a recursive function called `power()` that takes two arguments **a** and **n**. The function calculates and **returns** the value of $ a^n $\n",
    ".\n"
   ]
  },
  {
   "cell_type": "code",
   "execution_count": 2,
   "metadata": {},
   "outputs": [
    {
     "name": "stdout",
     "output_type": "stream",
     "text": [
      "6561\n"
     ]
    }
   ],
   "source": [
    "def power(a, n):\n",
    "    if type(n) != int:\n",
    "        return \"The power must be an integer\"\n",
    "    \n",
    "    if n == 0:\n",
    "        return 1\n",
    "    \n",
    "    else:\n",
    "        return a * power(a, n - 1)\n",
    "\n",
    "print(power(9, 4))"
   ]
  },
  {
   "cell_type": "markdown",
   "metadata": {},
   "source": [
    "**HW-5.0)**  \n",
    "Write a function called `sequence_iterative()` that uses loop to calculate the value of **y** if the expression of **y** is as follows:  \n",
    "\n",
    "Here, **N** is the input:  \n",
    "$ y = 1 - 2 + 3 - 4 + 5 - ... + N $"
   ]
  },
  {
   "cell_type": "code",
   "execution_count": 30,
   "metadata": {},
   "outputs": [
    {
     "name": "stdout",
     "output_type": "stream",
     "text": [
      "-5\n"
     ]
    }
   ],
   "source": [
    "def sequence_iterative(N):\n",
    "    if N < 0 or type(N) != int:\n",
    "        return \"Input value must be a positive integer\"\n",
    "    \n",
    "    pos_total = 0\n",
    "    neg_total = 0\n",
    "\n",
    "    for i in range(1, N + 1):\n",
    "        if i % 2 == 0:\n",
    "            neg_total += -i\n",
    "\n",
    "        else:\n",
    "            pos_total += i\n",
    "\n",
    "    return pos_total + neg_total\n",
    "\n",
    "print(sequence_iterative(10))"
   ]
  },
  {
   "cell_type": "markdown",
   "metadata": {},
   "source": [
    "**HW-5.1)**  \n",
    "Write a recursive function called `sequence_recursive()` that calculates the value of **y** if the expression of **y** is as follows:  \n",
    "\n",
    "Here, **N** is the input:  \n",
    "$ y = 1 - 2 + 3 - 4 + 5 - …… + N $"
   ]
  },
  {
   "cell_type": "code",
   "execution_count": 1,
   "metadata": {},
   "outputs": [
    {
     "name": "stdout",
     "output_type": "stream",
     "text": [
      "-5\n"
     ]
    }
   ],
   "source": [
    "def sequence_recursive(N):\n",
    "    if N < 0 or type(N) != int:\n",
    "        return \"Input value must be a positive integer\"\n",
    "    \n",
    "    if N == 1:\n",
    "        return 1\n",
    "    \n",
    "    else:\n",
    "        if N % 2 == 0:\n",
    "            return sequence_recursive(N - 1) - N\n",
    "        \n",
    "        else:\n",
    "            return sequence_recursive(N - 1) + N\n",
    "\n",
    "print(sequence_recursive(10))"
   ]
  },
  {
   "cell_type": "markdown",
   "metadata": {},
   "source": [
    "**HW-5.2)**  \n",
    "Trace the Recursion code of function `sequence_recursive()` assuming the input value is 6.\n",
    "\n",
    "```python\n",
    "def sequence_recursive(N):\n",
    "    if N < 0 or type(N) != int:\n",
    "        return \"Input value must be a positive integer\"\n",
    "\n",
    "    if N == 1:\n",
    "        return 1\n",
    "\n",
    "    else:\n",
    "        if N % 2 == 0:\n",
    "            return sequence_recursive(N - 1) - N\n",
    "\n",
    "        else:\n",
    "            return sequence_recursive(N - 1) + N\n",
    "\n",
    "print(sequence_recursive(10))\n",
    "```\n",
    "\n",
    "| Output |\n",
    "| ------ |\n",
    "| -3     |"
   ]
  },
  {
   "cell_type": "code",
   "execution_count": 2,
   "metadata": {},
   "outputs": [
    {
     "name": "stdout",
     "output_type": "stream",
     "text": [
      "-3\n"
     ]
    }
   ],
   "source": [
    "print(sequence_recursive(6))"
   ]
  }
 ],
 "metadata": {
  "kernelspec": {
   "display_name": "Python 3",
   "language": "python",
   "name": "python3"
  },
  "language_info": {
   "codemirror_mode": {
    "name": "ipython",
    "version": 3
   },
   "file_extension": ".py",
   "mimetype": "text/x-python",
   "name": "python",
   "nbconvert_exporter": "python",
   "pygments_lexer": "ipython3",
   "version": "3.8.2"
  }
 },
 "nbformat": 4,
 "nbformat_minor": 2
}
