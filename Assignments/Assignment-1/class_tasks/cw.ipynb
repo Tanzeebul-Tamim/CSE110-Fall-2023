{
 "cells": [
  {
   "cell_type": "markdown",
   "metadata": {},
   "source": [
    "**CW-1.1)**  \n",
    "Take a String and an integer input from the user and print them."
   ]
  },
  {
   "cell_type": "code",
   "execution_count": 1,
   "metadata": {},
   "outputs": [
    {
     "name": "stdout",
     "output_type": "stream",
     "text": [
      "hello world\n",
      "21\n"
     ]
    }
   ],
   "source": [
    "string = input(\"Enter a string: \")\n",
    "print(string)\n",
    "\n",
    "integer = int(input(\"Enter an integer: \"))\n",
    "print(integer)"
   ]
  },
  {
   "cell_type": "markdown",
   "metadata": {},
   "source": [
    "**CW-1.2)**  \n",
    "Take two integer inputs from the user and print their summation and multiplication."
   ]
  },
  {
   "cell_type": "code",
   "execution_count": 2,
   "metadata": {},
   "outputs": [
    {
     "name": "stdout",
     "output_type": "stream",
     "text": [
      "Summation: 15\n",
      "Multiplication: 50\n"
     ]
    }
   ],
   "source": [
    "integer1 = int(input(\"Enter an integer: \"))\n",
    "integer2 = int(input(\"Enter another integer: \"))\n",
    "\n",
    "print(f\"Summation: {integer1 + integer2}\")\n",
    "print(f\"Multiplication: {integer1 * integer2}\")"
   ]
  },
  {
   "cell_type": "markdown",
   "metadata": {},
   "source": [
    "**CW-1.3)**  \n",
    "Take one integer input and one float input from the user and print their addition and\n",
    "subtraction in the same line separated by a space."
   ]
  },
  {
   "cell_type": "code",
   "execution_count": 4,
   "metadata": {},
   "outputs": [
    {
     "name": "stdout",
     "output_type": "stream",
     "text": [
      "9.0 -1.0\n"
     ]
    }
   ],
   "source": [
    "integer = int(input(\"Enter an integer: \"))\n",
    "floating = float(input(\"Enter a floating-point number: \"))\n",
    "\n",
    "print(f\"{integer + floating} {integer - floating}\")"
   ]
  },
  {
   "cell_type": "markdown",
   "metadata": {},
   "source": [
    "**CW-1.4)**  \n",
    "Take two integer numbers from the user. Convert the second number into float. Now\n",
    "convert both numbers into string and add them. Print the addition."
   ]
  },
  {
   "cell_type": "code",
   "execution_count": 6,
   "metadata": {},
   "outputs": [
    {
     "name": "stdout",
     "output_type": "stream",
     "text": [
      "23.0\n"
     ]
    }
   ],
   "source": [
    "int1 = int(input(\"Enter an integer: \"))\n",
    "int2 = int(input(\"Enter another integer: \"))\n",
    "convertFloat = float(int2)\n",
    "\n",
    "print(f\"{str(int1)}{str(convertFloat)}\")"
   ]
  },
  {
   "cell_type": "markdown",
   "metadata": {},
   "source": [
    "**CW-2)**  \n",
    "Write a Python program that reads two integers `M` and `N` respectively and finds the value of\n",
    "`M^N` (or $M^N$) and prints the value exactly as shown in the examples. Your code should\n",
    "work correctly for any sample inputs."
   ]
  },
  {
   "cell_type": "code",
   "execution_count": 8,
   "metadata": {},
   "outputs": [
    {
     "name": "stdout",
     "output_type": "stream",
     "text": [
      "10^3: 1000\n"
     ]
    }
   ],
   "source": [
    "int1 = int(input(\"Enter an integer: \"))\n",
    "int2 = int(input(\"Enter another integer: \"))\n",
    "\n",
    "print(f\"{int1}^{int2}: {int1 ** int2}\")"
   ]
  },
  {
   "cell_type": "markdown",
   "metadata": {},
   "source": [
    "**CW-3)**  \n",
    "A sailor has a boat known as Téssares Boat, which has four corners. The boat is capable of\n",
    "carrying goods of any weight as long as there is equal distribution of loads on each corner of the\n",
    "boat - the center area has been occupied by the engine. The sailor needs your help to know the\n",
    "maximum amount of weight he can carry in each shipment.\n",
    "\n",
    "Write a Python program that reads the total weight of the shipment and prints the maximum load\n",
    "(or weight) the boat can take from the given shipment. We can assume that the weight of each\n",
    "good is exactly 1 unit, therefore, the weight of 5 units means there are 5 (loose) items in the\n",
    "shipment."
   ]
  },
  {
   "cell_type": "code",
   "execution_count": 12,
   "metadata": {},
   "outputs": [
    {
     "name": "stdout",
     "output_type": "stream",
     "text": [
      "20\n"
     ]
    }
   ],
   "source": [
    "total_weight = int(input(\"Enter the total weight of the shipment: \"))\n",
    "max_load_per_corner = total_weight - total_weight % 4\n",
    "\n",
    "print(max_load_per_corner)"
   ]
  }
 ],
 "metadata": {
  "kernelspec": {
   "display_name": "Python 3",
   "language": "python",
   "name": "python3"
  },
  "language_info": {
   "codemirror_mode": {
    "name": "ipython",
    "version": 3
   },
   "file_extension": ".py",
   "mimetype": "text/x-python",
   "name": "python",
   "nbconvert_exporter": "python",
   "pygments_lexer": "ipython3",
   "version": "3.8.2"
  }
 },
 "nbformat": 4,
 "nbformat_minor": 2
}
