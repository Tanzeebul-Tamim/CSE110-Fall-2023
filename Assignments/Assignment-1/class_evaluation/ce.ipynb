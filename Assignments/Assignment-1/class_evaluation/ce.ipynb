{
 "cells": [
  {
   "cell_type": "markdown",
   "metadata": {},
   "source": [
    "**CE-1)**  \n",
    "Write a Python program that reads 3 integers `A`, `B`, and `C` respectively, and then reads a\n",
    "floating-point number `D`. After reading, the program should print the result `as int` using the\n",
    "given formula below.\n",
    "\n",
    "Formula: $A^C + (2 \\cdot B) \\cdot (A // 2) - \\frac{D}{3}$"
   ]
  },
  {
   "cell_type": "code",
   "execution_count": 3,
   "metadata": {},
   "outputs": [
    {
     "name": "stdout",
     "output_type": "stream",
     "text": [
      "807\n"
     ]
    }
   ],
   "source": [
    "A = int(input(\"Enter an integer: \"))\n",
    "B = int(input(\"Enter another integer: \"))\n",
    "C = int(input(\"Enter another integer: \"))\n",
    "D = float(input(\"Enter a floating-point number: \"))\n",
    "\n",
    "print(int(A ** C + (2 * B) * (A // 2) - D / 3))"
   ]
  },
  {
   "cell_type": "markdown",
   "metadata": {},
   "source": [
    "**CE-2)**  \n",
    "Take the first name, last name, age and CGPA of a student. Change the last name to ***\"Rahman\"***.\n",
    "Subtract `2` from the age and add `0.25` with the CGPA. Finally print the information in the way\n",
    "shown in the question."
   ]
  },
  {
   "cell_type": "code",
   "execution_count": 6,
   "metadata": {},
   "outputs": [
    {
     "name": "stdout",
     "output_type": "stream",
     "text": [
      "Name: Labiba Rahman\n",
      "Age: 21\n",
      "CGPA: 3.95\n"
     ]
    }
   ],
   "source": [
    "first_name = input(\"Enter your first name: \")\n",
    "last_name = input(\"Enter your last name: \")\n",
    "age = int(input(\"Enter your age: \"))\n",
    "cgpa = float(input(\"Enter your CGPA: \"))\n",
    "\n",
    "last_name = \"Rahman\"\n",
    "age -= 2\n",
    "cgpa += 0.25\n",
    "\n",
    "print(f\"Name: {first_name} {last_name}\")\n",
    "print(f\"Age: {age}\")\n",
    "print(f\"CGPA: {cgpa}\")"
   ]
  }
 ],
 "metadata": {
  "kernelspec": {
   "display_name": "Python 3",
   "language": "python",
   "name": "python3"
  },
  "language_info": {
   "codemirror_mode": {
    "name": "ipython",
    "version": 3
   },
   "file_extension": ".py",
   "mimetype": "text/x-python",
   "name": "python",
   "nbconvert_exporter": "python",
   "pygments_lexer": "ipython3",
   "version": "3.8.2"
  }
 },
 "nbformat": 4,
 "nbformat_minor": 2
}
