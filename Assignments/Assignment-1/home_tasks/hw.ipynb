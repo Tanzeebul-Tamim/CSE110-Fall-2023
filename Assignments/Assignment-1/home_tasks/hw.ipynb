{
 "cells": [
  {
   "cell_type": "markdown",
   "metadata": {},
   "source": [
    "**HW-3)**  \n",
    "Write a python program that takes an integer from the user which represents the number of\n",
    "chocolates that he/she has. He/She decided to distribute the chocolates equally among 3 friends,\n",
    "keeping the remaining chocolates for him/herself. Find out the number of chocolates each friend\n",
    "will receive and the number of chocolates that will be remaining."
   ]
  },
  {
   "cell_type": "code",
   "execution_count": 3,
   "metadata": {},
   "outputs": [
    {
     "name": "stdout",
     "output_type": "stream",
     "text": [
      "Each friend will receive 16 chocolates.\n",
      "The number of remaining chocolates is 2.\n"
     ]
    }
   ],
   "source": [
    "total_chocolates = int(input(\"Enter the number of chocolates: \"))\n",
    "chocolates_per_friend = total_chocolates // 3\n",
    "remaining_chocolates = total_chocolates % 3\n",
    "\n",
    "print(f\"Each friend will receive {chocolates_per_friend} chocolates.\")\n",
    "print(f\"The number of remaining chocolates is {remaining_chocolates}.\")\n"
   ]
  }
 ],
 "metadata": {
  "kernelspec": {
   "display_name": "Python 3",
   "language": "python",
   "name": "python3"
  },
  "language_info": {
   "codemirror_mode": {
    "name": "ipython",
    "version": 3
   },
   "file_extension": ".py",
   "mimetype": "text/x-python",
   "name": "python",
   "nbconvert_exporter": "python",
   "pygments_lexer": "ipython3",
   "version": "3.8.2"
  }
 },
 "nbformat": 4,
 "nbformat_minor": 2
}
