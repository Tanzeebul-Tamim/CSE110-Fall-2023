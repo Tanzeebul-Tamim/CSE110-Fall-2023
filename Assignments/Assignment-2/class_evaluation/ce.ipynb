{
 "cells": [
  {
   "cell_type": "markdown",
   "metadata": {},
   "source": [
    "**CE-1)**  \n",
    "Write a Python program to compute and display a person’s weekly salary as determined by the\n",
    "following conditions:  \n",
    "- If the hours worked is less than or equal to `40`, then the person receives `Tk 200` per hour.\n",
    "- If the hours worked is greater than `40`, then the person receives `Tk 8000` plus `Tk 300` for\n",
    "each hour worked over 40 hours.  \n",
    "\n",
    "The program should request the hours worked as an input from the user and display the salary as\n",
    "output. You need to make sure that user input is valid. For example, a person cannot work for -5\n",
    "hours or more than 168 hours in a week. So, the valid hours range is 0 to 168. For invalid hours,\n",
    "print outputs as given in the samples.  \n",
    "\n",
    "_**Hint:** You can consider the hour (user input) to be an integer_"
   ]
  },
  {
   "cell_type": "code",
   "execution_count": 4,
   "metadata": {},
   "outputs": [
    {
     "name": "stdout",
     "output_type": "stream",
     "text": [
      "Impossible to work more than 168 hours weekly\n"
     ]
    }
   ],
   "source": [
    "hours_worked = int(input(\"Enter the hours worked in a week: \"))\n",
    "\n",
    "if hours_worked < 0:\n",
    "    print(\"Hour cannot be negative\")\n",
    "elif hours_worked > 168:\n",
    "    print(\"Impossible to work more than 168 hours weekly\")\n",
    "else:\n",
    "    if hours_worked <= 40:\n",
    "        salary = hours_worked * 200\n",
    "    else:\n",
    "        salary = 8000 + (hours_worked - 40) * 300\n",
    "    print(salary)\n"
   ]
  },
  {
   "cell_type": "markdown",
   "metadata": {},
   "source": [
    "**CE-2)**  \n",
    "Write the Python code of a program that finds the number of hours, minutes, and seconds in a\n",
    "given number of seconds. The number of seconds is taken as input from the user.  \n",
    "\n",
    "_**Hint(1):** **This is not a branching problem.** We may consider our user input to be an integer value and use just // and % operators to solve the problem_  \n",
    "_**Hint(2):** 1 hour = 60 minutes = 3600 seconds and 1 minute = 60 seconds_"
   ]
  },
  {
   "cell_type": "code",
   "execution_count": 7,
   "metadata": {},
   "outputs": [
    {
     "name": "stdout",
     "output_type": "stream",
     "text": [
      "Hours: 2\n",
      "Minutes 46\n",
      "Seconds 40\n"
     ]
    }
   ],
   "source": [
    "seconds = int(input(\"Enter the number of seconds: \"))\n",
    "\n",
    "hours = seconds // 3600\n",
    "remaining_seconds = seconds % 3600\n",
    "minutes = remaining_seconds // 60\n",
    "seconds = remaining_seconds % 60\n",
    "\n",
    "print(f\"Hours: {hours}\")\n",
    "print(f\"Minutes {minutes}\")\n",
    "print(f\"Seconds {seconds}\")"
   ]
  },
  {
   "cell_type": "markdown",
   "metadata": {},
   "source": [
    "**CE-3)**  \n",
    "Suppose, your friend is building an automated car called **“Besla”**. He needs to fix the programming of the car so that it runs at a proper speed. Now, write a Python program that takes **two inputs**:  \n",
    "1. Distance (in meters)  \n",
    "2. Time (in seconds)  \n",
    "\n",
    "The program should:  \n",
    "1. Calculate and print the **velocity** of the car in kilometers per hour (km/h).  \n",
    "2. Print the **status** of the car based on the following chart:  \n",
    "\n",
    "| **Velocity**              | **Information to be Printed**                  |\n",
    "|---------------------------|-----------------------------------------------|\n",
    "| Less than 60 km/h         | Too slow. It needs more changes.              |\n",
    "| Between 60 km/h and 90 km/h (inclusive) | Velocity is okay. The car is ready!   |\n",
    "| Greater than 90 km/h      | Too fast. Only a few changes should suffice.  |"
   ]
  },
  {
   "cell_type": "code",
   "execution_count": 9,
   "metadata": {},
   "outputs": [
    {
     "name": "stdout",
     "output_type": "stream",
     "text": [
      "Velocity: 25.40 km/h\n",
      "Too slow. It needs more changes.\n"
     ]
    }
   ],
   "source": [
    "distance = float(input(\"Enter the distance in meters: \"))\n",
    "time = float(input(\"Enter the time in seconds: \"))\n",
    "\n",
    "if distance < 0 or time <= 0:\n",
    "    print(\"Invalid input. Distance cannot be negative, and time must be greater than zero.\")\n",
    "else:\n",
    "    velocity_kmh = (distance / 1000) / (time / 3600)\n",
    "    print(f\"Velocity: {velocity_kmh:.2f} km/h\")\n",
    "    \n",
    "    if velocity_kmh < 60:\n",
    "        print(\"Too slow. It needs more changes.\")\n",
    "    elif 60 <= velocity_kmh <= 90:\n",
    "        print(\"Velocity is okay. The car is ready!\")\n",
    "    else:\n",
    "        print(\"Too fast. Only a few changes should suffice.\")"
   ]
  }
 ],
 "metadata": {
  "kernelspec": {
   "display_name": "Python 3",
   "language": "python",
   "name": "python3"
  },
  "language_info": {
   "codemirror_mode": {
    "name": "ipython",
    "version": 3
   },
   "file_extension": ".py",
   "mimetype": "text/x-python",
   "name": "python",
   "nbconvert_exporter": "python",
   "pygments_lexer": "ipython3",
   "version": "3.8.2"
  }
 },
 "nbformat": 4,
 "nbformat_minor": 2
}
