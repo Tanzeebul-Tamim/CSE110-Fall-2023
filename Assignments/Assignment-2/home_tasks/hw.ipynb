{
 "cells": [
  {
   "cell_type": "markdown",
   "metadata": {},
   "source": [
    "**HW-1)**  \n",
    "Write the Python code of a program that reads two numbers, subtracts the smaller number from the larger one, and prints the result.  \n",
    "\n",
    "_**Hint:** First, we may check which number is greater_"
   ]
  },
  {
   "cell_type": "code",
   "execution_count": 3,
   "metadata": {},
   "outputs": [
    {
     "name": "stdout",
     "output_type": "stream",
     "text": [
      "0\n"
     ]
    }
   ],
   "source": [
    "num1 = int(input(\"Enter the first number: \"))\n",
    "num2 = int(input(\"Enter the second number: \"))\n",
    "\n",
    "if num1 > num2:\n",
    "    result = num1 - num2\n",
    "else:\n",
    "    result = num2 - num1\n",
    "\n",
    "print(result)\n"
   ]
  },
  {
   "cell_type": "markdown",
   "metadata": {},
   "source": [
    "**HW-2)**  \n",
    "Write the Python code of a program that reads an integer, and prints the integer if it is a multiple of **either 2 or 5 but not both**. If the number is a multiple of 2 and 5 both, then print `\"Multiple of 2 and 5 both\"`. For all other numbers, the program prints `\"Not a multiple we want\"`.  \n",
    "\n",
    "For example, 2, 4, 5, 6, 8, 12, 14, 15, 16, 18, 22 ... i.e. this includes multiples of 2 only and multiples of 5 only, NOT multiples of 2 and 5 both or other numbers.  \n",
    "\n",
    "_**Hint(1):** We may use the modulus (%) operator for checking the divisibility_  \n",
    "_**Hint(2):** We can consider the number to be an integer_"
   ]
  },
  {
   "cell_type": "code",
   "execution_count": 7,
   "metadata": {},
   "outputs": [
    {
     "name": "stdout",
     "output_type": "stream",
     "text": [
      "Not a multiple we want\n"
     ]
    }
   ],
   "source": [
    "num = int(input(\"Enter an integer: \"))\n",
    "\n",
    "if num % 2 == 0 and num % 5 == 0:\n",
    "    print(\"Multiple of 2 and 5 both\")\n",
    "elif num % 2 == 0 or num % 5 == 0:\n",
    "    print(num)\n",
    "else:\n",
    "    print(\"Not a multiple we want\")"
   ]
  },
  {
   "cell_type": "markdown",
   "metadata": {},
   "source": [
    "**HW-3)**  \n",
    "Suppose the following expressions are used to calculate the values of **L** for different values of **S**:  \n",
    "\n",
    "$$\n",
    "L = 3000 - 125S^2 \\quad \\text{if} \\quad S < 100\n",
    "$$\n",
    "\n",
    "$$\n",
    "L = \\frac{12000}{4 + \\frac{S^2}{14900}} \\quad \\text{if} \\quad S \\geq 100\n",
    "$$\n",
    "\n",
    "_**Hint(1):** You can import the math module and use the math function for squares with `math.pow(number, power)` or you can simply write `S ** 2`._  \n",
    "_**Hint(2):** The value of S (user input) will be an integer._\n"
   ]
  },
  {
   "cell_type": "code",
   "execution_count": 10,
   "metadata": {},
   "outputs": [
    {
     "name": "stdout",
     "output_type": "stream",
     "text": [
      "2416.2162162162163\n"
     ]
    }
   ],
   "source": [
    "S = int(input(\"Enter the value of S: \"))\n",
    "if S < 100:\n",
    "    L = 3000 - 125 * S * S\n",
    "else:\n",
    "    L = 12000 / (4 + (S * S) / 14900)\n",
    "print(L)"
   ]
  },
  {
   "cell_type": "markdown",
   "metadata": {},
   "source": [
    "**HW-4)**  \n",
    "Write a Python program that takes an hour from the user as input and tells it is time for which meal.\n",
    "\n",
    "- The user will input the number in a 24-hour format. So, 14 means 2 pm, 3 means 3 am, 18 means 6 pm, etc.\n",
    "- Valid inputs are 0 to 23. Inputs less than 0 or more than 23 are invalid in 24-hour clock.\n",
    "- Assume, input will be whole numbers. For example, 3.5 will NOT be given as input.\n",
    "\n",
    "#### Meal Time Messages Based on Input Range\n",
    "\n",
    "| Input Range              | Message to be printed |\n",
    "| ------------------------ | --------------------- |\n",
    "| 4 to 6                   | Breakfast             |\n",
    "| 12 to 13                 | Lunch                 |\n",
    "| 16 to 17                 | Snacks                |\n",
    "| 19 to 20                 | Dinner                |\n",
    "| All other Valid Inputs   | Patience is a virtue  |\n",
    "| All other Invalid Inputs | Wrong time            |\n",
    "\n",
    "#### For example,\n",
    "\n",
    "- If the user enters 4, your program should print the message \"Breakfast\".\n",
    "- If the user enters 5, your program should print the message \"Breakfast\".\n",
    "- If the user enters 6, your program should print the message \"Breakfast\".\n",
    "- If the user enters 0, your program should print the message \"Patience is a virtue\".\n",
    "- If the user enters 1, your program should print the message \"Patience is a virtue\".\n",
    "- If the user enters 18, your program should print the message \"Patience is a virtue\".\n",
    "- If the user enters 23, your program should print the message \"Patience is a virtue\".\n",
    "- If the user enters 24, your program should print the message \"Wrong time\".\n",
    "- If the user enters -1, your program should print the message \"Wrong time\".\n",
    "- If the user enters 27, your program should print the message \"Wrong time\".\n",
    "\n",
    "_**Hints:** You can use nested conditionals `if-else` or chained conditions `if-elif-else` to solve this problem._\n"
   ]
  },
  {
   "cell_type": "code",
   "execution_count": 18,
   "metadata": {},
   "outputs": [
    {
     "name": "stdout",
     "output_type": "stream",
     "text": [
      "Dinner\n"
     ]
    }
   ],
   "source": [
    "hour = int(input(\"Enter the hour in 24-hour format: \"))\n",
    "\n",
    "if hour < 0 or hour > 23:\n",
    "    print(\"Wrong time\")\n",
    "elif 4 <= hour <= 6:\n",
    "    print(\"Breakfast\")\n",
    "elif 12 <= hour <= 13:\n",
    "    print(\"Lunch\")\n",
    "elif 16 <= hour <= 17:\n",
    "    print(\"Snacks\")\n",
    "elif 19 <= hour <= 20:\n",
    "    print(\"Dinner\")\n",
    "else:\n",
    "    print(\"Patience is a virtue\")"
   ]
  },
  {
   "cell_type": "markdown",
   "metadata": {},
   "source": [
    "**HW-5)**  \n",
    "Write the Python code of a program that reads a student’s mark for a single subject, and prints\n",
    "out the corresponding grade for that mark. The mark ranges and corresponding grades are shown\n",
    "in the table below. You need to make sure that the mark is valid. For example, a student cannot\n",
    "receive -5 or 110 marks. So, the valid marks range from **0 to 100**.\n",
    "\n",
    "| Marks       | Grade |\n",
    "|-------------|-------|\n",
    "| 90 or above | A     |\n",
    "| 80-89       | B     |\n",
    "| 70-79       | C     |\n",
    "| 60-69       | D     |\n",
    "| 50-59       | E     |\n",
    "| Below 50    | F     |\n",
    "\n",
    "_**Hint(1):** You can consider the number to be an integer._  \n",
    "_**Hint(2):** This problem can be solved in two ways: top-down (starts from A) and bottom-up (starts from F)._"
   ]
  },
  {
   "cell_type": "code",
   "execution_count": 26,
   "metadata": {},
   "outputs": [
    {
     "name": "stdout",
     "output_type": "stream",
     "text": [
      "E\n"
     ]
    }
   ],
   "source": [
    "mark = int(input(\"Enter the student's mark (0 to 100): \"))\n",
    "\n",
    "if mark < 0 or mark > 100:\n",
    "    print(\"Invalid mark. Please enter a mark between 0 and 100.\")\n",
    "elif mark >= 90:\n",
    "    print(\"A\")\n",
    "elif mark >= 80:\n",
    "    print(\"B\")\n",
    "elif mark >= 70:\n",
    "    print(\"C\")\n",
    "elif mark >= 60:\n",
    "    print(\"D\")\n",
    "elif mark >= 50:\n",
    "    print(\"E\")\n",
    "else:\n",
    "    print(\"F\")"
   ]
  },
  {
   "cell_type": "markdown",
   "metadata": {},
   "source": [
    "**HW-6)**  \n",
    "What will be the output of the following program? Show the workings.\n",
    "\n",
    "```python\n",
    "num1 = 10\n",
    "num2 = -3\n",
    "num3 = -1\n",
    "sum = num1 + num2 + num3\n",
    "\n",
    "if num3 < 0:\n",
    "    print(num3 * -2)\n",
    "else:\n",
    "    print(sum)\n",
    "\n",
    "if num1 < 5:\n",
    "    print(num1 + 10)\n",
    "elif num2 == -3:\n",
    "    num2 = num1\n",
    "    print(num2)\n",
    "else:\n",
    "    print(num1 + num2 + num3)\n",
    "\n",
    "if num1 > 15:\n",
    "    print(num1)\n",
    "elif num2 == 0:\n",
    "    print(num2 + num3)\n",
    "else:\n",
    "    print(num3)\n",
    "\n",
    "if sum != 0:\n",
    "    print(100)\n",
    "else:\n",
    "    print(sum + 100)\n",
    "\n",
    "if num1 > 0 and num2 < 0:\n",
    "    print(num1 == num2)\n",
    "else:\n",
    "    print(\"False\")\n",
    "```\n",
    "\n",
    "| Output |\n",
    "| ------ |\n",
    "| 2      |\n",
    "| 10     |\n",
    "| -1     |\n",
    "| 100    |\n",
    "| False  |"
   ]
  },
  {
   "cell_type": "code",
   "execution_count": 37,
   "metadata": {},
   "outputs": [
    {
     "name": "stdout",
     "output_type": "stream",
     "text": [
      "2\n",
      "10\n",
      "-1\n",
      "100\n",
      "False\n"
     ]
    }
   ],
   "source": [
    "num1 = 10\n",
    "num2 = -3\n",
    "num3 = -1\n",
    "sum = num1 + num2 + num3\n",
    "\n",
    "if num3 < 0:\n",
    "    print(num3 * -2)\n",
    "else:\n",
    "    print(sum)\n",
    "\n",
    "if num1 < 5:\n",
    "    print(num1 + 10)\n",
    "elif num2 == -3:\n",
    "    num2 = num1\n",
    "    print(num2)\n",
    "else:\n",
    "    print(num1 + num2 + num3)\n",
    "\n",
    "if num1 > 15:\n",
    "    print(num1)\n",
    "elif num2 == 0:\n",
    "    print(num2 + num3)\n",
    "else:\n",
    "    print(num3)\n",
    "\n",
    "if sum != 0:\n",
    "    print(100)\n",
    "else:\n",
    "    print(sum + 100)\n",
    "    \n",
    "if num1 > 0 and num2 < 0:\n",
    "    print(num1 == num2)\n",
    "else:\n",
    "    print(\"False\")"
   ]
  },
  {
   "cell_type": "markdown",
   "metadata": {},
   "source": [
    "**HW-7)**  \n",
    "What will be the values of result1 to result10 after running the following program? Your answer\n",
    "will not be accepted without the workings.\n",
    "\n",
    "```python\n",
    "var1 = False\n",
    "var2 = False\n",
    "var3 = False\n",
    "var4 = False\n",
    "var5 = False\n",
    "var6 = False\n",
    "result1 = False\n",
    "result2 = False\n",
    "result3 = False\n",
    "result4 = False\n",
    "result5 = False\n",
    "result6 = False\n",
    "result7 = False\n",
    "result8 = False\n",
    "result9 = False\n",
    "result10 = False\n",
    "var1 = ((not True) or True) and False\n",
    "var2 = var1 and False\n",
    "var3 = True and not False\n",
    "var4 = False\n",
    "var5 = True\n",
    "var6 = var3 and False\n",
    "result1 = (var1 and var2) and (40 % 3) > 45 or (var5 and var6)\n",
    "result2 = (var1 or var2) or (result1 and False)\n",
    "result3 = (var1 and result1) or result2 or var5\n",
    "result4 = (var1 or var2) or ((var3 and var1) and False)\n",
    "result5 = (var1 and var2) and (result3 or var1)\n",
    "result6 = ((var3 or (not var2)) and (result5)) or True\n",
    "result7 = (var4 and result1) and ((result1 and False) or True)\n",
    "result8 = ((var1 and result3) and ((not var5) or var6)) and True\n",
    "result9 = ((result2 and var2) or ((not result7) and var1)) and not False\n",
    "result10 = not (var1 and True)\n",
    "```\n",
    "\n",
    "**Outcomes:**\n",
    "| Variables | Values |\n",
    "|-----------|---------|\n",
    "| result1 | False |\n",
    "| result2 | False |\n",
    "| result3 | True |\n",
    "| result4 | False |\n",
    "| result5 | False |\n",
    "| result6 | True |\n",
    "| result7 | False |\n",
    "| result8 | False |\n",
    "| result9 | False |\n",
    "| result10 |True |"
   ]
  },
  {
   "cell_type": "code",
   "execution_count": 33,
   "metadata": {},
   "outputs": [],
   "source": [
    "var1 = False\n",
    "var2 = False\n",
    "var3 = False\n",
    "var4 = False\n",
    "var5 = False\n",
    "var6 = False\n",
    "result1 = False\n",
    "result2 = False\n",
    "result3 = False\n",
    "result4 = False\n",
    "result5 = False\n",
    "result6 = False\n",
    "result7 = False\n",
    "result8 = False\n",
    "result9 = False\n",
    "result10 = False\n",
    "var1 = ((not True) or True) and False\n",
    "var2 = var1 and False\n",
    "var3 = True and not False\n",
    "var4 = False\n",
    "var5 = True\n",
    "var6 = var3 and False\n",
    "result1 = (var1 and var2) and (40 % 3) > 45 or (var5 and var6)\n",
    "result2 = (var1 or var2) or (result1 and False)\n",
    "result3 = (var1 and result1) or result2 or var5\n",
    "result4 = (var1 or var2) or ((var3 and var1) and False)\n",
    "result5 = (var1 and var2) and (result3 or var1)\n",
    "result6 = ((var3 or (not var2)) and (result5)) or True\n",
    "result7 = (var4 and result1) and ((result1 and False) or True)\n",
    "result8 = ((var1 and result3) and ((not var5) or var6)) and True\n",
    "result9 = ((result2 and var2) or ((not result7) and var1)) and not False\n",
    "result10 = not (var1 and True)"
   ]
  },
  {
   "cell_type": "markdown",
   "metadata": {},
   "source": [
    "**HW-8)**  \n",
    "What will be the values of result1 to result10 after running the following program? Your answer\n",
    "will not be accepted without the workings.\n",
    "\n",
    "```python\n",
    "var1 = var2 = var3 = var4 = var5 = var6 = False\n",
    "result1 = result2 = result3 = result4 = result5 = result6 = False\n",
    "result7 = result8 = result9 = result10 = False\n",
    "var1 = (not False or False) and True\n",
    "var2 = var1 and True\n",
    "var3 = False and not True\n",
    "var4 = True\n",
    "var5 = False\n",
    "var6 = var3 and True\n",
    "result1 = (var1 and var2) and (40 % 3 > 45) or (var5 and var6)\n",
    "result2 = (var1 or var2) or (result1 and False)\n",
    "result3 = (var1 and result1) or result2 or var5\n",
    "result4 = (var1 or var2) or ((var3 and var1) and False)\n",
    "result5 = (var1 and var2) and (result3 or var1)\n",
    "result6 = ((var3 or not var2) and (result5)) or True\n",
    "result7 = (var4 and result1) and ((result1 and False) or True)\n",
    "result8 = ((var1 and result3) and (not var5 or var6)) and True\n",
    "result9 = ((result2 and var2) or (not result7 and var1)) and not False\n",
    "result10 = not (var1 and True)\n",
    "```\n",
    "**Outcomes:**\n",
    "| Variables | Values |\n",
    "|-----------|---------|\n",
    "| result1 | False |\n",
    "| result2 | True |\n",
    "| result3 | True |\n",
    "| result4 | True |\n",
    "| result5 | True |\n",
    "| result6 | True |\n",
    "| result7 | False |\n",
    "| result8 | True |\n",
    "| result9 | True |\n",
    "| result10 |False |"
   ]
  },
  {
   "cell_type": "code",
   "execution_count": 41,
   "metadata": {},
   "outputs": [],
   "source": [
    "var1 = var2 = var3 = var4 = var5 = var6 = False\n",
    "result1 = result2 = result3 = result4 = result5 = result6 = False\n",
    "result7 = result8 = result9 = result10 = False\n",
    "var1 = (not False or False) and True\n",
    "var2 = var1 and True\n",
    "var3 = False and not True\n",
    "var4 = True\n",
    "var5 = False\n",
    "var6 = var3 and True\n",
    "result1 = (var1 and var2) and (40 % 3 > 45) or (var5 and var6)\n",
    "result2 = (var1 or var2) or (result1 and False)\n",
    "result3 = (var1 and result1) or result2 or var5\n",
    "result4 = (var1 or var2) or ((var3 and var1) and False)\n",
    "result5 = (var1 and var2) and (result3 or var1)\n",
    "result6 = ((var3 or not var2) and (result5)) or True\n",
    "result7 = (var4 and result1) and ((result1 and False) or True)\n",
    "result8 = ((var1 and result3) and (not var5 or var6)) and True\n",
    "result9 = ((result2 and var2) or (not result7 and var1)) and not False\n",
    "result10 = not (var1 and True)"
   ]
  }
 ],
 "metadata": {
  "kernelspec": {
   "display_name": "Python 3",
   "language": "python",
   "name": "python3"
  },
  "language_info": {
   "codemirror_mode": {
    "name": "ipython",
    "version": 3
   },
   "file_extension": ".py",
   "mimetype": "text/x-python",
   "name": "python",
   "nbconvert_exporter": "python",
   "pygments_lexer": "ipython3",
   "version": "3.8.2"
  }
 },
 "nbformat": 4,
 "nbformat_minor": 2
}
