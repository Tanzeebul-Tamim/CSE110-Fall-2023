{
 "cells": [
  {
   "cell_type": "markdown",
   "metadata": {},
   "source": [
    "**CW-1)**  \n",
    "Write the Python code of a program that reads a number, and prints `\"The number is even\"` or  \n",
    "`\"The number is odd\"`, depending on whether the number is even or odd.\n",
    "\n",
    "_**Hint(1):** We may use the modulus `%` operator to check for even or odd_  \n",
    "_**Hint(2):** We can consider the number to be an integer_"
   ]
  },
  {
   "cell_type": "code",
   "execution_count": 1,
   "metadata": {},
   "outputs": [
    {
     "name": "stdout",
     "output_type": "stream",
     "text": [
      "The number is even\n"
     ]
    }
   ],
   "source": [
    "number = int(input(\"Enter a number: \"))\n",
    "\n",
    "if number % 2 == 0:\n",
    "    print(\"The number is even\")\n",
    "else:\n",
    "    print(\"The number is odd\")\n"
   ]
  },
  {
   "cell_type": "markdown",
   "metadata": {},
   "source": [
    "**CW-2)**  \n",
    "Write the Python code of a program that reads two numbers from the user. The program should\n",
    "then print `\"First is greater\"` if the first number is greater, `\"Second is greater\"` if the second number\n",
    "is greater, and `\"The numbers are equal\"` otherwise."
   ]
  },
  {
   "cell_type": "code",
   "execution_count": 5,
   "metadata": {},
   "outputs": [
    {
     "name": "stdout",
     "output_type": "stream",
     "text": [
      "The numbers are equal\n"
     ]
    }
   ],
   "source": [
    "a = int(input(\"Enter the first number: \"))\n",
    "b = int(input(\"Enter the second number: \"))\n",
    "\n",
    "if a > b:\n",
    "    print(\"First is greater\")\n",
    "elif b > a:\n",
    "    print(\"Second is greater\")\n",
    "else:\n",
    "    print(\"The numbers are equal\")\n"
   ]
  },
  {
   "cell_type": "markdown",
   "metadata": {},
   "source": [
    "**CW-3)**  \n",
    "Write the Python code of a program that reads an integer as input from the user, and prints the\n",
    "integer if it is a multiple of ***2 OR 5*** and prints `\"Not a multiple of 2 OR 5\"` otherwise.\n",
    "For example, 2, 4, 5, 6, 8, 10, 12, 14, 15, 16, 18, 20, 22 ... i.e. this includes multiples of 2 only,\n",
    "multiples of 5 only and multiples of 2 and 5 both.\n",
    "\n",
    "_**Hint(1):** We may use the modulus `%` operator for checking the divisibility_  \n",
    "_**Hint(2):** We can consider the number to be an integer_"
   ]
  },
  {
   "cell_type": "code",
   "execution_count": 4,
   "metadata": {},
   "outputs": [
    {
     "name": "stdout",
     "output_type": "stream",
     "text": [
      "Not a multiple of 2 or 5\n"
     ]
    }
   ],
   "source": [
    "n = int(input(\"Enter a number: \"))\n",
    "\n",
    "if n % 2 == 0 or n % 5 == 0:\n",
    "    print(n)\n",
    "else:\n",
    "    print(\"Not a multiple of 2 or 5\")"
   ]
  },
  {
   "cell_type": "markdown",
   "metadata": {},
   "source": [
    "**CW-4)**  \n",
    "Write the Python code of a program that reads an integer, and prints the integer if it is a multiple\n",
    "of ***2 AND 5*** and prints `\"Not multiple of 2 and 5 both\"` otherwise.\n",
    "For example, 10, 20, 30, 40, 50 ... i.e. this only includes numbers which are multiples of both 2\n",
    "and 5.\n",
    "\n",
    "_**Hint(1):** We may use the modulus `%` operator for checking the divisibility_  \n",
    "_**Hint(2):** We can consider the number to be an intege_"
   ]
  },
  {
   "cell_type": "code",
   "execution_count": 6,
   "metadata": {},
   "outputs": [
    {
     "name": "stdout",
     "output_type": "stream",
     "text": [
      "Not a multiple of 2 and 5 both\n"
     ]
    }
   ],
   "source": [
    "n = int(input(\"Enter a number: \"))\n",
    "\n",
    "if n % 2 == 0 and n % 5 == 0:\n",
    "    print(n)\n",
    "else:\n",
    "    print(\"Not a multiple of 2 and 5 both\")"
   ]
  },
  {
   "cell_type": "markdown",
   "metadata": {},
   "source": [
    "**CW-5)**  \n",
    "Write a Python program that takes the CGPA and the number of credits completed by a student and prints whether the student is eligible for a waiver and of what percentage.\n",
    "\n",
    "To be eligible for a waiver:\n",
    "- A student must have completed at least **30 credits**.\n",
    "- A student must have earned a **CGPA greater than or equal to 3.8**.\n",
    "\n",
    "If the conditions are not met, print: **\"The student is not eligible for a waiver.\"**\n",
    "\n",
    "### Waiver Criteria\n",
    "\n",
    "| CGPA Range   | Waiver Percentage |\n",
    "|--------------|-------------------|\n",
    "| 3.80 - 3.89  | 25 percent        |\n",
    "| 3.90 - 3.94  | 50 percent        |\n",
    "| 3.95 - 3.99  | 75 percent        |\n",
    "| 4.00         | 100 percent       |\n"
   ]
  },
  {
   "cell_type": "code",
   "execution_count": 8,
   "metadata": {},
   "outputs": [
    {
     "name": "stdout",
     "output_type": "stream",
     "text": [
      "The student is not eligible for a waiver.\n"
     ]
    }
   ],
   "source": [
    "cgpa = float(input(\"Enter CGPA: \"))\n",
    "credits = int(input(\"Enter number of credits completed: \"))\n",
    "\n",
    "if credits >= 30 and cgpa >= 3.8:\n",
    "    if 3.80 <= cgpa <= 3.89:\n",
    "        print(\"The student is eligible for a waiver of 25 percent.\")\n",
    "    elif 3.90 <= cgpa <= 3.94:\n",
    "        print(\"The student is eligible for a waiver of 50 percent.\")\n",
    "    elif 3.95 <= cgpa <= 3.99:\n",
    "        print(\"The student is eligible for a waiver of 75 percent.\")\n",
    "    elif cgpa == 4.00:\n",
    "        print(\"The student is eligible for a waiver of 100 percent.\")\n",
    "else:\n",
    "    print(\"The student is not eligible for a waiver.\")"
   ]
  },
  {
   "cell_type": "markdown",
   "metadata": {},
   "source": [
    "**CW-6)**  \n",
    "What will be the output of the following program? Your answer will not be accepted without the\n",
    "workings.\n",
    "\n",
    "```python\n",
    "p = 5\n",
    "q = 6\n",
    "r = 9\n",
    "sum = 0\n",
    "\n",
    "if (p < 12):\n",
    "    print(r + 2)\n",
    "else:\n",
    "    print(r + p)\n",
    "\n",
    "if (q > 20):\n",
    "    print(r + 19)\n",
    "elif (q <= 6):\n",
    "    print(q + 3)\n",
    "else:\n",
    "    print(p + q + r)\n",
    "\n",
    "if (r > 15):\n",
    "    print(r)\n",
    "elif (r == 0):\n",
    "    print(p + q)\n",
    "else:\n",
    "    print(p)\n",
    "\n",
    "if (sum != 0):\n",
    "    print(3)\n",
    "else:\n",
    "    print(sum + 32)\n",
    "\n",
    "if (p > 0 and r < 10):\n",
    "    print(p + r)\n",
    "else:\n",
    "    print(p - r)\n",
    "```\n",
    "\n",
    "| Output |\n",
    "| ------ |\n",
    "| 11     |\n",
    "| 9      |\n",
    "| 5      |\n",
    "| 32     |\n",
    "| 14     |\n"
   ]
  },
  {
   "cell_type": "code",
   "execution_count": 9,
   "metadata": {},
   "outputs": [
    {
     "name": "stdout",
     "output_type": "stream",
     "text": [
      "11\n",
      "9\n",
      "5\n",
      "32\n",
      "14\n"
     ]
    }
   ],
   "source": [
    "p = 5\n",
    "q = 6\n",
    "r = 9\n",
    "sum = 0\n",
    "\n",
    "if (p < 12):\n",
    "    print(r + 2)\n",
    "else:\n",
    "    print(r + p)\n",
    "\n",
    "if (q > 20):\n",
    "    print(r + 19)\n",
    "elif (q <= 6):\n",
    "    print(q + 3)\n",
    "else:\n",
    "    print(p + q + r)\n",
    "\n",
    "if (r > 15):\n",
    "    print(r)\n",
    "elif (r == 0):\n",
    "    print(p + q)\n",
    "else:\n",
    "    print(p)\n",
    "\n",
    "if (sum != 0):\n",
    "    print(3)\n",
    "else:\n",
    "    print(sum + 32)\n",
    "    \n",
    "if (p > 0 and r < 10):\n",
    "    print(p + r)\n",
    "else:\n",
    "    print(p - r)"
   ]
  },
  {
   "cell_type": "markdown",
   "metadata": {},
   "source": [
    "**CW-7)**  \n",
    "What will be the values of result1 to result5 after running the following program? Your answer\n",
    "will not be accepted without the workings.\n",
    "\n",
    "```python\n",
    "var1 = var2 = True\n",
    "var3 = var4 = var5 = False\n",
    "result1 = result2 = result3 = True\n",
    "result4 = result5 = False\n",
    "var1 = 4 > 3 - 1\n",
    "var2 = False and var1\n",
    "var3 = True\n",
    "var4 = False\n",
    "var5 = not (var3 or var4)\n",
    "result1 = (var1 or var2) and (8 * 10 > 45)\n",
    "result2 = (var1 or var2) and (result1 and False)\n",
    "result3 = (var1 and not result1) or result2\n",
    "result4 = (var1 or var2) or not ((var5 and var1) and False)\n",
    "result5 = (not var1 and var4) and (result3 or var3)\n",
    "```\n",
    "\n",
    "**Outcomes:**\n",
    "| Variables | Values  |\n",
    "|-----------|---------|\n",
    "| result1   | True    |\n",
    "| result2   | False   |\n",
    "| result3   | False   |\n",
    "| result4   | True    |\n",
    "| result5   | False   |\n"
   ]
  },
  {
   "cell_type": "code",
   "execution_count": 21,
   "metadata": {},
   "outputs": [],
   "source": [
    "var1 = var2 = True\n",
    "var3 = var4 = var5 = False\n",
    "result1 = result2 = result3 = True\n",
    "result4 = result5 = False\n",
    "var1 = 4 > 3 - 1\n",
    "var2 = False and var1\n",
    "var3 = True\n",
    "var4 = False\n",
    "var5 = not (var3 or var4)\n",
    "result1 = (var1 or var2) and (8 * 10 > 45)\n",
    "result2 = (var1 or var2) and (result1 and False)\n",
    "result3 = (var1 and not result1) or result2\n",
    "result4 = (var1 or var2) or not ((var5 and var1) and False)\n",
    "result5 = (not var1 and var4) and (result3 or var3)"
   ]
  }
 ],
 "metadata": {
  "kernelspec": {
   "display_name": "Python 3",
   "language": "python",
   "name": "python3"
  },
  "language_info": {
   "codemirror_mode": {
    "name": "ipython",
    "version": 3
   },
   "file_extension": ".py",
   "mimetype": "text/x-python",
   "name": "python",
   "nbconvert_exporter": "python",
   "pygments_lexer": "ipython3",
   "version": "3.8.2"
  }
 },
 "nbformat": 4,
 "nbformat_minor": 2
}
