{
 "cells": [
  {
   "cell_type": "markdown",
   "metadata": {},
   "source": [
    "**Question:**\n",
    "\n",
    "*Write a Python function `highestScorer(names, scores)` that takes two lists as input: `names` (a list of player names) and `scores` (a list of corresponding scores). The function should determine and print the name of the player with the highest score along with their score. If the lengths of the two lists are not equal, the function should print an error message indicating that the lists must be of equal length.*\n",
    "\n",
    "Your implementation should meet the following requirements:\n",
    "\n",
    "1. Use a for loop to iterate through the lists.\n",
    "2. Keep track of the highest score and the corresponding player's name.\n",
    "3. Handle the case where the input lists have different lengths by printing an error message.\n",
    "4. Ensure the output is formatted as: \n",
    "   ```\n",
    "   Highest Scorer is <name> who scored <score> runs\n",
    "   ```\n",
    "\n",
    "**Example Input:**\n",
    "```python\n",
    "names = [\"Rohit Sharma\", \"Mitchell Marsh\", \"Glenn Maxwell\", \"Dawid Malan\"]\n",
    "scores = [131, 177, 201, 140]\n",
    "```\n",
    "\n",
    "**Expected Output:**\n",
    "```\n",
    "Highest Scorer is Glenn Maxwell who scored 201 runs\n",
    "```"
   ]
  },
  {
   "cell_type": "code",
   "execution_count": 5,
   "metadata": {},
   "outputs": [
    {
     "name": "stdout",
     "output_type": "stream",
     "text": [
      "Highest Scorer is Glenn Maxwell who scored 201 runs\n"
     ]
    }
   ],
   "source": [
    "def highestScorer(names, scores):\n",
    "    if len(names) != len(scores):\n",
    "        print(\"Error: Lists must be of equal length\")\n",
    "        return\n",
    "    \n",
    "    highest_scorer = \"\"\n",
    "    highest_score = 0\n",
    "\n",
    "    for index in range(len(names)):\n",
    "        if scores[index] > highest_score:\n",
    "            highest_score = scores[index]\n",
    "            highest_scorer = names[index]\n",
    "\n",
    "    print(f\"Highest Scorer is {highest_scorer} who scored {highest_score} runs\")\n",
    "\n",
    "list1 = [\"Rohit Sharma\", \"Mitchell Marsh\", \"Glenn Maxwell\", \"Dawid Malan\"]\n",
    "list2 = [131, 177, 201, 140]\n",
    "highestScorer(list1, list2)\n"
   ]
  }
 ],
 "metadata": {
  "kernelspec": {
   "display_name": "Python 3",
   "language": "python",
   "name": "python3"
  },
  "language_info": {
   "codemirror_mode": {
    "name": "ipython",
    "version": 3
   },
   "file_extension": ".py",
   "mimetype": "text/x-python",
   "name": "python",
   "nbconvert_exporter": "python",
   "pygments_lexer": "ipython3",
   "version": "3.8.2"
  }
 },
 "nbformat": 4,
 "nbformat_minor": 2
}
