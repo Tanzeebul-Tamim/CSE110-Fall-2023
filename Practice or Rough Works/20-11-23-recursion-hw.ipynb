{
 "cells": [
  {
   "cell_type": "code",
   "execution_count": 1,
   "metadata": {},
   "outputs": [
    {
     "name": "stdout",
     "output_type": "stream",
     "text": [
      "78\n"
     ]
    }
   ],
   "source": [
    "def series_sum(n):\n",
    "    if n == 0:\n",
    "        return 0\n",
    "    elif n > 0:\n",
    "        return n + series_sum(n - 1)\n",
    "    else:\n",
    "        return n + series_sum(n + 1)\n",
    "\n",
    "print(series_sum(int(input(\"Please enter a number: \"))))"
   ]
  },
  {
   "cell_type": "code",
   "execution_count": 28,
   "metadata": {},
   "outputs": [
    {
     "name": "stdout",
     "output_type": "stream",
     "text": [
      "14.0\n"
     ]
    }
   ],
   "source": [
    "def input_sum(count) :\n",
    "    if count == 0:\n",
    "        return 0\n",
    "    else :\n",
    "        input_num = float(input(\"Please enter a numeric value: \"))\n",
    "        return input_num + input_sum(count - 1)\n",
    "\n",
    "print(input_sum(int(input(\"How many values do you want to input?: \"))))"
   ]
  }
 ],
 "metadata": {
  "kernelspec": {
   "display_name": "Python 3",
   "language": "python",
   "name": "python3"
  },
  "language_info": {
   "codemirror_mode": {
    "name": "ipython",
    "version": 3
   },
   "file_extension": ".py",
   "mimetype": "text/x-python",
   "name": "python",
   "nbconvert_exporter": "python",
   "pygments_lexer": "ipython3",
   "version": "3.8.2"
  }
 },
 "nbformat": 4,
 "nbformat_minor": 2
}
