{
 "cells": [
  {
   "attachments": {},
   "cell_type": "markdown",
   "metadata": {},
   "source": [
    "Task 1: \n",
    "Write a python program that reads total attendance of a student in 30 days and prints his/her corresponding marks.\n",
    "Above 50% = 1 marks\n",
    "Above 60% = 2\n",
    "70%+ = 3\n",
    "80% + = 4\n",
    "90% + = 5 marks \n",
    "If a student attends less than 2 days, print He dropped the course. \" Otherwise if the attendance is less than 50% print “Can’t seat for exam”\n",
    "Sample input: 18\n",
    "Output: 2 marks\n"
   ]
  },
  {
   "cell_type": "code",
   "execution_count": 1,
   "metadata": {},
   "outputs": [
    {
     "name": "stdout",
     "output_type": "stream",
     "text": [
      "2 marks\n"
     ]
    }
   ],
   "source": [
    "attendance = int(input(\"Please enter your total attendance this month: \"))\n",
    "\n",
    "if 0  <= attendance <= 30 :\n",
    "    attendance_percentage = (attendance / 30) * 100\n",
    "    marks = \"\"\n",
    "    if attendance_percentage >= 90 :\n",
    "        marks = 5\n",
    "    elif attendance_percentage >= 80 :\n",
    "        marks = 4\n",
    "    elif attendance_percentage >= 70 :\n",
    "        marks = 3\n",
    "    elif attendance_percentage >= 60 :\n",
    "        marks = 2\n",
    "    elif attendance_percentage >= 50 :\n",
    "        marks = 1\n",
    "    elif attendance_percentage < 50 :\n",
    "        print(\"Can't attend in exam\")\n",
    "    elif attendance < 2 :\n",
    "        print(\"He dropped the course\")\n",
    "    print(f\"{marks} marks\")\n",
    "else :\n",
    "    print(\"Error: Enter a valid number!\")"
   ]
  },
  {
   "attachments": {},
   "cell_type": "markdown",
   "metadata": {},
   "source": [
    "Task 2:\n",
    "Take 5 inputs and check only odd times input if that value is divisible by 3 or 7. If yes, print that value is divisible.\n",
    "Input1: 33\n",
    "Output1: Yes\n",
    "input2: 2\n",
    "input3:8\n",
    "output3: "
   ]
  },
  {
   "cell_type": "code",
   "execution_count": null,
   "metadata": {},
   "outputs": [],
   "source": [
    "for i in range (4) :\n",
    "    input_string = int(input(\"Please enter a number: \"))\n",
    "    if i % 2 != 0 :\n",
    "        if input_string % 3 == 0 or input_string % 7 == 0 :\n",
    "            print(f\"{input_string} is divisible\")"
   ]
  },
  {
   "attachments": {},
   "cell_type": "markdown",
   "metadata": {},
   "source": [
    "Task 3:\n",
    "Take a string and check if it is odd length. If yes, print the middle character of that string. [Don’t use indexing]\n",
    "Input: ai5us\n",
    "output 5"
   ]
  },
  {
   "cell_type": "code",
   "execution_count": 9,
   "metadata": {},
   "outputs": [
    {
     "name": "stdout",
     "output_type": "stream",
     "text": [
      "The middle character is m\n"
     ]
    }
   ],
   "source": [
    "input_string = input(\"Please enter a string: \")\n",
    "\n",
    "if len(input_string) % 2 != 0 :\n",
    "    print(f\"The middle character is {input_string[int(len(input_string) / 2)]}\")\n",
    "else :\n",
    "    print(\"Even Length\")"
   ]
  },
  {
   "attachments": {},
   "cell_type": "markdown",
   "metadata": {},
   "source": [
    "Task 4:\n",
    "Take a string from the user that contains both the alphabet and digits. Separate the digits and print the first & last digit of that number. [Can’t use indexing] \n",
    "input: abc2if3p4op5i\n",
    "output: 2,5"
   ]
  },
  {
   "cell_type": "code",
   "execution_count": 30,
   "metadata": {},
   "outputs": [
    {
     "name": "stdout",
     "output_type": "stream",
     "text": [
      "9, 9\n"
     ]
    }
   ],
   "source": [
    "input_string = input(\"Please enter a string containing alphabet and digits: \")\n",
    "first_digit = None\n",
    "last_digit = None\n",
    "digit_count = 0\n",
    "\n",
    "for character in input_string :\n",
    "    if \"0\" <= character <= \"9\" :\n",
    "        digit_count += 1\n",
    "        if digit_count == 1 :\n",
    "            first_digit = character\n",
    "        last_digit = character\n",
    "\n",
    "print(f\"{first_digit}, {last_digit}\")"
   ]
  },
  {
   "attachments": {},
   "cell_type": "markdown",
   "metadata": {},
   "source": [
    "Task 5:\n",
    "Print this pattern:\n",
    "input:4\n",
    "output:\n",
    "4444\n",
    "333\n",
    "22\n",
    "1"
   ]
  },
  {
   "cell_type": "code",
   "execution_count": 31,
   "metadata": {},
   "outputs": [
    {
     "name": "stdout",
     "output_type": "stream",
     "text": [
      "999999999\n",
      "88888888\n",
      "7777777\n",
      "666666\n",
      "55555\n",
      "4444\n",
      "333\n",
      "22\n",
      "1\n"
     ]
    }
   ],
   "source": [
    "input_string = int(input(\"Please enter a number: \"))\n",
    "\n",
    "for i in range (input_string, 0, -1) :\n",
    "    for j in range (i) :\n",
    "        print(i, end=\"\")\n",
    "    print(end=\"\\n\")"
   ]
  },
  {
   "attachments": {},
   "cell_type": "markdown",
   "metadata": {},
   "source": [
    "Task 6:\n",
    "Take a string from the user and print it in reverse order by skipping consecutive characters.\n",
    "input: abcdefg\n",
    "output: geca"
   ]
  },
  {
   "cell_type": "code",
   "execution_count": 35,
   "metadata": {},
   "outputs": [
    {
     "name": "stdout",
     "output_type": "stream",
     "text": [
      "geca\n"
     ]
    }
   ],
   "source": [
    "input_string = input(\"Please enter a string: \")\n",
    "result_string = \"\"\n",
    "\n",
    "for i in range (-1, -(len(input_string)+1), -1) :\n",
    "    if i % 2 != 0 :\n",
    "        result_string += input_string[i]\n",
    "\n",
    "print(result_string)"
   ]
  },
  {
   "attachments": {},
   "cell_type": "markdown",
   "metadata": {},
   "source": [
    "Take 7:\n",
    "Take a string and separate it into 2 distinct strings where one string will get odd positions characters and another string will get even position characters. Print the reverse of both newly defined strings. [if there are any capital characters then switch it to a smaller case. Use ord()]\n",
    "input: aBc5De\n",
    "output: dca, e5b"
   ]
  },
  {
   "cell_type": "code",
   "execution_count": 51,
   "metadata": {},
   "outputs": [
    {
     "name": "stdout",
     "output_type": "stream",
     "text": [
      "dca, e5b\n"
     ]
    }
   ],
   "source": [
    "input_string = input(\"Please enter a string: \")\n",
    "first, second = \"\", \"\"\n",
    "updated_first, updated_second = \"\", \"\"\n",
    "\n",
    "for index in range(len(input_string)) :\n",
    "    if index % 2 == 0 :\n",
    "        first += input_string[index]\n",
    "    else :\n",
    "        second += input_string[index]\n",
    "\n",
    "for i in range(len(first)) :\n",
    "    if \"A\" <= first[i] <= \"Z\" :\n",
    "        updated_first += chr(ord(first[i]) + 32)\n",
    "    else :\n",
    "        updated_first += first[i]\n",
    "        \n",
    "for i in range(len(second)) :\n",
    "    if \"A\" <= second[i] <= \"Z\" :\n",
    "        updated_second += chr(ord(second[i]) + 32)\n",
    "    else :\n",
    "        updated_second += second[i]\n",
    "\n",
    "print(f\"{updated_first[-1:-len(updated_first)-1:-1]}, {updated_second[-1:-len(updated_second)-1:-1]}\")"
   ]
  },
  {
   "attachments": {},
   "cell_type": "markdown",
   "metadata": {},
   "source": [
    "Take 8:\n",
    "Write a Python program that takes a number from the user and generates the following pattern. If the user-given number is NOT greater than 4, then print \"Invalid input\".\n",
    "\n",
    "Sample Input1: 6\n",
    "Sample Output1:\n",
    "######\n",
    "&&##&&\n",
    "&&##&&\n",
    "&&##&&\n",
    "&&##&&\n",
    "######"
   ]
  },
  {
   "cell_type": "code",
   "execution_count": 67,
   "metadata": {},
   "outputs": [
    {
     "name": "stdout",
     "output_type": "stream",
     "text": [
      "######\n",
      "&&##&&\n",
      "&&##&&\n",
      "&&##&&\n",
      "&&##&&\n",
      "######"
     ]
    }
   ],
   "source": [
    "input_num = int(input(\"Please enter a number: \"))\n",
    "\n",
    "if input_num >= 5 :\n",
    "    for i in range(1, input_num + 1) :\n",
    "        if i == 1 or i == input_num :\n",
    "            for j in range(1, input_num + 1) :\n",
    "                print(\"#\", end=\"\")\n",
    "            if i == 1 :\n",
    "                print(end=\"\\n\")\n",
    "        else :\n",
    "            print(f\"&&{(input_num - 4) * '#'}&&\")\n",
    "else :\n",
    "    print(\"Invalid input\")"
   ]
  },
  {
   "attachments": {},
   "cell_type": "markdown",
   "metadata": {},
   "source": [
    "Take 9:\n",
    "Write a Python program that takes a number from the user. Then print the first two digits and last two digits of the given number. The input number will contain more than two digits. [Can’t use indexing] \n",
    "\n",
    "Sample Input1: 2422781\n",
    "Sample Output1: First two digits 2,4 \n",
    "\t\t\tLast two digits 8,1"
   ]
  },
  {
   "cell_type": "code",
   "execution_count": 75,
   "metadata": {},
   "outputs": [
    {
     "name": "stdout",
     "output_type": "stream",
     "text": [
      "First two digits 2, 4\n",
      "Last two digits 8, 1\n"
     ]
    }
   ],
   "source": [
    "input_value = input(\"Please enter a number which contains more than two digits: \")\n",
    "input_string = str(input_value)\n",
    "\n",
    "if len(input_string) > 2 :\n",
    "    first_2 = input_string[:3:]\n",
    "    last_2 = input_string[-1:-3:-1]\n",
    "    print(f\"First two digits {first_2[:1:]}, {first_2[1:2:]}\")\n",
    "    print(f\"Last two digits {last_2[1:2:]}, {last_2[:1:]}\")\n",
    "else :\n",
    "    print(\"Your input must contain more than 2 digits\")"
   ]
  },
  {
   "attachments": {},
   "cell_type": "markdown",
   "metadata": {},
   "source": [
    "Suppose you are a part of a football team that took part in N number of football games. Write a Python program that calculates your team's total points and winning percentage based on the scores from the games. First, the program should take the number of games played as input from the user. The scores of the games should also be taken as input from the user in the following format: (Your team's score-Opponent team's score). For each win, draw, and loss, your team will receive 3, 1, and 0 points, respectively. The program should then calculate your team's total points and the winning percentage. You may assume the number of goals scored in each game will always be less\n",
    "than 10."
   ]
  },
  {
   "cell_type": "code",
   "execution_count": 78,
   "metadata": {},
   "outputs": [
    {
     "name": "stdout",
     "output_type": "stream",
     "text": [
      "Total Points: 7\n",
      "Winning Percentage: 50.0%\n"
     ]
    }
   ],
   "source": [
    "num_of_games = int(input(\"Please enter how many matches your team has played: \"))\n",
    "points = 0\n",
    "win = 0\n",
    "\n",
    "for i in range(num_of_games) :\n",
    "    score = input(\"Please enter match score: \")\n",
    "    my_score = int(score[0])\n",
    "    opponent_score = int(score[-1])\n",
    "    if my_score > opponent_score :\n",
    "        points += 3\n",
    "        win += 1\n",
    "    elif my_score == opponent_score :\n",
    "        points += 1\n",
    "\n",
    "winning_percentage = ((win) / num_of_games) * 100\n",
    "\n",
    "print(f\"Total Points: {points}\")\n",
    "print(f\"Winning Percentage: {winning_percentage}%\")"
   ]
  },
  {
   "cell_type": "code",
   "execution_count": null,
   "metadata": {},
   "outputs": [],
   "source": [
    "items = input(\"Please enter item prices: \")\n",
    "prices = \"\"\n",
    "\n",
    "for i in range(len(items)) :\n",
    "    if \"0\" <= items[i] <= \"9\" or items[i] == \",\" or items[i] == \".\" :\n",
    "        prices += items[i]\n",
    "\n",
    "single_price = \"\"\n",
    "total = 0\n",
    "\n",
    "for j in range(len(prices)) :\n",
    "    if prices[j] != \",\" :\n",
    "        single_price += prices[j]\n",
    "        if j == len(prices) - 1 :\n",
    "            total += float(single_price)\n",
    "    elif prices[j] == \",\" :\n",
    "        total += float(single_price)\n",
    "        single_price = \"\"\n",
    "\n",
    "print(f\"Sir, your total bill is {total}$\")"
   ]
  },
  {
   "attachments": {},
   "cell_type": "markdown",
   "metadata": {},
   "source": [
    "Apple: 10.20$, banana: 40.34$, orange: 23.23$, mango: 24$"
   ]
  },
  {
   "cell_type": "code",
   "execution_count": 8,
   "metadata": {},
   "outputs": [
    {
     "name": "stdout",
     "output_type": "stream",
     "text": [
      "nohtyP"
     ]
    }
   ],
   "source": [
    "s = str(input())\n",
    "for i in  range (len(s) - 1, -1, -1) :\n",
    "    print(s[i], end=\"\")"
   ]
  },
  {
   "cell_type": "code",
   "execution_count": 3,
   "metadata": {},
   "outputs": [
    {
     "ename": "RecursionError",
     "evalue": "maximum recursion depth exceeded",
     "output_type": "error",
     "traceback": [
      "\u001b[1;31m---------------------------------------------------------------------------\u001b[0m",
      "\u001b[1;31mRecursionError\u001b[0m                            Traceback (most recent call last)",
      "\u001b[1;32me:\\Study Materials\\Mid Parctic.ipynb Cell 24\u001b[0m line \u001b[0;36m4\n\u001b[0;32m      <a href='vscode-notebook-cell:/e%3A/Study%20Materials/Mid%20Parctic.ipynb#X32sZmlsZQ%3D%3D?line=0'>1</a>\u001b[0m \u001b[39mdef\u001b[39;00m \u001b[39mfactorial\u001b[39m(n):\n\u001b[0;32m      <a href='vscode-notebook-cell:/e%3A/Study%20Materials/Mid%20Parctic.ipynb#X32sZmlsZQ%3D%3D?line=1'>2</a>\u001b[0m     \u001b[39mreturn\u001b[39;00m n \u001b[39m*\u001b[39m factorial(n \u001b[39m-\u001b[39m \u001b[39m1\u001b[39m)\n\u001b[1;32m----> <a href='vscode-notebook-cell:/e%3A/Study%20Materials/Mid%20Parctic.ipynb#X32sZmlsZQ%3D%3D?line=3'>4</a>\u001b[0m result \u001b[39m=\u001b[39m factorial(\u001b[39m5\u001b[39;49m)\n\u001b[0;32m      <a href='vscode-notebook-cell:/e%3A/Study%20Materials/Mid%20Parctic.ipynb#X32sZmlsZQ%3D%3D?line=4'>5</a>\u001b[0m \u001b[39mprint\u001b[39m(result)\n",
      "\u001b[1;32me:\\Study Materials\\Mid Parctic.ipynb Cell 24\u001b[0m line \u001b[0;36m2\n\u001b[0;32m      <a href='vscode-notebook-cell:/e%3A/Study%20Materials/Mid%20Parctic.ipynb#X32sZmlsZQ%3D%3D?line=0'>1</a>\u001b[0m \u001b[39mdef\u001b[39;00m \u001b[39mfactorial\u001b[39m(n):\n\u001b[1;32m----> <a href='vscode-notebook-cell:/e%3A/Study%20Materials/Mid%20Parctic.ipynb#X32sZmlsZQ%3D%3D?line=1'>2</a>\u001b[0m     \u001b[39mreturn\u001b[39;00m n \u001b[39m*\u001b[39m factorial(n \u001b[39m-\u001b[39;49m \u001b[39m1\u001b[39;49m)\n",
      "\u001b[1;32me:\\Study Materials\\Mid Parctic.ipynb Cell 24\u001b[0m line \u001b[0;36m2\n\u001b[0;32m      <a href='vscode-notebook-cell:/e%3A/Study%20Materials/Mid%20Parctic.ipynb#X32sZmlsZQ%3D%3D?line=0'>1</a>\u001b[0m \u001b[39mdef\u001b[39;00m \u001b[39mfactorial\u001b[39m(n):\n\u001b[1;32m----> <a href='vscode-notebook-cell:/e%3A/Study%20Materials/Mid%20Parctic.ipynb#X32sZmlsZQ%3D%3D?line=1'>2</a>\u001b[0m     \u001b[39mreturn\u001b[39;00m n \u001b[39m*\u001b[39m factorial(n \u001b[39m-\u001b[39;49m \u001b[39m1\u001b[39;49m)\n",
      "    \u001b[1;31m[... skipping similar frames: factorial at line 2 (2970 times)]\u001b[0m\n",
      "\u001b[1;32me:\\Study Materials\\Mid Parctic.ipynb Cell 24\u001b[0m line \u001b[0;36m2\n\u001b[0;32m      <a href='vscode-notebook-cell:/e%3A/Study%20Materials/Mid%20Parctic.ipynb#X32sZmlsZQ%3D%3D?line=0'>1</a>\u001b[0m \u001b[39mdef\u001b[39;00m \u001b[39mfactorial\u001b[39m(n):\n\u001b[1;32m----> <a href='vscode-notebook-cell:/e%3A/Study%20Materials/Mid%20Parctic.ipynb#X32sZmlsZQ%3D%3D?line=1'>2</a>\u001b[0m     \u001b[39mreturn\u001b[39;00m n \u001b[39m*\u001b[39m factorial(n \u001b[39m-\u001b[39;49m \u001b[39m1\u001b[39;49m)\n",
      "\u001b[1;31mRecursionError\u001b[0m: maximum recursion depth exceeded"
     ]
    }
   ],
   "source": [
    "def factorial(n):\n",
    "    if n == 0 or n == 1:\n",
    "        return 1\n",
    "    else:\n",
    "        return n * factorial(n - 1)\n",
    "\n",
    "result = factorial(5)\n",
    "print(result)"
   ]
  },
  {
   "cell_type": "code",
   "execution_count": null,
   "metadata": {},
   "outputs": [],
   "source": []
  },
  {
   "cell_type": "markdown",
   "metadata": {},
   "source": [
    "Python"
   ]
  }
 ],
 "metadata": {
  "kernelspec": {
   "display_name": "Python 3",
   "language": "python",
   "name": "python3"
  },
  "language_info": {
   "codemirror_mode": {
    "name": "ipython",
    "version": 3
   },
   "file_extension": ".py",
   "mimetype": "text/x-python",
   "name": "python",
   "nbconvert_exporter": "python",
   "pygments_lexer": "ipython3",
   "version": "3.8.2"
  },
  "orig_nbformat": 4,
  "vscode": {
   "interpreter": {
    "hash": "570feb405e2e27c949193ac68f46852414290d515b0ba6e5d90d076ed2284471"
   }
  }
 },
 "nbformat": 4,
 "nbformat_minor": 2
}
