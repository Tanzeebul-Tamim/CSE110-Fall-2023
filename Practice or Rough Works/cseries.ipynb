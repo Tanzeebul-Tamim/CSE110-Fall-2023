{
 "cells": [
  {
   "cell_type": "markdown",
   "metadata": {},
   "source": [
    "### Instructions:\n",
    "\n",
    "Write a python program to compute the following sum:\n",
    "\n",
    "$$\n",
    "w = 1 - \\frac{v^2}{2!} + \\frac{v^4}{4!} - \\frac{v^6}{6!} + \\cdots + \\frac{v^{2m}}{(2m)!} \\cdot (-1)^m\n",
    "$$\n",
    "\n",
    "Where$$ 0 \\leq v \\leq 6.28\\ $$ is a real number. The value of \\(m\\), which is to be determined by the program, must be the smallest positive integer that satisfies the inequality:\n",
    "\n",
    "$$\n",
    "\\frac{v^{2m}}{(2m)!} \\leq e\n",
    "$$\n",
    "\n",
    "where \\(e\\) is a very small positive real number (less than 1). The values of **v** and **e** must be provided as inputs to the program. **m!** is the factorial of **m**.\n",
    "\n",
    "### In addition, note the following requirements:\n",
    "\n",
    "1. Submitted programs **must** be void of any syntax errors.\n",
    "2. The solution **must not** use any constructs that we have not studied.\n",
    "3. The submission **must** be the source code file **cseries.py**. The file **must not** be zipped.\n",
    "\n",
    "**Submissions that are non-compliant with any of the above requirements will be automatically marked as zero.**\n",
    "\n",
    "---\n",
    "\n",
    "The expected input/output behavior of the program is illustrated below for three example inputs:\n",
    "\n",
    "```\n",
    "Enter a real number v between 0 and 6.28, inclusive: 6.28\n",
    "Enter a small positive real number e << 1: 0.0001\n",
    "w : 0.9999962424536172\n",
    "\n",
    "Enter a real number v between 0 and 6.28, inclusive: 3.14\n",
    "Enter a small positive real number e << 1: 0.0001\n",
    "w : -0.9999985976926036\n",
    "\n",
    "Enter a real number v between 0 and 6.28, inclusive: 1.57\n",
    "Enter a small positive real number e << 1: 0.0001\n",
    "w : 0.0007958647579494564\n",
    "```\n",
    "\n",
    "---\n",
    "\n",
    "Hint: Add the terms of the sum one at a time. Stop when the last added term is found to be less than or equal to **e**."
   ]
  },
  {
   "cell_type": "code",
   "execution_count": 3,
   "metadata": {},
   "outputs": [
    {
     "name": "stdout",
     "output_type": "stream",
     "text": [
      "w : 0.9999962424536332\n"
     ]
    }
   ],
   "source": [
    "def find_factorial(num):\n",
    "    result = 1\n",
    "    for i in range(1, num + 1):\n",
    "        result *= i\n",
    "    return result\n",
    "\n",
    "\n",
    "def find_m(e, v):\n",
    "    m = 1\n",
    "    while True:\n",
    "        lhs = v ** (2 * m)\n",
    "        rhs = e * find_factorial(2 * m)\n",
    "\n",
    "        if lhs <= rhs:\n",
    "            break\n",
    "        m += 1\n",
    "    return m\n",
    "\n",
    "\n",
    "def find_term(v, m):\n",
    "    term = (v ** (2 * m) / find_factorial(2 * m)) * (-1) ** m\n",
    "    return term\n",
    "\n",
    "\n",
    "v = float(input(\"Enter a real number v between 0 and 6.28, inclusive: \"))\n",
    "\n",
    "if 0 <= v <= 6.28:\n",
    "    e = float(input(\"Enter a small positive real number e << 1: \"))\n",
    "    if 0 < e < 1:\n",
    "        m = find_m(e, v)\n",
    "        w = 1\n",
    "\n",
    "        for i in range(1, m + 1):\n",
    "            w += find_term(v, i)\n",
    "\n",
    "        print(f\"w : {w}\")\n",
    "    else:\n",
    "        print(\"Invalid input for variable 'e'!\")\n",
    "else:\n",
    "    print(\"Invalid input for variable 'v'!\")"
   ]
  }
 ],
 "metadata": {
  "kernelspec": {
   "display_name": "Python 3",
   "language": "python",
   "name": "python3"
  },
  "language_info": {
   "codemirror_mode": {
    "name": "ipython",
    "version": 3
   },
   "file_extension": ".py",
   "mimetype": "text/x-python",
   "name": "python",
   "nbconvert_exporter": "python",
   "pygments_lexer": "ipython3",
   "version": "3.8.2"
  }
 },
 "nbformat": 4,
 "nbformat_minor": 2
}
