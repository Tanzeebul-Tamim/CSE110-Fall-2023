{
 "cells": [
  {
   "cell_type": "code",
   "execution_count": null,
   "metadata": {},
   "outputs": [],
   "source": []
  },
  {
   "cell_type": "code",
   "execution_count": 1,
   "metadata": {},
   "outputs": [
    {
     "name": "stdout",
     "output_type": "stream",
     "text": [
      "[0 0 0 0 0]\n",
      "5\n",
      "5\n"
     ]
    }
   ],
   "source": [
    "import numpy as np\n",
    "a = np.zeros(5, dtype=int)\n",
    "print(a)\n",
    "print(len(a))\n",
    "print(a.size)"
   ]
  },
  {
   "cell_type": "code",
   "execution_count": 4,
   "metadata": {},
   "outputs": [
    {
     "name": "stdout",
     "output_type": "stream",
     "text": [
      "[0 5 0]\n"
     ]
    }
   ],
   "source": [
    "a[2] = 5\n",
    "print(a[1:4])"
   ]
  },
  {
   "cell_type": "code",
   "execution_count": 5,
   "metadata": {},
   "outputs": [
    {
     "name": "stdout",
     "output_type": "stream",
     "text": [
      "0\n",
      "0\n",
      "5\n",
      "0\n",
      "0\n"
     ]
    }
   ],
   "source": [
    "for i in range(a.size):\n",
    "    print(a[i])"
   ]
  },
  {
   "cell_type": "code",
   "execution_count": 10,
   "metadata": {},
   "outputs": [
    {
     "name": "stdout",
     "output_type": "stream",
     "text": [
      "[0 0 0 0 0]\n",
      "[3 1 4 7 3]\n"
     ]
    }
   ],
   "source": [
    "n = int(input(\"Please enter the length of your array: \"))\n",
    "arr = np.zeros(n, dtype=int)\n",
    "print(arr)\n",
    "for i in range(n):\n",
    "    x = int(input())\n",
    "    arr[i] = x\n",
    "print(arr)"
   ]
  },
  {
   "cell_type": "code",
   "execution_count": 12,
   "metadata": {},
   "outputs": [
    {
     "name": "stdout",
     "output_type": "stream",
     "text": [
      "[[0 0]\n",
      " [0 0]\n",
      " [0 0]] 3 6\n"
     ]
    }
   ],
   "source": [
    "arr = np.zeros((3, 2), dtype=int)\n",
    "print(arr, len(arr), arr.size)"
   ]
  },
  {
   "cell_type": "code",
   "execution_count": 15,
   "metadata": {},
   "outputs": [
    {
     "name": "stdout",
     "output_type": "stream",
     "text": [
      "[-9 -2  0 11 45]\n"
     ]
    }
   ],
   "source": [
    "arr = np.array([-2, 45, 0, 11, -9])\n",
    "\n",
    "for j in range(len(arr)):\n",
    "    minimum = arr[j]\n",
    "    min_idx = j\n",
    "    for i in range(j + 1, len(arr)):\n",
    "        if arr[i] < minimum:\n",
    "            minimum = arr[i]\n",
    "            min_idx = i\n",
    "    temp = arr[j]\n",
    "    arr[j] = minimum\n",
    "    arr[min_idx] = temp\n",
    "print(arr)            "
   ]
  },
  {
   "cell_type": "code",
   "execution_count": 16,
   "metadata": {},
   "outputs": [
    {
     "name": "stdout",
     "output_type": "stream",
     "text": [
      "[[0 0 0 0]\n",
      " [0 0 0 0]\n",
      " [0 0 0 0]]\n"
     ]
    }
   ],
   "source": [
    "import numpy as np\n",
    "arr2D = np.zeros((3, 4), dtype=int)\n",
    "print(arr2D)"
   ]
  },
  {
   "cell_type": "code",
   "execution_count": 20,
   "metadata": {},
   "outputs": [
    {
     "name": "stdout",
     "output_type": "stream",
     "text": [
      "[[ 1  2  3  4]\n",
      " [ 5  6  7  8]\n",
      " [ 9 10 11 12]]\n",
      "[1 2 3 4]\n",
      "3\n",
      "8\n"
     ]
    }
   ],
   "source": [
    "arr2D = np.array([[1, 2, 3, 4], [5, 6, 7, 8], [9, 10, 11, 12]])\n",
    "print(arr2D)\n",
    "print(arr2D[0])\n",
    "print(arr2D[0][2])\n",
    "print(arr2D[1][3])"
   ]
  },
  {
   "cell_type": "code",
   "execution_count": 24,
   "metadata": {},
   "outputs": [
    {
     "name": "stdout",
     "output_type": "stream",
     "text": [
      "(3, 4)\n"
     ]
    }
   ],
   "source": [
    "print(arr2D.shape)"
   ]
  },
  {
   "cell_type": "code",
   "execution_count": 27,
   "metadata": {},
   "outputs": [
    {
     "name": "stdout",
     "output_type": "stream",
     "text": [
      "1\n",
      "2\n",
      "3\n",
      "4\n",
      "5\n",
      "6\n",
      "7\n",
      "8\n",
      "9\n",
      "10\n",
      "11\n",
      "12\n"
     ]
    }
   ],
   "source": [
    "for i in range(arr2D.shape[0]):\n",
    "    for j in range(arr2D.shape[1]):\n",
    "        print(arr2D[i][j])"
   ]
  },
  {
   "cell_type": "code",
   "execution_count": 28,
   "metadata": {},
   "outputs": [
    {
     "name": "stdout",
     "output_type": "stream",
     "text": [
      "3 4\n"
     ]
    }
   ],
   "source": [
    "row, column = arr2D.shape\n",
    "print(row, column)"
   ]
  },
  {
   "cell_type": "code",
   "execution_count": 30,
   "metadata": {},
   "outputs": [
    {
     "name": "stdout",
     "output_type": "stream",
     "text": [
      "[[ 1  2  3  4]\n",
      " [ 5  6  7  8]\n",
      " [ 9 10 11 12]]\n",
      "10\n",
      "26\n",
      "42\n"
     ]
    }
   ],
   "source": [
    "arr2D = np.array([[1,2,3,4],[5,6,7,8],[9,10,11,12]])\n",
    "print(arr2D)\n",
    "\n",
    "for i in range(arr2D.shape[0]):\n",
    "    total = 0\n",
    "    for j in range(arr2D.shape[1]):\n",
    "        total += arr2D[i][j]\n",
    "    print(total)"
   ]
  },
  {
   "cell_type": "code",
   "execution_count": 34,
   "metadata": {},
   "outputs": [
    {
     "name": "stdout",
     "output_type": "stream",
     "text": [
      "[[ 1  2  3  4]\n",
      " [ 5  6  7  8]\n",
      " [ 9 10 11 12]]\n",
      "[[ 2  4  6  8]\n",
      " [10 12 14 16]\n",
      " [18 20 22 24]]\n",
      "(3, 4)\n"
     ]
    }
   ],
   "source": [
    "arr2D = np.array([[1,2,3,4],[5,6,7,8],[9,10,11,12]])\n",
    "multiply2D = np.zeros((arr2D.shape[0], arr2D.shape[1]), dtype=int)\n",
    "scalar = 2\n",
    "\n",
    "for i in range(arr2D.shape[0]):\n",
    "    for j in range(arr2D.shape[1]):\n",
    "        multiply2D[i][j] = scalar * arr2D[i][j]\n",
    "print(arr2D)        \n",
    "print(multiply2D)\n",
    "print(multiply2D.shape)"
   ]
  },
  {
   "cell_type": "markdown",
   "metadata": {},
   "source": [
    "                            |4 3|\n",
    "A = [3 1 4]             B = |2 5|\n",
    "                            |6 8|\n",
    "    1 x 3<-Must be equal->3 x 2\n",
    "    result will be 1 x 2"
   ]
  },
  {
   "cell_type": "markdown",
   "metadata": {},
   "source": [
    "      |0 5|\n",
    "A^t = |1 2|  3 x 2\n",
    "      |3 4|\n",
    "\n",
    "A = |3 2 1| 2 x 3\n",
    "    |1 2 4|\n",
    "\n",
    "The size of A . B will be 3 x 3\n",
    "\n",
    "\n",
    "t     A     t     A      t     A     t     A      t     A     t     A\n",
    "0,0 x 0,0 + 0,1 x 1,0    0,0 x 0,1 + 0,1 x 1,1    0,0 x 0,2 + 0,1 x 1,2        \n",
    "1,0 x 0x0 + 1x1 x 1,0    1,0 x 0,1 + 1,1 x 1,1    1,0 x 0,2 + 1,1 x 1,2\n",
    "2,0 x 0,0 + 2,1 x 1,0    2,0 x 0,1 + 2,1 x 1,1    2,0 x 0,2 + 2,1 x 1,2"
   ]
  },
  {
   "cell_type": "code",
   "execution_count": 58,
   "metadata": {},
   "outputs": [
    {
     "name": "stdout",
     "output_type": "stream",
     "text": [
      "[[ 5 10 20]\n",
      " [ 5  6  9]\n",
      " [13 14 19]]\n"
     ]
    }
   ],
   "source": [
    "A = np.array([[0, 5], [1, 2], [3, 4]])\n",
    "B = np.array([[3, 2, 1], [1, 2, 4]])\n",
    "\n",
    "\n",
    "def matrices_multiplication(array1, array2):\n",
    "    if array1.shape[1] != array2.shape[0]:\n",
    "        return \"Multiplication between these matrices isn't possible\"\n",
    "    else:\n",
    "        result_shape = np.zeros((array1.shape[0], array2.shape[1]), dtype=int)\n",
    "        for i in range(result_shape.shape[0]): \n",
    "            for j in range(result_shape.shape[1]):\n",
    "                sum = 0\n",
    "                for k in range(array1.shape[1]): \n",
    "                    sum += array1[i][k] * array2[k][j]\n",
    "                result_shape[i][j] = sum\n",
    "        return result_shape\n",
    "                \n",
    "\n",
    "result = matrices_multiplication(A, B)\n",
    "print(result)"
   ]
  }
 ],
 "metadata": {
  "kernelspec": {
   "display_name": "Python 3",
   "language": "python",
   "name": "python3"
  },
  "language_info": {
   "codemirror_mode": {
    "name": "ipython",
    "version": 3
   },
   "file_extension": ".py",
   "mimetype": "text/x-python",
   "name": "python",
   "nbconvert_exporter": "python",
   "pygments_lexer": "ipython3",
   "version": "3.8.2"
  }
 },
 "nbformat": 4,
 "nbformat_minor": 2
}
