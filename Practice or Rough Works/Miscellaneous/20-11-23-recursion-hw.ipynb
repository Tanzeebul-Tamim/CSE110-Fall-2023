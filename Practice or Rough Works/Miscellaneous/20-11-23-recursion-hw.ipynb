{
 "cells": [
  {
   "cell_type": "markdown",
   "metadata": {},
   "source": [
    "**Question:**\n",
    "\n",
    "*Implement a recursive function named `series_sum` that calculates the sum of all integers from `n` down to `0` if `n` is positive, or from `n` up to `0` if `n` is negative.*\n",
    "\n",
    "The function should handle the following cases:\n",
    "\n",
    "1. If `n` is equal to `0`, return `0`.\n",
    "2. If `n` is greater than `0`, return the sum of `n` and the sum of all integers from `n - 1` down to `0`.\n",
    "3. If `n` is less than `0`, return the sum of `n` and the sum of all integers from `n + 1` up to `0`.\n",
    "\n",
    "**Function Signature:**\n",
    "```python\n",
    "def series_sum(n: int) -> int:\n",
    "```\n",
    "\n",
    "**Example Usage:**\n",
    "```python\n",
    "print(series_sum(int(input(\"Please enter a number: \"))))\n",
    "```"
   ]
  },
  {
   "cell_type": "code",
   "execution_count": 1,
   "metadata": {},
   "outputs": [
    {
     "name": "stdout",
     "output_type": "stream",
     "text": [
      "78\n"
     ]
    }
   ],
   "source": [
    "def series_sum(n):\n",
    "    if n == 0:\n",
    "        return 0\n",
    "    elif n > 0:\n",
    "        return n + series_sum(n - 1)\n",
    "    else:\n",
    "        return n + series_sum(n + 1)\n",
    "\n",
    "print(series_sum(int(input(\"Please enter a number: \"))))"
   ]
  },
  {
   "cell_type": "markdown",
   "metadata": {},
   "source": [
    "**Question:**\n",
    "\n",
    "*Implement a recursive function named `input_sum` that calculates the sum of a specified number of numeric inputs provided by the user. The function should handle the following cases:*\n",
    "\n",
    "1. If `count` is equal to `0`, return `0`.\n",
    "2. If `count` is greater than `0`, prompt the user to enter a numeric value, add this value to the result of the `input_sum` function called with `count - 1`.\n",
    "\n",
    "**Function Signature:**\n",
    "```python\n",
    "def input_sum(count: int) -> float:\n",
    "```\n",
    "\n",
    "**Example Usage:**\n",
    "```python\n",
    "print(input_sum(int(input(\"How many values do you want to input?: \"))))\n",
    "```"
   ]
  },
  {
   "cell_type": "code",
   "execution_count": 28,
   "metadata": {},
   "outputs": [
    {
     "name": "stdout",
     "output_type": "stream",
     "text": [
      "14.0\n"
     ]
    }
   ],
   "source": [
    "def input_sum(count) :\n",
    "    if count == 0:\n",
    "        return 0\n",
    "    else :\n",
    "        input_num = float(input(\"Please enter a numeric value: \"))\n",
    "        return input_num + input_sum(count - 1)\n",
    "\n",
    "print(input_sum(int(input(\"How many values do you want to input?: \"))))"
   ]
  }
 ],
 "metadata": {
  "kernelspec": {
   "display_name": "Python 3",
   "language": "python",
   "name": "python3"
  },
  "language_info": {
   "codemirror_mode": {
    "name": "ipython",
    "version": 3
   },
   "file_extension": ".py",
   "mimetype": "text/x-python",
   "name": "python",
   "nbconvert_exporter": "python",
   "pygments_lexer": "ipython3",
   "version": "3.8.2"
  }
 },
 "nbformat": 4,
 "nbformat_minor": 2
}
