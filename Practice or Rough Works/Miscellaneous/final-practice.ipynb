{
 "cells": [
  {
   "cell_type": "markdown",
   "metadata": {},
   "source": [
    "**Question:**\n",
    "\n",
    "*Implement a function `largest_triangle(values)` that takes a list of tuples `values`, where each tuple contains two integers representing the base and height of a triangle. The task is to calculate the area of each triangle and determine which triangle has the largest area. Print the area of each triangle, and finally, print the triangle number that has the largest area along with its base and height.*\n",
    "\n",
    "**Input:**\n",
    "```python\n",
    "base_n_height = [[15, 5], [6, 3], [6, 10], [15, 2]]\n",
    "```\n",
    "\n",
    "**Output:**\n",
    "```\n",
    "Area of Triangle 1: 37.5\n",
    "Area of Triangle 2: 9.0\n",
    "Area of Triangle 3: 30.0\n",
    "Area of Triangle 4: 15.0\n",
    "Triangle 1 is the largest with a base of 15 and a height of 5\n",
    "```"
   ]
  },
  {
   "cell_type": "code",
   "execution_count": 2,
   "metadata": {},
   "outputs": [
    {
     "name": "stdout",
     "output_type": "stream",
     "text": [
      "Area of Triangle 1: 37.5\n",
      "Area of Triangle 2: 9.0\n",
      "Area of Triangle 3: 30.0\n",
      "Area of Triangle 4: 15.0\n",
      "Triangle 1 is the largest with a base of 15 and a height of 5\n",
      "None\n"
     ]
    }
   ],
   "source": [
    "def largest_triangle(values):\n",
    "    max_area = 0\n",
    "    max_base = 0\n",
    "    max_height = 0\n",
    "    for i in range(len(values)):\n",
    "        base, height = values[i]\n",
    "        area = 0.5 * base * height\n",
    "        print(f\"Area of Triangle {i + 1}: {area}\")\n",
    "        if area > max_area:\n",
    "            max_area = area\n",
    "            max_base = base\n",
    "            max_height = height\n",
    "            triangle_no = i + 1\n",
    "    print(\n",
    "        f\"Triangle {triangle_no} is the largest with a base of {max_base} and a height of {max_height}\"\n",
    "    )\n",
    "\n",
    "\n",
    "base_n_height = [[15, 5], [6, 3], [6, 10], [15, 2]]\n",
    "result = largest_triangle(base_n_height)\n",
    "print(result)"
   ]
  },
  {
   "cell_type": "markdown",
   "metadata": {},
   "source": [
    "**Question:**\n",
    "\n",
    "*Create a function that processes a given input string to categorize its characters into uppercase letters, lowercase letters, digits, and special characters. The function should build a new string by taking characters from each category in order. The number of characters taken from each category should be equal to one-fourth of the total number of non-space characters in the input.*\n",
    "\n",
    "**Input:**\n",
    "```python\n",
    "user_input = \"a1A dCe  @  3 $F #4\"\n",
    "```\n",
    "\n",
    "**Output:**\n",
    "```\n",
    "Upper-Case: AF\n",
    "Lower-Case: acde\n",
    "Digits: 134\n",
    "Special:  @ $\n",
    "New word: Aac1 \n",
    "```"
   ]
  },
  {
   "cell_type": "code",
   "execution_count": 1,
   "metadata": {},
   "outputs": [
    {
     "name": "stdout",
     "output_type": "stream",
     "text": [
      "Upper-Case: ACF\n",
      "Lower-Case: ade\n",
      "Digits: 134\n",
      "Special: @$#\n",
      "New word: Aa1@Cd3$Fe4#\n"
     ]
    }
   ],
   "source": [
    "user_input = input(\"Enter a string: \")\n",
    "upper = \"\"\n",
    "lower = \"\"\n",
    "digit = \"\"\n",
    "special = \"\"\n",
    "result = \"\"\n",
    "char_count = 0\n",
    "\n",
    "for i in range(len(user_input)):\n",
    "    char = user_input[i]\n",
    "    ascii = ord(char)\n",
    "    if ascii != 32:\n",
    "        char_count += 1\n",
    "        if 65 <= ascii <= 90:\n",
    "            upper += char\n",
    "        elif 97 <= ascii <= 122:\n",
    "            lower += char\n",
    "        elif 48 <= ascii <= 57:\n",
    "            digit += char\n",
    "        else:\n",
    "            special += char\n",
    "\n",
    "for j in range(int(char_count / 4)):\n",
    "    result += upper[j]\n",
    "    result += lower[j]\n",
    "    result += digit[j]\n",
    "    result += special[j]\n",
    "\n",
    "print(f\"Upper-Case: {upper}\")    \n",
    "print(f\"Lower-Case: {lower}\")    \n",
    "print(f\"Digits: {digit}\")    \n",
    "print(f\"Special: {special}\")       \n",
    "print(f\"New word: {result}\")    \n",
    "\n"
   ]
  }
 ],
 "metadata": {
  "kernelspec": {
   "display_name": "Python 3",
   "language": "python",
   "name": "python3"
  },
  "language_info": {
   "codemirror_mode": {
    "name": "ipython",
    "version": 3
   },
   "file_extension": ".py",
   "mimetype": "text/x-python",
   "name": "python",
   "nbconvert_exporter": "python",
   "pygments_lexer": "ipython3",
   "version": "3.8.2"
  }
 },
 "nbformat": 4,
 "nbformat_minor": 2
}
