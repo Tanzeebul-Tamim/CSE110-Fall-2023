{
 "cells": [
  {
   "cell_type": "markdown",
   "metadata": {},
   "source": [
    "### Question: Filter Empty Strings from a List\n",
    "\n",
    "**Task**: *Write a function that filters out empty strings from a given list of strings.*\n",
    "\n",
    "**Function Signature**: `def filter_empty_strings(a: list) -> list:`\n",
    "\n",
    "**Sample Input & Output**:\n",
    "\n",
    "```python\n",
    "  a = [\"Hey\", \"\", \"there\", \"\", \"what's\", \"\", \"up\", \"\", \"?\"]\n",
    "  result = filter_empty_strings(a)\n",
    "  print(result)  # Output: [\"Hey\", \"there\", \"what's\", \"up\", \"?\"]\n",
    "```\n",
    "\n",
    "````\n",
    "\n",
    "**Explanation**: In this example, the input list contains several empty strings. The function filters these out, resulting in a new list with only the non-empty strings: `[\"Hey\", \"there\", \"what's\", \"up\", \"?\"]`.\n"
   ]
  },
  {
   "cell_type": "code",
   "execution_count": 2,
   "metadata": {},
   "outputs": [
    {
     "name": "stdout",
     "output_type": "stream",
     "text": [
      "['Hey', 'there', \"what's\", 'up', '?']\n"
     ]
    }
   ],
   "source": [
    "def filter_empty_strings(a):\n",
    "    b = []\n",
    "    for i in range(len(a)):\n",
    "        if a[i] != \"\":\n",
    "            b.append(a[i])\n",
    "    return b\n",
    "\n",
    "a = [\"Hey\", \"\", \"there\", \"\", \"what's\", \"\", \"up\", \"\", \"?\"]\n",
    "result = filter_empty_strings(a)\n",
    "print(result)\n"
   ]
  }
 ],
 "metadata": {
  "kernelspec": {
   "display_name": "Python 3",
   "language": "python",
   "name": "python3"
  },
  "language_info": {
   "codemirror_mode": {
    "name": "ipython",
    "version": 3
   },
   "file_extension": ".py",
   "mimetype": "text/x-python",
   "name": "python",
   "nbconvert_exporter": "python",
   "pygments_lexer": "ipython3",
   "version": "3.8.2"
  }
 },
 "nbformat": 4,
 "nbformat_minor": 2
}
