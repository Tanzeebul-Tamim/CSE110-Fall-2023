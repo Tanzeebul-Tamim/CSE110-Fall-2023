{
 "cells": [
  {
   "cell_type": "markdown",
   "metadata": {},
   "source": [
    "### Question: Standard Deviation\n",
    "\n",
    "*Implement a function that calculates the standard deviation of a given array of numbers. The function should first compute the mean of the array, then calculate the variance by finding the average of the squared differences from the mean. Finally, the square root of the variance should be taken to find the standard deviation, which should be rounded to two decimal places.*\n",
    "\n",
    "#### Definition of Standard Deviation\n",
    "\n",
    "Standard deviation is a measure of the amount of variation or dispersion in a set of values. A low standard deviation indicates that the values tend to be close to the mean of the set, while a high standard deviation indicates that the values are spread out over a wider range.\n",
    "\n",
    "#### Mathematical Expressions\n",
    "\n",
    "1. **Mean ($\\mu$)**:\n",
    "   $$ \n",
    "   \\mu = \\frac{1}{N} \\sum_{i=1}^{N} x_i \n",
    "   $$\n",
    "   where:\n",
    "   - $N$ is the number of data points.\n",
    "   - $x_i$ represents each value in the dataset.\n",
    "\n",
    "2. **Variance ($\\sigma^2$)**:\n",
    "   $$ \n",
    "   \\sigma^2 = \\frac{1}{N} \\sum_{i=1}^{N} (x_i - \\mu)^2 \n",
    "   $$\n",
    "\n",
    "3. **Standard Deviation ($\\sigma$)**:\n",
    "   $$ \n",
    "   \\sigma = \\sqrt{\\sigma^2} \n",
    "   $$\n",
    "\n",
    "#### Input:\n",
    "```python\n",
    "a = np.array([2, 4, 1, 5, 3])\n",
    "```\n",
    "\n",
    "#### Output:\n",
    "```\n",
    "1.41\n",
    "```"
   ]
  },
  {
   "cell_type": "code",
   "execution_count": 1,
   "metadata": {},
   "outputs": [
    {
     "name": "stdout",
     "output_type": "stream",
     "text": [
      "1.41\n"
     ]
    }
   ],
   "source": [
    "import numpy as np\n",
    "\n",
    "\n",
    "def stan_dev(arr):\n",
    "    sum = 0\n",
    "    for i in range(len(arr)):\n",
    "        char = arr[i]\n",
    "        sum += char\n",
    "    mean = sum / len(arr)\n",
    "    sum2 = 0\n",
    "    for j in range(len(arr)):\n",
    "        char = arr[j]\n",
    "        sum2 += (char - mean) ** 2\n",
    "    result = (sum2 / len(arr)) ** 0.5\n",
    "    round_result = round(result, 2)\n",
    "    return round_result\n",
    "\n",
    "\n",
    "a = np.array([2, 4, 1, 5, 3])\n",
    "result = stan_dev(a)\n",
    "print(result)"
   ]
  },
  {
   "cell_type": "markdown",
   "metadata": {},
   "source": [
    "### Question: Caesar Cipher Implementation\n",
    "\n",
    "*Write a function that implements the Caesar cipher for a given text, shifting letters by a specified number of positions.*\n",
    "\n",
    "**Function Signature**: `def a(text: str, shift: int) -> str:`\n",
    "\n",
    "**Input**:\n",
    "- `text`: A string containing the plaintext to be encrypted. It may include both lowercase and uppercase letters, as well as spaces.\n",
    "- `shift`: An integer representing the number of positions each letter should be shifted.\n",
    "\n",
    "**Output**:\n",
    "- The function should return the encrypted text as a string, where:\n",
    "  - Each lowercase letter is shifted by the specified amount.\n",
    "  - Uppercase letters and spaces remain unchanged.\n",
    "  - If a shift causes a letter to go past 'z', it should wrap around to the beginning of the alphabet.\n",
    "\n",
    "**Example**:\n",
    "```python\n",
    "e = \"hello world\"\n",
    "result = a(e, 4)\n",
    "print(result)  # Output: \"lipps asvph\"\n",
    "```\n",
    "\n",
    "**Explanation**: In this example, each letter in \"hello world\" is shifted by 4 positions, resulting in \"lipps asvph\". Non-alphabet characters (like the space) remain unchanged."
   ]
  },
  {
   "cell_type": "code",
   "execution_count": 8,
   "metadata": {},
   "outputs": [
    {
     "name": "stdout",
     "output_type": "stream",
     "text": [
      "lipps asvph\n"
     ]
    }
   ],
   "source": [
    "def a(text, shift):\n",
    "    filtered_text = \"\"\n",
    "    for i in range(len(text)):\n",
    "        char = text[i]\n",
    "        ascii_value = ord(char)\n",
    "        if 97 <= ascii_value <= 122:\n",
    "            shifted_ascii = ascii_value + shift\n",
    "            shifted_char = chr(shifted_ascii)\n",
    "            filtered_text += shifted_char\n",
    "        elif 65 <= ascii_value <= 90 or ascii_value == 32:\n",
    "            filtered_text += char\n",
    "    final_text = \"\"\n",
    "    for j in range(len(filtered_text)):\n",
    "        char = filtered_text[j]\n",
    "        ascii_value = ord(char)\n",
    "        if ascii_value > 122:\n",
    "            b = ascii_value - 122\n",
    "            c = 96 + b\n",
    "            d = chr(c)\n",
    "            final_text += d\n",
    "        else:\n",
    "            final_text += char\n",
    "    return final_text\n",
    "\n",
    "e = \"hello world\"\n",
    "result = a(e, 4)\n",
    "print(result)"
   ]
  }
 ],
 "metadata": {
  "kernelspec": {
   "display_name": "Python 3",
   "language": "python",
   "name": "python3"
  },
  "language_info": {
   "codemirror_mode": {
    "name": "ipython",
    "version": 3
   },
   "file_extension": ".py",
   "mimetype": "text/x-python",
   "name": "python",
   "nbconvert_exporter": "python",
   "pygments_lexer": "ipython3",
   "version": "3.8.2"
  }
 },
 "nbformat": 4,
 "nbformat_minor": 2
}
